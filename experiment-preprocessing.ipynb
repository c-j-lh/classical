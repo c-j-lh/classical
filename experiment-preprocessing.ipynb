{
 "cells": [
  {
   "cell_type": "code",
   "execution_count": 1,
   "metadata": {},
   "outputs": [
    {
     "data": {
      "text/plain": [
       "'\\ncd {TARGETDIR}\\nfind {MIDIFILEDIR} \\\\( -name \"bach*.mid\" -o -name \"beethoven*.mid\" -o -name \"scarlatti*.mid\" \\\\) -type f -exec cp {} . \\\\;\\nfind . -type f -name \"*.mid\" -exec /Applications/MuseScore\\\\ 2.app/Contents/MacOS/mscore {} --export-to {}.mxl \\\\;\\nfor f in *.mxl; do mv \"$f\" \"${f%.mid.mxl}.mxl\"; done\\nls *.mxl > mxl_list.txt\\n'"
      ]
     },
     "execution_count": 1,
     "metadata": {},
     "output_type": "execute_result"
    }
   ],
   "source": [
    "#################\n",
    "# Preprocessing #\n",
    "#################\n",
    "# Scores by other composers from the Bach family have been removed beforehand. \n",
    "# Miscellaneous scores like mass pieces have also been removed; the assumption here is that\n",
    "# since different interpretations of the same piece (e.g. Ave Maria, etc) exist, including\n",
    "# theses pieces might hurt the prediction accuracy, here mostly based on chord progression. \n",
    "# (more exactly, a reduced version of the chord progression.)\n",
    "\n",
    "# In shell, find and copy midi files to target data directory and convert to mxl:\n",
    "'''\n",
    "cd {TARGETDIR}\n",
    "find {MIDIFILEDIR} \\( -name \"bach*.mid\" -o -name \"beethoven*.mid\" -o -name \"scarlatti*.mid\" \\) -type f -exec cp {} . \\;\n",
    "find . -type f -name \"*.mid\" -exec /Applications/MuseScore\\ 2.app/Contents/MacOS/mscore {} --export-to {}.mxl \\;\n",
    "for f in *.mxl; do mv \"$f\" \"${f%.mid.mxl}.mxl\"; done\n",
    "ls *.mxl > mxl_list.txt\n",
    "'''"
   ]
  },
  {
   "cell_type": "code",
   "execution_count": 2,
   "metadata": {
    "scrolled": true
   },
   "outputs": [],
   "source": [
    "#os.system(f'move C:\\\\Users\\\\user\\\\Downloads\\\\Car.pdf C:\\\\Users\\\\user\\\\Downloads\\\\Car2.pdf')\n",
    "for i in range(200):\n",
    "    #print(i)\n",
    "    #os.system(f'move C:\\\\Users\\\\user\\\\Downloads\\\\midi_files\\\\midi_files\\\\{i:03d}.mxl C:\\\\Users\\\\user\\\\Downloads\\\\midi_files\\\\{i:03d}.mxl')\n",
    "    pass\n",
    "    #os.system(f'start \"\" \"C:\\\\Program Files\\\\MuseScore 3\\\\bin\\\\MuseScore3.exe\" C:\\\\Users\\\\user\\\\Downloads\\\\midi_files\\\\midi_files\\\\{i:03d}.midi --export-to C:\\\\Users\\\\user\\\\Downloads\\\\midi_files\\\\mxl_files\\\\{i:03d}.mxl')\n",
    "#!for /l %i in (0, 1, 199) do move C:\\Users\\user\\Downloads\\midi_files\\%i.midi C:\\Users\\user\\Downloads\\midi_files\\midi_files\\%i.midi"
   ]
  },
  {
   "cell_type": "code",
   "execution_count": 3,
   "metadata": {},
   "outputs": [],
   "source": [
    "#!dir \"C:/Users/user/Downloads/midi_files/\""
   ]
  },
  {
   "cell_type": "code",
   "execution_count": 1,
   "metadata": {},
   "outputs": [],
   "source": [
    "from music21 import *\n",
    "import os\n",
    "from os import listdir\n",
    "from os.path import isfile, getsize\n",
    "from tqdm.notebook import *\n",
    "import matplotlib.pyplot as plt"
   ]
  },
  {
   "cell_type": "code",
   "execution_count": 2,
   "metadata": {},
   "outputs": [],
   "source": [
    "# timeout function that lets move on beyond too big files.\n",
    "# by Thomas Ahle: http://stackoverflow.com/a/22348885\n",
    "import signal\n",
    "\n",
    "class timeout:\n",
    "    def __init__(self, seconds=1, error_message='Timeout'):\n",
    "        self.seconds = seconds\n",
    "        self.error_message = error_message\n",
    "    def handle_timeout(self, signum, frame):\n",
    "        raise TimeoutError(self.error_message)\n",
    "    def __enter__(self):\n",
    "        #signal.signal(signal.SIGALRM, self.handle_timeout)\n",
    "        pass#signal.alarm(self.seconds)\n",
    "    def __exit__(self, type, value, traceback):\n",
    "        pass#signal.alarm(0)"
   ]
  },
  {
   "cell_type": "code",
   "execution_count": 3,
   "metadata": {},
   "outputs": [
    {
     "name": "stdout",
     "output_type": "stream",
     "text": [
      "4\n"
     ]
    }
   ],
   "source": [
    "composers = (\"Bach\", \"Mozart\", \"Beethoven\", \"Debussy\")\n",
    "print(len(composers))"
   ]
  },
  {
   "cell_type": "code",
   "execution_count": 14,
   "metadata": {},
   "outputs": [],
   "source": [
    "def parse(mxllist, composer):\n",
    "    import matplotlib.pyplot as plt\n",
    "    composer_list = [f for f in mxllist if f.replace('-', '_').split('_')[0] == composer]\n",
    "    mxldir = 'mxl_files/'\n",
    "    \n",
    "    sizes = []\n",
    "    for file in tqdm(composer_list, leave=False):\n",
    "        break\n",
    "        file = file.split('_')[1]\n",
    "        \n",
    "        size = getsize('midi_files/'+file.strip('.mxl')+'.midi')\n",
    "        sizes.append(size)\n",
    "        if (size<=10000): # remove too short scores that may contain no notes\n",
    "            print(f'warning: file \"{file}\" too small')\n",
    "            \n",
    "        #with timeout(seconds=6000):\n",
    "        try:\n",
    "            s = converter.parse(mxldir+file)\n",
    "            try:\n",
    "                k = s.flat.keySignature.sharps\n",
    "            except AttributeError:\n",
    "                k = s.analyze('key').sharps\n",
    "            except:\n",
    "                with open('{}-parsed.txt'.format(composer), 'a') as output_file:            \n",
    "                    output_file.write('key could not by analyzed\\n')\n",
    "                with open('{}-transposed.txt'.format(composer), 'a') as output_file:            \n",
    "                    output_file.write('key could not by analyzed\\n')\n",
    "                continue\n",
    "            t = s.transpose((k*5)%12)\n",
    "        except:\n",
    "            print(f'warning: file \"{file}\" music21 error')\n",
    "            with open('{}-parsed.txt'.format(composer), 'a') as output_file:\n",
    "                output_file.write('timeout\\n')\n",
    "            with open('{}-transposed.txt'.format(composer), 'a') as output_file:            \n",
    "                output_file.write('timeout\\n')\n",
    "            continue\n",
    "\n",
    "        fp_s = converter.freeze(s, fmt='pickle')\n",
    "        fp_t = converter.freeze(t, fmt='pickle')\n",
    "\n",
    "        with open('{}-parsed.txt'.format(composer), 'a') as output_file:\n",
    "            output_file.write(fp_s+'\\n')\n",
    "        with open('{}-transposed.txt'.format(composer), 'a') as output_file:            \n",
    "            output_file.write(fp_t+'\\n')\n",
    "    \n",
    "    plt.boxplot(sizes)"
   ]
  },
  {
   "cell_type": "code",
   "execution_count": 15,
   "metadata": {},
   "outputs": [
    {
     "data": {
      "application/vnd.jupyter.widget-view+json": {
       "model_id": "6cc3e8120ae84f59ad1eb8ac25675f16",
       "version_major": 2,
       "version_minor": 0
      },
      "text/plain": [
       "HBox(children=(FloatProgress(value=0.0, max=4.0), HTML(value='')))"
      ]
     },
     "metadata": {},
     "output_type": "display_data"
    },
    {
     "data": {
      "application/vnd.jupyter.widget-view+json": {
       "model_id": "0edfb6d3c272434cabeca75c14915506",
       "version_major": 2,
       "version_minor": 0
      },
      "text/plain": [
       "HBox(children=(FloatProgress(value=0.0, max=1965.0), HTML(value='')))"
      ]
     },
     "metadata": {},
     "output_type": "display_data"
    },
    {
     "data": {
      "application/vnd.jupyter.widget-view+json": {
       "model_id": "6edfc79b65524f609a180d9ec6584d54",
       "version_major": 2,
       "version_minor": 0
      },
      "text/plain": [
       "HBox(children=(FloatProgress(value=0.0, max=568.0), HTML(value='')))"
      ]
     },
     "metadata": {},
     "output_type": "display_data"
    },
    {
     "data": {
      "application/vnd.jupyter.widget-view+json": {
       "model_id": "ea20b01bb99540fe8f8c8a424e66b362",
       "version_major": 2,
       "version_minor": 0
      },
      "text/plain": [
       "HBox(children=(FloatProgress(value=0.0, max=290.0), HTML(value='')))"
      ]
     },
     "metadata": {},
     "output_type": "display_data"
    },
    {
     "data": {
      "application/vnd.jupyter.widget-view+json": {
       "model_id": "c857877fcafb466f8a23cf76e74ab7e5",
       "version_major": 2,
       "version_minor": 0
      },
      "text/plain": [
       "HBox(children=(FloatProgress(value=0.0, max=149.0), HTML(value='')))"
      ]
     },
     "metadata": {},
     "output_type": "display_data"
    },
    {
     "name": "stdout",
     "output_type": "stream",
     "text": [
      "\n"
     ]
    },
    {
     "data": {
      "text/plain": [
       "\"parse(mxllist, 'bach')\\nparse(mxllist, 'beethoven')\\nparse(mxllist, 'debussy')\\nparse(mxllist, 'scarlatti')\\nparse(mxllist, 'victoria')\""
      ]
     },
     "execution_count": 15,
     "metadata": {},
     "output_type": "execute_result"
    },
    {
     "data": {
      "image/png": "[encoded data removed]",
      "text/plain": [
       "<Figure size 432x288 with 1 Axes>"
      ]
     },
     "metadata": {
      "image/png": {
       "height": 248,
       "width": 386
      },
      "needs_background": "light"
     },
     "output_type": "display_data"
    }
   ],
   "source": [
    "with open('mxl-list.txt', 'r') as f:\n",
    "    mxllist = [line.strip() for line in f.readlines()]\n",
    "\n",
    "for composer in tqdm(composers):\n",
    "    with open(f'{composer}-parsed.txt', 'w') as file: pass\n",
    "    with open(f'{composer}-transposed.txt', 'w') as file: pass\n",
    "    parse(mxllist, composer)\n",
    "'''parse(mxllist, 'bach')\n",
    "parse(mxllist, 'beethoven')\n",
    "parse(mxllist, 'debussy')\n",
    "parse(mxllist, 'scarlatti')\n",
    "parse(mxllist, 'victoria')'''"
   ]
  },
  {
   "cell_type": "code",
   "execution_count": null,
   "metadata": {},
   "outputs": [],
   "source": [
    "for composer in composers:\n",
    "    with open(f'{composer}-parsed.txt', 'r')"
   ]
  },
  {
   "cell_type": "code",
   "execution_count": 14,
   "metadata": {},
   "outputs": [],
   "source": [
    "######################\n",
    "# Feature Extraction #\n",
    "######################"
   ]
  },
  {
   "cell_type": "code",
   "execution_count": 4,
   "metadata": {},
   "outputs": [],
   "source": [
    "import itertools\n",
    "from collections import Counter\n",
    "\n",
    "flatten = lambda l: [item for sublist in l for item in sublist] # by Alex Martinelli & Guillaume Jacquenot: http://stackoverflow.com/a/952952\n",
    "uniqify = lambda seq: list(set(seq))"
   ]
  },
  {
   "cell_type": "code",
   "execution_count": 5,
   "metadata": {},
   "outputs": [],
   "source": [
    "# Define known chords\n",
    "major, minor, suspended, augmented, diminished, major_sixth, minor_sixth, dominant_seventh, major_seventh, minor_seventh, half_diminished_seventh, diminished_seventh, major_ninth, dominant_ninth, dominant_minor_ninth, minor_ninth = [0,4,7],[0,3,7],[0,5,7],[0,4,8],[0,3,6],[0,4,7,9],[0,3,7,9],[0,4,7,10],[0,4,7,11],[0,3,7,10],[0,3,6,10],[0,3,6,9],[0,2,4,7,11],[0,2,4,7,10],[0,1,4,7,10],[0,2,3,7,10]\n",
    "chord_types_list = [major, minor, suspended, augmented, diminished, major_sixth, minor_sixth, dominant_seventh, major_seventh, minor_seventh, half_diminished_seventh, diminished_seventh, major_ninth, dominant_ninth, dominant_minor_ninth, minor_ninth]\n",
    "chord_types_string = ['major', 'minor', 'suspended', 'augmented', 'diminished', 'major_sixth', 'minor_sixth', 'dominant_seventh', 'major_seventh', 'minor_seventh', 'half_diminished_seventh', 'diminished_seventh', 'major_ninth', 'dominant_ninth', 'dominant_minor_ninth', 'minor_ninth']\n",
    "\n",
    "roots = list(range(12))\n",
    "chord_orders = flatten([[{(n+r)%12 for n in v} for v in chord_types_list] for r in roots])\n",
    "unique_orders = []\n",
    "for i in range(192):\n",
    "    if chord_orders[i] not in unique_orders:\n",
    "        unique_orders.append(chord_orders[i])"
   ]
  },
  {
   "cell_type": "code",
   "execution_count": 6,
   "metadata": {},
   "outputs": [],
   "source": [
    "def merge_chords(s):\n",
    "    sf = s.flat\n",
    "    chords_by_offset = []\n",
    "    for i in range(int(sf.highestTime)):\n",
    "        chords_by_offset.append(chord.Chord(sf.getElementsByOffset(i,i+1, includeEndBoundary=False, mustFinishInSpan=False, mustBeginInSpan=False).notes))\n",
    "    return chords_by_offset\n",
    "\n",
    "def find_neighbor_note(n, k):\n",
    "    # find notes k steps away from n\n",
    "    return (roots[n-6:]+roots[:(n+6)%12])[6+k], (roots[n-6:]+roots[:(n+6)%12])[6-k]\n",
    "\n",
    "def find_note_distance(n1, n2):\n",
    "    return abs(6 - (roots[n1-6:]+roots[:(n1+6)%12]).index(n2))\n",
    "\n",
    "def find_chord_distance(set1, set2):\n",
    "    d1, d2 = set1.difference(set2), set2.difference(set1)\n",
    "    if len(d1) < len(d2):\n",
    "        longer, shorter = d2, list(d1)\n",
    "    else:\n",
    "        longer, shorter = d1, list(d2)\n",
    "    distances = []\n",
    "    for combination in itertools.combinations(longer, len(shorter)):\n",
    "        for permutation in itertools.permutations(combination):\n",
    "            dist_p = abs(len(d1)-len(d2))*3 # length difference means notes need to be added/deleted. weighted by 3\n",
    "            for i in range(len(shorter)):\n",
    "                dist_p += find_note_distance(shorter[i], permutation[i])\n",
    "            distances.append(dist_p)\n",
    "    return min(distances)"
   ]
  },
  {
   "cell_type": "code",
   "execution_count": 7,
   "metadata": {},
   "outputs": [],
   "source": [
    "CACHE = dict()\n",
    "\n",
    "def find_closest_chord(c, cache=CACHE):\n",
    "    if len(c) == 0:\n",
    "        return -1 # use -1 for rest (chords are 0 to 191)\n",
    "    \n",
    "    # retrieve from existing knowledge\n",
    "    o_str, o, p = str(c.normalOrder), set(c.normalOrder), c.pitchClasses\n",
    "    if o in chord_orders:\n",
    "        return chord_orders.index(o)\n",
    "        # the above root sometimes differs from c.findRoot(), which might be more reliable.\n",
    "        # however, the errors are rare and it should be good enough for now.\n",
    "    if o_str in cache.keys():\n",
    "        return cache[o_str]\n",
    "    \n",
    "    # find closest chord from scratch\n",
    "    chord_distances = dict()\n",
    "    most_common_note = Counter(c.pitchClasses).most_common(1)[0][0]\n",
    "\n",
    "    for i in range(192):\n",
    "        d = find_chord_distance(o, chord_orders[i])\n",
    "        # prioritize found chord's root note if most common note of the chord.\n",
    "        if int(i/16) == most_common_note:\n",
    "            d += -1\n",
    "        if chord_distances.get(d) == None:\n",
    "            chord_distances[d] = []\n",
    "        chord_distances[d].append(i)\n",
    "\n",
    "    # if multiple chords are tied, use first one (could be better)\n",
    "    closest_chord = chord_distances[min(chord_distances.keys())][0]\n",
    "    \n",
    "    cache[o_str] = closest_chord\n",
    "    return closest_chord"
   ]
  },
  {
   "cell_type": "code",
   "execution_count": 8,
   "metadata": {},
   "outputs": [],
   "source": [
    "def extract_features(parsed_list, idx):\n",
    "    s = converter.thaw(parsed_list[idx])\n",
    "    chords_by_offset = merge_chords(s)\n",
    "\n",
    "    chord_sequence = []\n",
    "    for i in range(len(chords_by_offset)):\n",
    "        chord_sequence.append(find_closest_chord(chords_by_offset[i], CACHE))\n",
    "    return chord_sequence"
   ]
  },
  {
   "cell_type": "code",
   "execution_count": 16,
   "metadata": {},
   "outputs": [
    {
     "name": "stdout",
     "output_type": "stream",
     "text": [
      "starting\n",
      "finished stripping\n"
     ]
    },
    {
     "data": {
      "application/vnd.jupyter.widget-view+json": {
       "model_id": "fbbf2d04d3244247b128b6cb25694e88",
       "version_major": 2,
       "version_minor": 0
      },
      "text/plain": [
       "HBox(children=(FloatProgress(value=0.0, max=1.0), HTML(value='')))"
      ]
     },
     "metadata": {},
     "output_type": "display_data"
    },
    {
     "data": {
      "application/vnd.jupyter.widget-view+json": {
       "model_id": "c59fa6303c944698befd42d350f9d4b1",
       "version_major": 2,
       "version_minor": 0
      },
      "text/plain": [
       "HBox(children=(FloatProgress(value=0.0, max=1965.0), HTML(value='')))"
      ]
     },
     "metadata": {},
     "output_type": "display_data"
    },
    {
     "ename": "FileNotFoundError",
     "evalue": "[Errno 2] No such file or directory: 'C:\\\\Users\\\\user\\\\AppData\\\\Local\\\\Temp\\\\music21\\\\key could not by analyzed'",
     "output_type": "error",
     "traceback": [
      "\u001b[1;31m---------------------------------------------------------------------------\u001b[0m",
      "\u001b[1;31mFileNotFoundError\u001b[0m                         Traceback (most recent call last)",
      "\u001b[1;32m<ipython-input-16-ef4d3f1e16b7>\u001b[0m in \u001b[0;36m<module>\u001b[1;34m\u001b[0m\n\u001b[0;32m     34\u001b[0m     \u001b[1;32mfor\u001b[0m \u001b[0mi\u001b[0m \u001b[1;32min\u001b[0m \u001b[0mtrange\u001b[0m\u001b[1;33m(\u001b[0m\u001b[0mlen\u001b[0m\u001b[1;33m(\u001b[0m\u001b[0mFILES_COMPOSER\u001b[0m\u001b[1;33m)\u001b[0m\u001b[1;33m,\u001b[0m \u001b[0mleave\u001b[0m\u001b[1;33m=\u001b[0m\u001b[1;32mFalse\u001b[0m\u001b[1;33m)\u001b[0m\u001b[1;33m:\u001b[0m\u001b[1;33m\u001b[0m\u001b[1;33m\u001b[0m\u001b[0m\n\u001b[0;32m     35\u001b[0m         \u001b[1;32mwith\u001b[0m \u001b[0mopen\u001b[0m\u001b[1;33m(\u001b[0m\u001b[1;34mf'{composer}-chordsequence.txt'\u001b[0m\u001b[1;33m,\u001b[0m \u001b[1;34m'a'\u001b[0m\u001b[1;33m)\u001b[0m \u001b[1;32mas\u001b[0m \u001b[0mf\u001b[0m\u001b[1;33m:\u001b[0m\u001b[1;33m\u001b[0m\u001b[1;33m\u001b[0m\u001b[0m\n\u001b[1;32m---> 36\u001b[1;33m             \u001b[0mf\u001b[0m\u001b[1;33m.\u001b[0m\u001b[0mwrite\u001b[0m\u001b[1;33m(\u001b[0m\u001b[0mstr\u001b[0m\u001b[1;33m(\u001b[0m\u001b[0mextract_features\u001b[0m\u001b[1;33m(\u001b[0m\u001b[0mFILES_COMPOSER\u001b[0m\u001b[1;33m,\u001b[0m \u001b[0mi\u001b[0m\u001b[1;33m)\u001b[0m\u001b[1;33m)\u001b[0m\u001b[1;33m+\u001b[0m\u001b[1;34m'\\n'\u001b[0m\u001b[1;33m)\u001b[0m\u001b[1;33m\u001b[0m\u001b[1;33m\u001b[0m\u001b[0m\n\u001b[0m\u001b[0;32m     37\u001b[0m \u001b[1;33m\u001b[0m\u001b[0m\n\u001b[0;32m     38\u001b[0m '''\n",
      "\u001b[1;32m<ipython-input-8-352668cfdd26>\u001b[0m in \u001b[0;36mextract_features\u001b[1;34m(parsed_list, idx)\u001b[0m\n\u001b[0;32m      1\u001b[0m \u001b[1;32mdef\u001b[0m \u001b[0mextract_features\u001b[0m\u001b[1;33m(\u001b[0m\u001b[0mparsed_list\u001b[0m\u001b[1;33m,\u001b[0m \u001b[0midx\u001b[0m\u001b[1;33m)\u001b[0m\u001b[1;33m:\u001b[0m\u001b[1;33m\u001b[0m\u001b[1;33m\u001b[0m\u001b[0m\n\u001b[1;32m----> 2\u001b[1;33m     \u001b[0ms\u001b[0m \u001b[1;33m=\u001b[0m \u001b[0mconverter\u001b[0m\u001b[1;33m.\u001b[0m\u001b[0mthaw\u001b[0m\u001b[1;33m(\u001b[0m\u001b[0mparsed_list\u001b[0m\u001b[1;33m[\u001b[0m\u001b[0midx\u001b[0m\u001b[1;33m]\u001b[0m\u001b[1;33m)\u001b[0m\u001b[1;33m\u001b[0m\u001b[1;33m\u001b[0m\u001b[0m\n\u001b[0m\u001b[0;32m      3\u001b[0m     \u001b[0mchords_by_offset\u001b[0m \u001b[1;33m=\u001b[0m \u001b[0mmerge_chords\u001b[0m\u001b[1;33m(\u001b[0m\u001b[0ms\u001b[0m\u001b[1;33m)\u001b[0m\u001b[1;33m\u001b[0m\u001b[1;33m\u001b[0m\u001b[0m\n\u001b[0;32m      4\u001b[0m \u001b[1;33m\u001b[0m\u001b[0m\n\u001b[0;32m      5\u001b[0m     \u001b[0mchord_sequence\u001b[0m \u001b[1;33m=\u001b[0m \u001b[1;33m[\u001b[0m\u001b[1;33m]\u001b[0m\u001b[1;33m\u001b[0m\u001b[1;33m\u001b[0m\u001b[0m\n",
      "\u001b[1;32m~\\anaconda3\\lib\\site-packages\\music21\\converter\\__init__.py\u001b[0m in \u001b[0;36mthaw\u001b[1;34m(fp, zipType)\u001b[0m\n\u001b[0;32m   1200\u001b[0m     \u001b[1;32mfrom\u001b[0m \u001b[0mmusic21\u001b[0m \u001b[1;32mimport\u001b[0m \u001b[0mfreezeThaw\u001b[0m\u001b[1;33m\u001b[0m\u001b[1;33m\u001b[0m\u001b[0m\n\u001b[0;32m   1201\u001b[0m     \u001b[0mv\u001b[0m \u001b[1;33m=\u001b[0m \u001b[0mfreezeThaw\u001b[0m\u001b[1;33m.\u001b[0m\u001b[0mStreamThawer\u001b[0m\u001b[1;33m(\u001b[0m\u001b[1;33m)\u001b[0m\u001b[1;33m\u001b[0m\u001b[1;33m\u001b[0m\u001b[0m\n\u001b[1;32m-> 1202\u001b[1;33m     \u001b[0mv\u001b[0m\u001b[1;33m.\u001b[0m\u001b[0mopen\u001b[0m\u001b[1;33m(\u001b[0m\u001b[0mfp\u001b[0m\u001b[1;33m,\u001b[0m \u001b[0mzipType\u001b[0m\u001b[1;33m=\u001b[0m\u001b[0mzipType\u001b[0m\u001b[1;33m)\u001b[0m\u001b[1;33m\u001b[0m\u001b[1;33m\u001b[0m\u001b[0m\n\u001b[0m\u001b[0;32m   1203\u001b[0m     \u001b[1;32mreturn\u001b[0m \u001b[0mv\u001b[0m\u001b[1;33m.\u001b[0m\u001b[0mstream\u001b[0m\u001b[1;33m\u001b[0m\u001b[1;33m\u001b[0m\u001b[0m\n\u001b[0;32m   1204\u001b[0m \u001b[1;33m\u001b[0m\u001b[0m\n",
      "\u001b[1;32m~\\anaconda3\\lib\\site-packages\\music21\\freezeThaw.py\u001b[0m in \u001b[0;36mopen\u001b[1;34m(self, fp, zipType)\u001b[0m\n\u001b[0;32m    935\u001b[0m             \u001b[0mfp\u001b[0m \u001b[1;33m=\u001b[0m \u001b[0mstr\u001b[0m\u001b[1;33m(\u001b[0m\u001b[0mdirectory\u001b[0m \u001b[1;33m/\u001b[0m \u001b[0mfp\u001b[0m\u001b[1;33m)\u001b[0m\u001b[1;33m\u001b[0m\u001b[1;33m\u001b[0m\u001b[0m\n\u001b[0;32m    936\u001b[0m \u001b[1;33m\u001b[0m\u001b[0m\n\u001b[1;32m--> 937\u001b[1;33m         \u001b[0mf\u001b[0m \u001b[1;33m=\u001b[0m \u001b[0mopen\u001b[0m\u001b[1;33m(\u001b[0m\u001b[0mfp\u001b[0m\u001b[1;33m,\u001b[0m \u001b[1;34m'rb'\u001b[0m\u001b[1;33m)\u001b[0m\u001b[1;33m\u001b[0m\u001b[1;33m\u001b[0m\u001b[0m\n\u001b[0m\u001b[0;32m    938\u001b[0m         \u001b[0mfileData\u001b[0m \u001b[1;33m=\u001b[0m \u001b[0mf\u001b[0m\u001b[1;33m.\u001b[0m\u001b[0mread\u001b[0m\u001b[1;33m(\u001b[0m\u001b[1;33m)\u001b[0m  \u001b[1;31m# TODO: do not read entire file\u001b[0m\u001b[1;33m\u001b[0m\u001b[1;33m\u001b[0m\u001b[0m\n\u001b[0;32m    939\u001b[0m         \u001b[0mf\u001b[0m\u001b[1;33m.\u001b[0m\u001b[0mclose\u001b[0m\u001b[1;33m(\u001b[0m\u001b[1;33m)\u001b[0m\u001b[1;33m\u001b[0m\u001b[1;33m\u001b[0m\u001b[0m\n",
      "\u001b[1;31mFileNotFoundError\u001b[0m: [Errno 2] No such file or directory: 'C:\\\\Users\\\\user\\\\AppData\\\\Local\\\\Temp\\\\music21\\\\key could not by analyzed'"
     ]
    }
   ],
   "source": [
    "print('starting')\n",
    "FILES_COMPOSERs = []\n",
    "for composer in composers:\n",
    "    with open(f'{composer}-parsed.txt', 'r') as f:\n",
    "        FILES_COMPOSER = [line.strip() for line in f.readlines()]\n",
    "        FILES_COMPOSERs.append(FILES_COMPOSER)\n",
    "print('finished stripping')\n",
    "'''with open('bach-parsed.txt', 'r') as f:\n",
    "    FILES_BACH = [line.strip() for line in f.readlines()]\n",
    "with open('beethoven-parsed.txt', 'r') as f:\n",
    "    FILES_BEETHOVEN = [line.strip() for line in f.readlines()]\n",
    "with open('debussy-parsed.txt', 'r') as f:\n",
    "    FILES_DEBUSSY = [line.strip() for line in f.readlines()]\n",
    "with open('scarlatti-parsed.txt', 'r') as f:\n",
    "    FILES_SCARLATTI = [line.strip() for line in f.readlines()]\n",
    "with open('victoria-parsed.txt', 'r') as f:\n",
    "    FILES_VICTORIA = [line.strip() for line in f.readlines()]'''\n",
    "\n",
    "def _extr_feat(composer, FILES_COMPOSER):\n",
    "    print(f'{composer} called')\n",
    "    with open(f'{composer}-chordsequence.txt', 'w') as file: pass\n",
    "    for i in trange(len(FILES_COMPOSER), leave=False):\n",
    "        with open(f'{composer}-chordsequence.txt', 'a') as f:\n",
    "            f.write(str(extract_features(FILES_COMPOSER, i))+'\\n')\n",
    "\n",
    "'''\n",
    "from multiprocessing import Pool\n",
    "with Pool(4) as pool:\n",
    "    results = pool.starmap(_extr_feat, zip(composers, FILES_COMPOSERs))\n",
    "\n",
    "'''\n",
    "for composer, FILES_COMPOSER in zip(tqdm(composers[:1]), FILES_COMPOSERs):\n",
    "    with open(f'{composer}-chordsequence.txt', 'w') as file: pass\n",
    "    for i in trange(len(FILES_COMPOSER), leave=False):\n",
    "        with open(f'{composer}-chordsequence.txt', 'a') as f:\n",
    "            f.write(str(extract_features(FILES_COMPOSER, i))+'\\n')\n",
    "     \n",
    "'''\n",
    "for i in range(len(FILES_BACH)):\n",
    "    with open('bach-chordsequence.txt', 'a') as f:\n",
    "        f.write(str(extract_features(FILES_BACH, i))+'\\n')\n",
    "for i in range(len(FILES_BEETHOVEN)):\n",
    "    with open('beethoven-chordsequence.txt', 'a') as f:\n",
    "        f.write(str(extract_features(FILES_BEETHOVEN, i))+'\\n')\n",
    "for i in range(len(FILES_DEBUSSY)):\n",
    "    with open('debussy-chordsequence.txt', 'a') as f:\n",
    "        f.write(str(extract_features(FILES_DEBUSSY, i))+'\\n')\n",
    "for i in range(len(FILES_SCARLATTI)):\n",
    "    with open('scarlatti-chordsequence.txt', 'a') as f:\n",
    "        f.write(str(extract_features(FILES_SCARLATTI, i))+'\\n')\n",
    "for i in range(len(FILES_VICTORIA)):y \n",
    "    with open('victoria-chordsequence.txt', 'a') as f:\n",
    "        f.write(str(extract_features(FILES_VICTORIA, i))+'\\n')'''"
   ]
  },
  {
   "cell_type": "code",
   "execution_count": 13,
   "metadata": {},
   "outputs": [
    {
     "data": {
      "text/plain": [
       "[50, 50, 50, 50]"
      ]
     },
     "execution_count": 13,
     "metadata": {},
     "output_type": "execute_result"
    }
   ],
   "source": [
    "[len(a) for a in FILES_COMPOSERs]"
   ]
  },
  {
   "cell_type": "code",
   "execution_count": 10,
   "metadata": {},
   "outputs": [],
   "source": [
    "# Additional feature set: extract durations of notes, chords, and rests\n",
    "def find_length_add_to_list(cnr, out_list):\n",
    "    try:\n",
    "        out_list.append(cnr.duration.fullName)\n",
    "    except:\n",
    "        out_list.append(str(cnr.duration.quarterLength))\n",
    "\n",
    "def extract_cnr_duration(piece):\n",
    "    s = converter.thaw(piece).flat\n",
    "    chords, notes, rests = [], [], []\n",
    "    for c in s.getElementsByClass(chord.Chord):\n",
    "        find_length_add_to_list(c, chords)\n",
    "    for n in s.getElementsByClass(note.Note):\n",
    "        find_length_add_to_list(n, notes)\n",
    "    for r in s.getElementsByClass(note.Rest):\n",
    "        find_length_add_to_list(r, rests)\n",
    "    elements = ['chord|'+d for d in chords] + ['note|'+d for d in notes] + ['rest|'+d for d in rests]\n",
    "    return ';'.join(elements)"
   ]
  },
  {
   "cell_type": "code",
   "execution_count": 11,
   "metadata": {},
   "outputs": [
    {
     "data": {
      "application/vnd.jupyter.widget-view+json": {
       "model_id": "6c678a7d13df4e6a8e65122c5edc9438",
       "version_major": 2,
       "version_minor": 0
      },
      "text/plain": [
       "HBox(children=(FloatProgress(value=0.0, max=4.0), HTML(value='')))"
      ]
     },
     "metadata": {},
     "output_type": "display_data"
    },
    {
     "data": {
      "application/vnd.jupyter.widget-view+json": {
       "model_id": "",
       "version_major": 2,
       "version_minor": 0
      },
      "text/plain": [
       "HBox(children=(FloatProgress(value=0.0, max=50.0), HTML(value='')))"
      ]
     },
     "metadata": {},
     "output_type": "display_data"
    },
    {
     "data": {
      "application/vnd.jupyter.widget-view+json": {
       "model_id": "",
       "version_major": 2,
       "version_minor": 0
      },
      "text/plain": [
       "HBox(children=(FloatProgress(value=0.0, max=50.0), HTML(value='')))"
      ]
     },
     "metadata": {},
     "output_type": "display_data"
    },
    {
     "data": {
      "application/vnd.jupyter.widget-view+json": {
       "model_id": "",
       "version_major": 2,
       "version_minor": 0
      },
      "text/plain": [
       "HBox(children=(FloatProgress(value=0.0, max=50.0), HTML(value='')))"
      ]
     },
     "metadata": {},
     "output_type": "display_data"
    },
    {
     "data": {
      "application/vnd.jupyter.widget-view+json": {
       "model_id": "",
       "version_major": 2,
       "version_minor": 0
      },
      "text/plain": [
       "HBox(children=(FloatProgress(value=0.0, max=50.0), HTML(value='')))"
      ]
     },
     "metadata": {},
     "output_type": "display_data"
    },
    {
     "name": "stdout",
     "output_type": "stream",
     "text": [
      "\n"
     ]
    },
    {
     "data": {
      "text/plain": [
       "\"for piece in FILES_BACH:\\n    with open('bach-durations.txt', 'a') as f:\\n        f.write(extract_cnr_duration(piece)+'\\n')\\nfor piece in FILES_BEETHOVEN:\\n    with open('beethoven-durations.txt', 'a') as f:\\n        f.write(extract_cnr_duration(piece)+'\\n')\\nfor piece in FILES_DEBUSSY:\\n    with open('debussy-durations.txt', 'a') as f:\\n        f.write(extract_cnr_duration(piece)+'\\n')\\nfor piece in FILES_SCARLATTI:\\n    with open('scarlatti-durations.txt', 'a') as f:\\n        f.write(extract_cnr_duration(piece)+'\\n')\\nfor piece in FILES_VICTORIA:\\n    with open('victoria-durations.txt', 'a') as f:\\n        f.write(extract_cnr_duration(piece)+'\\n')\""
      ]
     },
     "execution_count": 11,
     "metadata": {},
     "output_type": "execute_result"
    }
   ],
   "source": [
    "for composer, FILES_COMPOSER in zip(tqdm(composers), FILES_COMPOSERs):\n",
    "    with open(f'{composer}-durations.txt', 'w') as f: pass\n",
    "    for piece in tqdm(FILES_COMPOSER, leave=False):\n",
    "        with open(f'{composer}-durations.txt', 'a') as f:\n",
    "            f.write(extract_cnr_duration(piece)+'\\n')\n",
    "    \n",
    "'''for piece in FILES_BACH:\n",
    "    with open('bach-durations.txt', 'a') as f:\n",
    "        f.write(extract_cnr_duration(piece)+'\\n')\n",
    "for piece in FILES_BEETHOVEN:\n",
    "    with open('beethoven-durations.txt', 'a') as f:\n",
    "        f.write(extract_cnr_duration(piece)+'\\n')\n",
    "for piece in FILES_DEBUSSY:\n",
    "    with open('debussy-durations.txt', 'a') as f:\n",
    "        f.write(extract_cnr_duration(piece)+'\\n')\n",
    "for piece in FILES_SCARLATTI:\n",
    "    with open('scarlatti-durations.txt', 'a') as f:\n",
    "        f.write(extract_cnr_duration(piece)+'\\n')\n",
    "for piece in FILES_VICTORIA:\n",
    "    with open('victoria-durations.txt', 'a') as f:\n",
    "        f.write(extract_cnr_duration(piece)+'\\n')'''"
   ]
  }
 ],
 "metadata": {
  "kernelspec": {
   "display_name": "Python 3",
   "language": "python",
   "name": "python3"
  },
  "language_info": {
   "codemirror_mode": {
    "name": "ipython",
    "version": 3
   },
   "file_extension": ".py",
   "mimetype": "text/x-python",
   "name": "python",
   "nbconvert_exporter": "python",
   "pygments_lexer": "ipython3",
   "version": "3.7.6"
  }
 },
 "nbformat": 4,
 "nbformat_minor": 2
}
