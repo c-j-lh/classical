{
 "cells": [
  {
   "cell_type": "code",
   "execution_count": 45,
   "metadata": {},
   "outputs": [],
   "source": [
    "# Define known chords\n",
    "major, minor, suspended, augmented, diminished, major_sixth, minor_sixth, dominant_seventh, major_seventh, minor_seventh, half_diminished_seventh, diminished_seventh, major_ninth, dominant_ninth, dominant_minor_ninth, minor_ninth = [0,4,7],[0,3,7],[0,5,7],[0,4,8],[0,3,6],[0,4,7,9],[0,3,7,9],[0,4,7,10],[0,4,7,11],[0,3,7,10],[0,3,6,10],[0,3,6,9],[0,2,4,7,11],[0,2,4,7,10],[0,1,4,7,10],[0,2,3,7,10]\n",
    "chord_types_list = [major, minor, suspended, augmented, diminished, major_sixth, minor_sixth, dominant_seventh, major_seventh, minor_seventh, half_diminished_seventh, diminished_seventh, major_ninth, dominant_ninth, dominant_minor_ninth, minor_ninth]\n",
    "chord_types_string = ['major', 'minor', 'suspended', 'augmented', 'diminished', 'major_sixth', 'minor_sixth', 'dominant_seventh', 'major_seventh', 'minor_seventh', 'half_diminished_seventh', 'diminished_seventh', 'major_ninth', 'dominant_ninth', 'dominant_minor_ninth', 'minor_ninth']\n",
    "\n",
    "roots = list(range(12))\n",
    "chord_orders = [{(n+r)%12 for n in v} for r in roots for v in chord_types_list]\n",
    "chord_names = [' '.join(('C', 'C#', 'D', 'D#', 'E', 'F', 'F#', 'G', 'G#', 'A', 'A#', 'B')[note] for note in chord) for chord in chord_orders] + [\"rest\"]"
   ]
  },
  {
   "cell_type": "code",
   "execution_count": 46,
   "metadata": {
    "scrolled": true
   },
   "outputs": [
    {
     "name": "stdout",
     "output_type": "stream",
     "text": [
      "(<chord>, <count (frequency of chord in composer's pieces)>)\n",
      "Bach\n",
      "  C# D E F# A   6.39%\n",
      "   C D E G B    4.89%\n",
      "  D E F# G B    4.32%\n",
      "  D F# G A B    3.80%\n",
      "  C# E G# A B   3.48%\n",
      "\n",
      "Mozart\n",
      "  D D# F G A#   5.43%\n",
      "  C D F A A#    4.78%\n",
      "   C D E G B    4.36%\n",
      "  C D D# G A#   4.15%\n",
      "   C E F G A    3.38%\n",
      "\n",
      "Beethoven\n",
      "   C D E G B    5.15%\n",
      "   C E F G A    3.62%\n",
      "  C D F A A#    2.76%\n",
      "  D D# F G A#   2.55%\n",
      "  D F# G A B    2.12%\n",
      "\n",
      "Debussy\n",
      "   C D E G B    3.88%\n",
      "  C D E G A#    2.87%\n",
      " C# D# F G# B   2.69%\n",
      " D# E F# G# B   2.37%\n",
      "  D E F# G# B   2.08%\n",
      "\n"
     ]
    },
    {
     "data": {
      "text/plain": [
       "False"
      ]
     },
     "execution_count": 46,
     "metadata": {},
     "output_type": "execute_result"
    }
   ],
   "source": [
    "from collections import Counter\n",
    "composers = ('Bach', 'Mozart', 'Beethoven', 'Debussy')\n",
    "\n",
    "print('(<chord>, <count (frequency of chord in composer\\'s pieces)>)')\n",
    "counters, total_counts = [], []\n",
    "for composer in composers:\n",
    "    counter = [0 for i in range(len(chord_orders)+1)]\n",
    "    total_count = 0\n",
    "    with open(f'{composer}-chordsequence.txt', 'r') as file:\n",
    "        i = 0 \n",
    "        for piece in file: # each line represents a piece\n",
    "            for chord in map(int, piece.strip('[]\\n').split(', ')):\n",
    "                total_count += 1\n",
    "                if chord == -1:\n",
    "                    counter[-1] += 1\n",
    "                else:\n",
    "                    counter[chord] += 1\n",
    "    chords = list(sorted([(chord, count) for chord, count in enumerate(counter)], key=lambda x:x[1], reverse=True))\n",
    "    print(composer)\n",
    "    print(*[f'{chord_names[chord]:^15s} {100*count/total_count:.2f}%' for chord, count in chords[:5]], sep='\\n', end='\\n\\n')\n",
    "    counters.append(counter)\n",
    "    total_counts.append(total_count)\n",
    "    \n",
    "counters[0] == counters[3]"
   ]
  }
 ],
 "metadata": {
  "kernelspec": {
   "display_name": "Python 3",
   "language": "python",
   "name": "python3"
  },
  "language_info": {
   "codemirror_mode": {
    "name": "ipython",
    "version": 3
   },
   "file_extension": ".py",
   "mimetype": "text/x-python",
   "name": "python",
   "nbconvert_exporter": "python",
   "pygments_lexer": "ipython3",
   "version": "3.7.6"
  }
 },
 "nbformat": 4,
 "nbformat_minor": 4
}
