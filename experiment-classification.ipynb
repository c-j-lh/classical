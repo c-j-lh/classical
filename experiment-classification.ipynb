{
 "cells": [
  {
   "cell_type": "code",
   "execution_count": 127,
   "metadata": {},
   "outputs": [],
   "source": [
    "# most taken from https://github.com/achimkoh/midi-classification\n",
    "##################\n",
    "# Classification #\n",
    "##################\n",
    "composers = (\"Bach\", \"Mozart\", \"Beethoven\", \"Debussy\")"
   ]
  },
  {
   "cell_type": "code",
   "execution_count": 128,
   "metadata": {
    "scrolled": true
   },
   "outputs": [],
   "source": [
    "from sklearn.model_selection import KFold, StratifiedKFold\n",
    "from sklearn.metrics import confusion_matrix, accuracy_score, f1_score, precision_score, recall_score\n",
    "from sklearn import svm, linear_model, naive_bayes, neural_network, neighbors, ensemble\n",
    "from sklearn.feature_extraction.text import TfidfVectorizer, CountVectorizer, HashingVectorizer\n",
    "import random, math\n",
    "import numpy as np\n",
    "import scipy.sparse as sp\n",
    "from datetime import datetime\n",
    "from collections import Counter\n",
    "from itertools import combinations\n",
    "from tqdm.notebook import *"
   ]
  },
  {
   "cell_type": "code",
   "execution_count": 129,
   "metadata": {},
   "outputs": [],
   "source": [
    "with open('mxl-list.txt', 'r') as f:\n",
    "    dataset = [piece.strip() for piece in f.readlines()]\n",
    "    \n",
    "    composer_datas = []\n",
    "    for composer in composers:\n",
    "        composer_data = [f for f in dataset if f.replace('-', '_').split('_')[0] == composer]\n",
    "        composer_datas.append(composer_data)\n",
    "        \n",
    "    '''bach_data = [f for f in dataset if f.replace('-', '_').split('_')[0] == 'bach']\n",
    "    beethoven_data = [f for f in dataset if f.replace('-', '_').split('_')[0] == 'beethoven']\n",
    "    debussy_data = [f for f in dataset if f.replace('-', '_').split('_')[0] == 'debussy']\n",
    "    scarlatti_data = [f for f in dataset if f.replace('-', '_').split('_')[0] == 'scarlatti']\n",
    "    victoria_data = [f for f in dataset if f.replace('-', '_').split('_')[0] == 'victoria']'''"
   ]
  },
  {
   "cell_type": "code",
   "execution_count": 130,
   "metadata": {},
   "outputs": [
    {
     "data": {
      "text/plain": [
       "\"with open('bach-chordsequence.txt', 'r') as f:\\n    BACH = [' '.join(piece.strip('[]\\n').split(', ')) for piece in f.readlines()]\\n    BACH = [(BACH[i], bach_data[i]) for i in range(len(BACH))]\\nwith open('beethoven-chordsequence.txt', 'r') as f:\\n    BEETHOVEN = [' '.join(piece.strip('[]\\n').split(', ')) for piece in f.readlines()]\\n    BEETHOVEN = [(BEETHOVEN[i], beethoven_data[i]) for i in range(len(BEETHOVEN))]\\nwith open('debussy-chordsequence.txt', 'r') as f:\\n    DEBUSSY = [' '.join(piece.strip('[]\\n').split(', ')) for piece in f.readlines()]\\n    DEBUSSY = [(DEBUSSY[i], debussy_data[i]) for i in range(len(DEBUSSY))]\\nwith open('scarlatti-chordsequence.txt', 'r') as f:\\n    SCARLATTI = [' '.join(piece.strip('[]\\n').split(', ')) for piece in f.readlines()]\\n    SCARLATTI = [(SCARLATTI[i], scarlatti_data[i]) for i in range(len(SCARLATTI))]\\nwith open('victoria-chordsequence.txt', 'r') as f:\\n    VICTORIA = [' '.join(piece.strip('[]\\n').split(', ')) for piece in f.readlines()]\\n    VICTORIA = [(VICTORIA[i], victoria_data[i]) for i in range(len(VICTORIA))]\""
      ]
     },
     "execution_count": 130,
     "metadata": {},
     "output_type": "execute_result"
    }
   ],
   "source": [
    "COMPOSERs = []\n",
    "for composer, composer_data in zip(composers, composer_datas):\n",
    "    with open(f'{composer}-chordsequence.txt', 'r') as f:\n",
    "        COMPOSER = [' '.join(piece.strip('[]\\n').split(', ')) for piece in f.readlines()]\n",
    "        COMPOSER = [(COMPOSER[i], composer_data[i]) for i in range(len(COMPOSER))]\n",
    "        COMPOSERs.append(COMPOSER)\n",
    "    \n",
    "'''with open('bach-chordsequence.txt', 'r') as f:\n",
    "    BACH = [' '.join(piece.strip('[]\\n').split(', ')) for piece in f.readlines()]\n",
    "    BACH = [(BACH[i], bach_data[i]) for i in range(len(BACH))]\n",
    "with open('beethoven-chordsequence.txt', 'r') as f:\n",
    "    BEETHOVEN = [' '.join(piece.strip('[]\\n').split(', ')) for piece in f.readlines()]\n",
    "    BEETHOVEN = [(BEETHOVEN[i], beethoven_data[i]) for i in range(len(BEETHOVEN))]\n",
    "with open('debussy-chordsequence.txt', 'r') as f:\n",
    "    DEBUSSY = [' '.join(piece.strip('[]\\n').split(', ')) for piece in f.readlines()]\n",
    "    DEBUSSY = [(DEBUSSY[i], debussy_data[i]) for i in range(len(DEBUSSY))]\n",
    "with open('scarlatti-chordsequence.txt', 'r') as f:\n",
    "    SCARLATTI = [' '.join(piece.strip('[]\\n').split(', ')) for piece in f.readlines()]\n",
    "    SCARLATTI = [(SCARLATTI[i], scarlatti_data[i]) for i in range(len(SCARLATTI))]\n",
    "with open('victoria-chordsequence.txt', 'r') as f:\n",
    "    VICTORIA = [' '.join(piece.strip('[]\\n').split(', ')) for piece in f.readlines()]\n",
    "    VICTORIA = [(VICTORIA[i], victoria_data[i]) for i in range(len(VICTORIA))]'''"
   ]
  },
  {
   "cell_type": "code",
   "execution_count": 131,
   "metadata": {},
   "outputs": [],
   "source": [
    "def find_ngrams(input_list, N=4):\n",
    "    return [' '.join(input_list[i:i+N]) for i in range(len(input_list)-N+1)]\n",
    "\n",
    "def ngrams_by_composer(composer): \n",
    "    for i in range(1,5):\n",
    "        ngrams = []\n",
    "        for piece in composer:\n",
    "            ngrams += find_ngrams(piece[0].split(' '), i)\n",
    "        print(len(ngrams), '{}-grams total;'.format(str(i)), len(set(ngrams)), 'unique')\n",
    "    print('-')\n",
    "\n",
    "def show_ngrams(composer_data, composer_name):\n",
    "    print(composer_name, ':', len(composer_data), 'pieces')\n",
    "    ngrams_by_composer(composer_data)"
   ]
  },
  {
   "cell_type": "code",
   "execution_count": 132,
   "metadata": {},
   "outputs": [
    {
     "name": "stdout",
     "output_type": "stream",
     "text": [
      "Bach : 50 pieces\n",
      "23473 1-grams total; 175 unique\n",
      "23423 2-grams total; 5064 unique\n",
      "23373 3-grams total; 12651 unique\n",
      "23323 4-grams total; 16163 unique\n",
      "-\n",
      "Mozart : 50 pieces\n",
      "37893 1-grams total; 177 unique\n",
      "37843 2-grams total; 5668 unique\n",
      "37793 3-grams total; 15811 unique\n",
      "37743 4-grams total; 21892 unique\n",
      "-\n",
      "Beethoven : 50 pieces\n",
      "39567 1-grams total; 179 unique\n",
      "39517 2-grams total; 7082 unique\n",
      "39467 3-grams total; 19873 unique\n",
      "39417 4-grams total; 26545 unique\n",
      "-\n",
      "Debussy : 50 pieces\n",
      "22281 1-grams total; 175 unique\n",
      "22231 2-grams total; 5794 unique\n",
      "22181 3-grams total; 13530 unique\n",
      "22131 4-grams total; 17142 unique\n",
      "-\n",
      "all composers : 200 pieces\n",
      "123214 1-grams total; 179 unique\n",
      "123014 2-grams total; 12371 unique\n",
      "122814 3-grams total; 51552 unique\n",
      "122614 4-grams total; 76962 unique\n",
      "-\n"
     ]
    },
    {
     "data": {
      "text/plain": [
       "\"show_ngrams(BACH,'bach')\\nshow_ngrams(BEETHOVEN,'beethoven')\\nshow_ngrams(DEBUSSY,'debussy')\\nshow_ngrams(SCARLATTI,'scarlatti')\\nshow_ngrams(VICTORIA, 'victoria')\\nshow_ngrams(BACH+BEETHOVEN+DEBUSSY+SCARLATTI+VICTORIA, 'all composers')\""
      ]
     },
     "execution_count": 132,
     "metadata": {},
     "output_type": "execute_result"
    }
   ],
   "source": [
    "for COMPOSER, composer in zip(COMPOSERs, composers):\n",
    "    show_ngrams(COMPOSER, composer)\n",
    "show_ngrams(sum(COMPOSERs, []), 'all composers')\n",
    "\n",
    "'''show_ngrams(BACH,'bach')\n",
    "show_ngrams(BEETHOVEN,'beethoven')\n",
    "show_ngrams(DEBUSSY,'debussy')\n",
    "show_ngrams(SCARLATTI,'scarlatti')\n",
    "show_ngrams(VICTORIA, 'victoria')\n",
    "show_ngrams(BACH+BEETHOVEN+DEBUSSY+SCARLATTI+VICTORIA, 'all composers')'''"
   ]
  },
  {
   "cell_type": "code",
   "execution_count": 133,
   "metadata": {},
   "outputs": [],
   "source": [
    "def build_Xy(composers, size=1):\n",
    "    if size >= 1: # use every rows\n",
    "        indices = [range(len(composer)) for composer in composers]\n",
    "    else:\n",
    "        indices = [random.sample(range(len(composer)), math.ceil(size*len(composer))) for composer in composers]\n",
    "\n",
    "    y = []\n",
    "    for i in range(len(composers)):\n",
    "        y += [i for n in range(len(indices[i]))]\n",
    "    \n",
    "    X = []\n",
    "    for i in range(len(composers)):\n",
    "        X += [composers[i][j] for j in indices[i]]\n",
    "    \n",
    "    return X, np.array(y, dtype='int16')"
   ]
  },
  {
   "cell_type": "code",
   "execution_count": 213,
   "metadata": {},
   "outputs": [],
   "source": [
    "def crossvalidate(X_tuple, y, classifiers, vectorizer, NGRAMRANGE, K=10, set_=False):    \n",
    "    for clf in classifiers:\n",
    "        clf.cm_sum = np.zeros([len(set(y)),len(set(y))], dtype='int16') \\\n",
    "                     if set_ else np.zeros([len(composers), len(composers)], dtype='int16')\n",
    "        clf.accuracies, clf.fones, clf.misclassified, clf.runningtime = [], [], [], []\n",
    "        clf.fones_micro, clf.fones_macro = [], []\n",
    "        clf.name = str(clf).split('(')[0]\n",
    "\n",
    "    X = np.array([piece[0] for piece in X_tuple])\n",
    "    \n",
    "    import pickle #\n",
    "    ids = [int(piece[1][:-4].split('_')[1]) for piece in X_tuple] #\n",
    "    with open('indices.pickle', 'rb') as file:\n",
    "        df = pickle.load(file)\n",
    "    indices = np.asarray([df.loc[id_] for id_ in ids])\n",
    "    \n",
    "    filenames = np.array([piece[1] for piece in X_tuple])\n",
    "    kf = KFold(n_splits=min(K,len(y)), shuffle=True)\n",
    "    for train_index, test_index in tqdm(kf.split(y), unit='fold', total=10, leave=False):\n",
    "        X_train, X_test, y_train, y_test = X[train_index], X[test_index], y[train_index], y[test_index]\n",
    "        vct = vectorizer.set_params(lowercase=False, token_pattern=u\"(?u)\\\\b\\\\w+\\\\b\", ngram_range=NGRAMRANGE)\n",
    "        X_train_tfidf = vct.fit_transform(X_train)\n",
    "#         X_test_tfidf = tfidf.transform(X_test)  # i think this computes tf-idf values using the whole test set, but i want each piece to be treated separately\n",
    "        X_test_tfidf = sp.vstack([vct.transform(np.array([piece])) for piece in X_test])\n",
    "    \n",
    "        #print(type(X_train_tfidf), X_train_tfidf.shape)\n",
    "        X_train_tfidf = np.array([list(ai) + list(bi) for ai, bi in zip(X_train_tfidf.toarray(), indices)])\n",
    "        X_test_tfidf = np.array([list(ai) + list(bi) for ai, bi in zip(X_test_tfidf.toarray(), indices)])\n",
    "        #print(X_train_tfidf)\n",
    "        for clf in tqdm(classifiers, unit='classifier', leave=False):\n",
    "            t = datetime.now()\n",
    "            clf.fit(X_train_tfidf, y_train)\n",
    "            y_pred = clf.predict(X_test_tfidf)\n",
    "            clf.runningtime.append((datetime.now()-t).total_seconds())\n",
    "            clf.cm_sum += confusion_matrix(y_test, y_pred) #, labels=list(set(y_test)) if set_ else range(1, len(composers)+1)\n",
    "            clf.misclassified.append(test_index[np.where(y_test != y_pred)]) # http://stackoverflow.com/a/25570632\n",
    "            clf.accuracies.append(accuracy_score(y_test, y_pred))\n",
    "            clf.fones.append(f1_score(y_test, y_pred, average='weighted'))\n",
    "            clf.fones_micro.append(f1_score(y_test, y_pred, average='micro'))\n",
    "            clf.fones_macro.append(f1_score(y_test, y_pred, average='macro'))\n",
    "\n",
    "    result = dict()\n",
    "    for clf in classifiers:\n",
    "        clf.misclassified = np.sort(np.hstack(clf.misclassified))\n",
    "        result[clf.name] = [clf.cm_sum, clf.accuracies, clf.fones, clf.misclassified, filenames[clf.misclassified], clf.runningtime, clf.fones_micro, clf.fones_macro]\n",
    "    return result"
   ]
  },
  {
   "cell_type": "code",
   "execution_count": 205,
   "metadata": {},
   "outputs": [],
   "source": [
    "def benchmark_classifiers(composers, NGRAMRANGES, classifiers, vectorizer, n=1, retrieve_title=True, set_=False):\n",
    "    misclassified_list = []\n",
    "    for NGRAMRANGE in tqdm(NGRAMRANGES, unit='NGRAMRANGE', leave=False):\n",
    "        print('n-gram range', NGRAMRANGE)\n",
    "        X, y = build_Xy(composers, size=n)\n",
    "        cv_result = crossvalidate(X, y, classifiers, vectorizer, NGRAMRANGE, set_=set_)\n",
    "        for clf, results in cv_result.items():\n",
    "            print(clf)\n",
    "            cm = results[0]\n",
    "            print(cm)\n",
    "            acc = results[1] # using two different f-measures, don't need this\n",
    "#             print('accuracy', round(np.mean(acc)*100,2), '({})'.format(round(np.std(acc, ddof=1)*100,2)))\n",
    "            fones = results[2] # weighted average, don't need this\n",
    "#             print('f1', round(np.mean(fones)*100,2), '({})'.format(round(np.std(fones, ddof=1)*100,2)), fones)\n",
    "            misclassified = results[3]\n",
    "            misclassified_filenames = results[4]\n",
    "            misclassified_list += list(misclassified_filenames)\n",
    "#             print('misclassified',[(misclassified[i], misclassified_filenames[i]) for i in range(len(misclassified))])\n",
    "            runningtime = results[5]\n",
    "#             print('running time', np.sum(runningtime))\n",
    "            fones_micro = results[6]\n",
    "            fones_macro = results[7]\n",
    "            print('micro-averaged f-score (std) & macro-averaged f-score (std)')\n",
    "            print(round(np.mean(fones_micro),4), '({})'.format(round(np.std(fones_micro, ddof=1),4)), '&', round(np.mean(fones_macro),4), '({})'.format(round(np.std(fones_macro, ddof=1),4)))\n",
    "    print('-----')\n",
    "    return misclassified_list"
   ]
  },
  {
   "cell_type": "code",
   "execution_count": 228,
   "metadata": {},
   "outputs": [],
   "source": [
    "'''COMPOSERS = [BACH, BEETHOVEN, DEBUSSY, SCARLATTI, VICTORIA]'''\n",
    "from sklearn.ensemble import RandomForestClassifier, GradientBoostingClassifier\n",
    "NGRAMRANGES = [(1,2), (1,3)] #[(1,1),(2,2),(3,3),(4,4),(1,2),(3,4),(1,4)]\n",
    "CLASSIFIERS = [\n",
    "    svm.LinearSVC(),#penalty='l2', C=5, loss='hinge'),\n",
    "    linear_model.LogisticRegression(), #penalty='l2', C=100, tol=1, multi_class='multinomial', solver='sag'),\n",
    "    neighbors.KNeighborsClassifier(),#weights='distance'),\n",
    "    #naive_bayes.MultinomialNB(alpha=0.00001, fit_prior=False),\n",
    "    neural_network.MLPClassifier(),#solver='lbfgs', hidden_layer_sizes=(100,)),\n",
    "    RandomForestClassifier(),#n_estimators=100, random_state=42),\n",
    "    GradientBoostingClassifier(),#n_estimators=100, max_leaf_nodes=4, max_depth=None, random_state=2,\n",
    "                   #min_samples_split=5),\n",
    "]"
   ]
  },
  {
   "cell_type": "code",
   "execution_count": 229,
   "metadata": {},
   "outputs": [
    {
     "data": {
      "application/vnd.jupyter.widget-view+json": {
       "model_id": "",
       "version_major": 2,
       "version_minor": 0
      },
      "text/plain": [
       "HBox(children=(FloatProgress(value=0.0, max=2.0), HTML(value='')))"
      ]
     },
     "metadata": {},
     "output_type": "display_data"
    },
    {
     "name": "stdout",
     "output_type": "stream",
     "text": [
      "n-gram range (1, 2)\n"
     ]
    },
    {
     "data": {
      "application/vnd.jupyter.widget-view+json": {
       "model_id": "",
       "version_major": 2,
       "version_minor": 0
      },
      "text/plain": [
       "HBox(children=(FloatProgress(value=0.0, max=10.0), HTML(value='')))"
      ]
     },
     "metadata": {},
     "output_type": "display_data"
    },
    {
     "data": {
      "application/vnd.jupyter.widget-view+json": {
       "model_id": "",
       "version_major": 2,
       "version_minor": 0
      },
      "text/plain": [
       "HBox(children=(FloatProgress(value=0.0, max=6.0), HTML(value='')))"
      ]
     },
     "metadata": {},
     "output_type": "display_data"
    },
    {
     "data": {
      "application/vnd.jupyter.widget-view+json": {
       "model_id": "",
       "version_major": 2,
       "version_minor": 0
      },
      "text/plain": [
       "HBox(children=(FloatProgress(value=0.0, max=6.0), HTML(value='')))"
      ]
     },
     "metadata": {},
     "output_type": "display_data"
    },
    {
     "data": {
      "application/vnd.jupyter.widget-view+json": {
       "model_id": "",
       "version_major": 2,
       "version_minor": 0
      },
      "text/plain": [
       "HBox(children=(FloatProgress(value=0.0, max=6.0), HTML(value='')))"
      ]
     },
     "metadata": {},
     "output_type": "display_data"
    },
    {
     "data": {
      "application/vnd.jupyter.widget-view+json": {
       "model_id": "",
       "version_major": 2,
       "version_minor": 0
      },
      "text/plain": [
       "HBox(children=(FloatProgress(value=0.0, max=6.0), HTML(value='')))"
      ]
     },
     "metadata": {},
     "output_type": "display_data"
    },
    {
     "data": {
      "application/vnd.jupyter.widget-view+json": {
       "model_id": "",
       "version_major": 2,
       "version_minor": 0
      },
      "text/plain": [
       "HBox(children=(FloatProgress(value=0.0, max=6.0), HTML(value='')))"
      ]
     },
     "metadata": {},
     "output_type": "display_data"
    },
    {
     "data": {
      "application/vnd.jupyter.widget-view+json": {
       "model_id": "",
       "version_major": 2,
       "version_minor": 0
      },
      "text/plain": [
       "HBox(children=(FloatProgress(value=0.0, max=6.0), HTML(value='')))"
      ]
     },
     "metadata": {},
     "output_type": "display_data"
    },
    {
     "data": {
      "application/vnd.jupyter.widget-view+json": {
       "model_id": "",
       "version_major": 2,
       "version_minor": 0
      },
      "text/plain": [
       "HBox(children=(FloatProgress(value=0.0, max=6.0), HTML(value='')))"
      ]
     },
     "metadata": {},
     "output_type": "display_data"
    },
    {
     "data": {
      "application/vnd.jupyter.widget-view+json": {
       "model_id": "",
       "version_major": 2,
       "version_minor": 0
      },
      "text/plain": [
       "HBox(children=(FloatProgress(value=0.0, max=6.0), HTML(value='')))"
      ]
     },
     "metadata": {},
     "output_type": "display_data"
    },
    {
     "data": {
      "application/vnd.jupyter.widget-view+json": {
       "model_id": "",
       "version_major": 2,
       "version_minor": 0
      },
      "text/plain": [
       "HBox(children=(FloatProgress(value=0.0, max=6.0), HTML(value='')))"
      ]
     },
     "metadata": {},
     "output_type": "display_data"
    },
    {
     "data": {
      "application/vnd.jupyter.widget-view+json": {
       "model_id": "",
       "version_major": 2,
       "version_minor": 0
      },
      "text/plain": [
       "HBox(children=(FloatProgress(value=0.0, max=6.0), HTML(value='')))"
      ]
     },
     "metadata": {},
     "output_type": "display_data"
    },
    {
     "name": "stdout",
     "output_type": "stream",
     "text": [
      "LinearSVC\n",
      "[[40  4  5  1]\n",
      " [25 16  8  1]\n",
      " [13 11 19  7]\n",
      " [ 7  0 11 32]]\n",
      "micro-averaged f-score (std) & macro-averaged f-score (std)\n",
      "0.535 (0.118) & 0.5011 (0.1383)\n",
      "LogisticRegression\n",
      "[[32  6 11  1]\n",
      " [31  8  9  2]\n",
      " [10 15 16  9]\n",
      " [10  4 20 16]]\n",
      "micro-averaged f-score (std) & macro-averaged f-score (std)\n",
      "0.36 (0.0738) & 0.3366 (0.0734)\n",
      "KNeighborsClassifier\n",
      "[[32  9  9  0]\n",
      " [42  0  6  2]\n",
      " [34  6  2  8]\n",
      " [36 14  0  0]]\n",
      "micro-averaged f-score (std) & macro-averaged f-score (std)\n",
      "0.17 (0.0715) & 0.0963 (0.0412)\n",
      "MLPClassifier\n",
      "[[38  5  7  0]\n",
      " [22 20  8  0]\n",
      " [11 13 22  4]\n",
      " [ 5  1  8 36]]\n",
      "micro-averaged f-score (std) & macro-averaged f-score (std)\n",
      "0.58 (0.1183) & 0.5492 (0.1315)\n",
      "RandomForestClassifier\n",
      "[[36  6  7  1]\n",
      " [12 26 11  1]\n",
      " [ 5 12 30  3]\n",
      " [ 6  1  3 40]]\n",
      "micro-averaged f-score (std) & macro-averaged f-score (std)\n",
      "0.66 (0.1197) & 0.6561 (0.1247)\n",
      "GradientBoostingClassifier\n",
      "[[26 12 11  1]\n",
      " [22 21  6  1]\n",
      " [11  8 26  5]\n",
      " [ 6  0  4 40]]\n",
      "micro-averaged f-score (std) & macro-averaged f-score (std)\n",
      "0.565 (0.0784) & 0.5535 (0.0857)\n",
      "n-gram range (1, 3)\n"
     ]
    },
    {
     "data": {
      "application/vnd.jupyter.widget-view+json": {
       "model_id": "",
       "version_major": 2,
       "version_minor": 0
      },
      "text/plain": [
       "HBox(children=(FloatProgress(value=0.0, max=10.0), HTML(value='')))"
      ]
     },
     "metadata": {},
     "output_type": "display_data"
    },
    {
     "data": {
      "application/vnd.jupyter.widget-view+json": {
       "model_id": "",
       "version_major": 2,
       "version_minor": 0
      },
      "text/plain": [
       "HBox(children=(FloatProgress(value=0.0, max=6.0), HTML(value='')))"
      ]
     },
     "metadata": {},
     "output_type": "display_data"
    },
    {
     "data": {
      "application/vnd.jupyter.widget-view+json": {
       "model_id": "",
       "version_major": 2,
       "version_minor": 0
      },
      "text/plain": [
       "HBox(children=(FloatProgress(value=0.0, max=6.0), HTML(value='')))"
      ]
     },
     "metadata": {},
     "output_type": "display_data"
    },
    {
     "data": {
      "application/vnd.jupyter.widget-view+json": {
       "model_id": "",
       "version_major": 2,
       "version_minor": 0
      },
      "text/plain": [
       "HBox(children=(FloatProgress(value=0.0, max=6.0), HTML(value='')))"
      ]
     },
     "metadata": {},
     "output_type": "display_data"
    },
    {
     "data": {
      "application/vnd.jupyter.widget-view+json": {
       "model_id": "",
       "version_major": 2,
       "version_minor": 0
      },
      "text/plain": [
       "HBox(children=(FloatProgress(value=0.0, max=6.0), HTML(value='')))"
      ]
     },
     "metadata": {},
     "output_type": "display_data"
    },
    {
     "data": {
      "application/vnd.jupyter.widget-view+json": {
       "model_id": "",
       "version_major": 2,
       "version_minor": 0
      },
      "text/plain": [
       "HBox(children=(FloatProgress(value=0.0, max=6.0), HTML(value='')))"
      ]
     },
     "metadata": {},
     "output_type": "display_data"
    },
    {
     "data": {
      "application/vnd.jupyter.widget-view+json": {
       "model_id": "",
       "version_major": 2,
       "version_minor": 0
      },
      "text/plain": [
       "HBox(children=(FloatProgress(value=0.0, max=6.0), HTML(value='')))"
      ]
     },
     "metadata": {},
     "output_type": "display_data"
    },
    {
     "data": {
      "application/vnd.jupyter.widget-view+json": {
       "model_id": "",
       "version_major": 2,
       "version_minor": 0
      },
      "text/plain": [
       "HBox(children=(FloatProgress(value=0.0, max=6.0), HTML(value='')))"
      ]
     },
     "metadata": {},
     "output_type": "display_data"
    },
    {
     "data": {
      "application/vnd.jupyter.widget-view+json": {
       "model_id": "",
       "version_major": 2,
       "version_minor": 0
      },
      "text/plain": [
       "HBox(children=(FloatProgress(value=0.0, max=6.0), HTML(value='')))"
      ]
     },
     "metadata": {},
     "output_type": "display_data"
    },
    {
     "data": {
      "application/vnd.jupyter.widget-view+json": {
       "model_id": "",
       "version_major": 2,
       "version_minor": 0
      },
      "text/plain": [
       "HBox(children=(FloatProgress(value=0.0, max=6.0), HTML(value='')))"
      ]
     },
     "metadata": {},
     "output_type": "display_data"
    },
    {
     "data": {
      "application/vnd.jupyter.widget-view+json": {
       "model_id": "",
       "version_major": 2,
       "version_minor": 0
      },
      "text/plain": [
       "HBox(children=(FloatProgress(value=0.0, max=6.0), HTML(value='')))"
      ]
     },
     "metadata": {},
     "output_type": "display_data"
    },
    {
     "name": "stdout",
     "output_type": "stream",
     "text": [
      "LinearSVC\n",
      "[[35  5 10  0]\n",
      " [27 15  5  3]\n",
      " [13 11 17  9]\n",
      " [ 9  0 13 28]]\n",
      "micro-averaged f-score (std) & macro-averaged f-score (std)\n",
      "0.475 (0.1339) & 0.4328 (0.1435)\n",
      "LogisticRegression\n",
      "[[32  4 13  1]\n",
      " [29  8  9  4]\n",
      " [15 18 10  7]\n",
      " [ 9  7 19 15]]\n",
      "micro-averaged f-score (std) & macro-averaged f-score (std)\n",
      "0.325 (0.0979) & 0.2989 (0.0966)\n",
      "KNeighborsClassifier\n",
      "[[29 11 10  0]\n",
      " [40  1  5  4]\n",
      " [34  7  3  6]\n",
      " [37 13  0  0]]\n",
      "micro-averaged f-score (std) & macro-averaged f-score (std)\n",
      "0.165 (0.058) & 0.1003 (0.0311)\n",
      "MLPClassifier\n",
      "[[37  5  8  0]\n",
      " [22 19  9  0]\n",
      " [14 12 22  2]\n",
      " [ 6  0 10 34]]\n",
      "micro-averaged f-score (std) & macro-averaged f-score (std)\n",
      "0.56 (0.0843) & 0.5116 (0.0776)\n",
      "RandomForestClassifier\n",
      "[[31  9  9  1]\n",
      " [11 29  9  1]\n",
      " [ 4 13 28  5]\n",
      " [ 4  0  1 45]]\n",
      "micro-averaged f-score (std) & macro-averaged f-score (std)\n",
      "0.665 (0.1415) & 0.6354 (0.1626)\n",
      "GradientBoostingClassifier\n",
      "[[27 10 11  2]\n",
      " [25 18  4  3]\n",
      " [14 11 20  5]\n",
      " [ 5  0  3 42]]\n",
      "micro-averaged f-score (std) & macro-averaged f-score (std)\n",
      "0.535 (0.0944) & 0.5026 (0.0987)\n",
      "-----\n"
     ]
    },
    {
     "data": {
      "text/plain": [
       "['Bach_007.mxl',\n",
       " 'Bach_013.mxl',\n",
       " 'Bach_017.mxl',\n",
       " 'Bach_019.mxl',\n",
       " 'Bach_020.mxl',\n",
       " 'Bach_033.mxl',\n",
       " 'Bach_038.mxl',\n",
       " 'Bach_041.mxl',\n",
       " 'Bach_045.mxl',\n",
       " 'Bach_047.mxl',\n",
       " 'Mozart_050.mxl',\n",
       " 'Mozart_051.mxl',\n",
       " 'Mozart_052.mxl',\n",
       " 'Mozart_054.mxl',\n",
       " 'Mozart_055.mxl',\n",
       " 'Mozart_057.mxl',\n",
       " 'Mozart_058.mxl',\n",
       " 'Mozart_059.mxl',\n",
       " 'Mozart_060.mxl',\n",
       " 'Mozart_061.mxl',\n",
       " 'Mozart_062.mxl',\n",
       " 'Mozart_063.mxl',\n",
       " 'Mozart_065.mxl',\n",
       " 'Mozart_066.mxl',\n",
       " 'Mozart_067.mxl',\n",
       " 'Mozart_069.mxl',\n",
       " 'Mozart_071.mxl',\n",
       " 'Mozart_072.mxl',\n",
       " 'Mozart_073.mxl',\n",
       " 'Mozart_074.mxl',\n",
       " 'Mozart_075.mxl',\n",
       " 'Mozart_076.mxl',\n",
       " 'Mozart_079.mxl',\n",
       " 'Mozart_080.mxl',\n",
       " 'Mozart_081.mxl',\n",
       " 'Mozart_082.mxl',\n",
       " 'Mozart_083.mxl',\n",
       " 'Mozart_084.mxl',\n",
       " 'Mozart_085.mxl',\n",
       " 'Mozart_086.mxl',\n",
       " 'Mozart_090.mxl',\n",
       " 'Mozart_093.mxl',\n",
       " 'Mozart_095.mxl',\n",
       " 'Mozart_099.mxl',\n",
       " 'Beethoven_101.mxl',\n",
       " 'Beethoven_102.mxl',\n",
       " 'Beethoven_103.mxl',\n",
       " 'Beethoven_104.mxl',\n",
       " 'Beethoven_107.mxl',\n",
       " 'Beethoven_108.mxl',\n",
       " 'Beethoven_110.mxl',\n",
       " 'Beethoven_112.mxl',\n",
       " 'Beethoven_114.mxl',\n",
       " 'Beethoven_115.mxl',\n",
       " 'Beethoven_116.mxl',\n",
       " 'Beethoven_119.mxl',\n",
       " 'Beethoven_120.mxl',\n",
       " 'Beethoven_121.mxl',\n",
       " 'Beethoven_123.mxl',\n",
       " 'Beethoven_125.mxl',\n",
       " 'Beethoven_126.mxl',\n",
       " 'Beethoven_127.mxl',\n",
       " 'Beethoven_129.mxl',\n",
       " 'Beethoven_130.mxl',\n",
       " 'Beethoven_132.mxl',\n",
       " 'Beethoven_133.mxl',\n",
       " 'Beethoven_134.mxl',\n",
       " 'Beethoven_137.mxl',\n",
       " 'Beethoven_138.mxl',\n",
       " 'Beethoven_139.mxl',\n",
       " 'Beethoven_140.mxl',\n",
       " 'Beethoven_144.mxl',\n",
       " 'Beethoven_146.mxl',\n",
       " 'Beethoven_148.mxl',\n",
       " 'Beethoven_149.mxl',\n",
       " 'Debussy_152.mxl',\n",
       " 'Debussy_155.mxl',\n",
       " 'Debussy_156.mxl',\n",
       " 'Debussy_157.mxl',\n",
       " 'Debussy_159.mxl',\n",
       " 'Debussy_160.mxl',\n",
       " 'Debussy_166.mxl',\n",
       " 'Debussy_167.mxl',\n",
       " 'Debussy_172.mxl',\n",
       " 'Debussy_180.mxl',\n",
       " 'Debussy_181.mxl',\n",
       " 'Debussy_184.mxl',\n",
       " 'Debussy_190.mxl',\n",
       " 'Debussy_192.mxl',\n",
       " 'Debussy_193.mxl',\n",
       " 'Debussy_196.mxl',\n",
       " 'Debussy_198.mxl',\n",
       " 'Debussy_199.mxl',\n",
       " 'Bach_007.mxl',\n",
       " 'Bach_008.mxl',\n",
       " 'Bach_010.mxl',\n",
       " 'Bach_013.mxl',\n",
       " 'Bach_017.mxl',\n",
       " 'Bach_018.mxl',\n",
       " 'Bach_019.mxl',\n",
       " 'Bach_020.mxl',\n",
       " 'Bach_027.mxl',\n",
       " 'Bach_029.mxl',\n",
       " 'Bach_033.mxl',\n",
       " 'Bach_036.mxl',\n",
       " 'Bach_038.mxl',\n",
       " 'Bach_041.mxl',\n",
       " 'Bach_045.mxl',\n",
       " 'Bach_046.mxl',\n",
       " 'Bach_047.mxl',\n",
       " 'Bach_048.mxl',\n",
       " 'Mozart_050.mxl',\n",
       " 'Mozart_051.mxl',\n",
       " 'Mozart_052.mxl',\n",
       " 'Mozart_053.mxl',\n",
       " 'Mozart_054.mxl',\n",
       " 'Mozart_055.mxl',\n",
       " 'Mozart_057.mxl',\n",
       " 'Mozart_058.mxl',\n",
       " 'Mozart_059.mxl',\n",
       " 'Mozart_060.mxl',\n",
       " 'Mozart_061.mxl',\n",
       " 'Mozart_062.mxl',\n",
       " 'Mozart_063.mxl',\n",
       " 'Mozart_064.mxl',\n",
       " 'Mozart_065.mxl',\n",
       " 'Mozart_066.mxl',\n",
       " 'Mozart_067.mxl',\n",
       " 'Mozart_068.mxl',\n",
       " 'Mozart_069.mxl',\n",
       " 'Mozart_070.mxl',\n",
       " 'Mozart_071.mxl',\n",
       " 'Mozart_072.mxl',\n",
       " 'Mozart_073.mxl',\n",
       " 'Mozart_074.mxl',\n",
       " 'Mozart_075.mxl',\n",
       " 'Mozart_076.mxl',\n",
       " 'Mozart_079.mxl',\n",
       " 'Mozart_080.mxl',\n",
       " 'Mozart_081.mxl',\n",
       " 'Mozart_082.mxl',\n",
       " 'Mozart_083.mxl',\n",
       " 'Mozart_084.mxl',\n",
       " 'Mozart_085.mxl',\n",
       " 'Mozart_086.mxl',\n",
       " 'Mozart_090.mxl',\n",
       " 'Mozart_092.mxl',\n",
       " 'Mozart_093.mxl',\n",
       " 'Mozart_094.mxl',\n",
       " 'Mozart_095.mxl',\n",
       " 'Mozart_096.mxl',\n",
       " 'Mozart_098.mxl',\n",
       " 'Mozart_099.mxl',\n",
       " 'Beethoven_102.mxl',\n",
       " 'Beethoven_103.mxl',\n",
       " 'Beethoven_104.mxl',\n",
       " 'Beethoven_105.mxl',\n",
       " 'Beethoven_107.mxl',\n",
       " 'Beethoven_108.mxl',\n",
       " 'Beethoven_109.mxl',\n",
       " 'Beethoven_110.mxl',\n",
       " 'Beethoven_112.mxl',\n",
       " 'Beethoven_114.mxl',\n",
       " 'Beethoven_115.mxl',\n",
       " 'Beethoven_116.mxl',\n",
       " 'Beethoven_119.mxl',\n",
       " 'Beethoven_120.mxl',\n",
       " 'Beethoven_121.mxl',\n",
       " 'Beethoven_123.mxl',\n",
       " 'Beethoven_125.mxl',\n",
       " 'Beethoven_127.mxl',\n",
       " 'Beethoven_128.mxl',\n",
       " 'Beethoven_129.mxl',\n",
       " 'Beethoven_130.mxl',\n",
       " 'Beethoven_132.mxl',\n",
       " 'Beethoven_133.mxl',\n",
       " 'Beethoven_134.mxl',\n",
       " 'Beethoven_138.mxl',\n",
       " 'Beethoven_139.mxl',\n",
       " 'Beethoven_140.mxl',\n",
       " 'Beethoven_142.mxl',\n",
       " 'Beethoven_143.mxl',\n",
       " 'Beethoven_144.mxl',\n",
       " 'Beethoven_146.mxl',\n",
       " 'Beethoven_147.mxl',\n",
       " 'Beethoven_148.mxl',\n",
       " 'Beethoven_149.mxl',\n",
       " 'Debussy_150.mxl',\n",
       " 'Debussy_151.mxl',\n",
       " 'Debussy_152.mxl',\n",
       " 'Debussy_154.mxl',\n",
       " 'Debussy_155.mxl',\n",
       " 'Debussy_156.mxl',\n",
       " 'Debussy_157.mxl',\n",
       " 'Debussy_159.mxl',\n",
       " 'Debussy_160.mxl',\n",
       " 'Debussy_161.mxl',\n",
       " 'Debussy_162.mxl',\n",
       " 'Debussy_165.mxl',\n",
       " 'Debussy_166.mxl',\n",
       " 'Debussy_167.mxl',\n",
       " 'Debussy_168.mxl',\n",
       " 'Debussy_169.mxl',\n",
       " 'Debussy_171.mxl',\n",
       " 'Debussy_172.mxl',\n",
       " 'Debussy_173.mxl',\n",
       " 'Debussy_177.mxl',\n",
       " 'Debussy_180.mxl',\n",
       " 'Debussy_181.mxl',\n",
       " 'Debussy_182.mxl',\n",
       " 'Debussy_184.mxl',\n",
       " 'Debussy_185.mxl',\n",
       " 'Debussy_186.mxl',\n",
       " 'Debussy_187.mxl',\n",
       " 'Debussy_188.mxl',\n",
       " 'Debussy_190.mxl',\n",
       " 'Debussy_192.mxl',\n",
       " 'Debussy_193.mxl',\n",
       " 'Debussy_196.mxl',\n",
       " 'Debussy_198.mxl',\n",
       " 'Debussy_199.mxl',\n",
       " 'Bach_001.mxl',\n",
       " 'Bach_002.mxl',\n",
       " 'Bach_005.mxl',\n",
       " 'Bach_007.mxl',\n",
       " 'Bach_008.mxl',\n",
       " 'Bach_012.mxl',\n",
       " 'Bach_019.mxl',\n",
       " 'Bach_021.mxl',\n",
       " 'Bach_024.mxl',\n",
       " 'Bach_028.mxl',\n",
       " 'Bach_029.mxl',\n",
       " 'Bach_034.mxl',\n",
       " 'Bach_036.mxl',\n",
       " 'Bach_038.mxl',\n",
       " 'Bach_041.mxl',\n",
       " 'Bach_045.mxl',\n",
       " 'Bach_047.mxl',\n",
       " 'Bach_048.mxl',\n",
       " 'Mozart_050.mxl',\n",
       " 'Mozart_051.mxl',\n",
       " 'Mozart_052.mxl',\n",
       " 'Mozart_053.mxl',\n",
       " 'Mozart_054.mxl',\n",
       " 'Mozart_055.mxl',\n",
       " 'Mozart_056.mxl',\n",
       " 'Mozart_057.mxl',\n",
       " 'Mozart_058.mxl',\n",
       " 'Mozart_059.mxl',\n",
       " 'Mozart_060.mxl',\n",
       " 'Mozart_061.mxl',\n",
       " 'Mozart_062.mxl',\n",
       " 'Mozart_063.mxl',\n",
       " 'Mozart_064.mxl',\n",
       " 'Mozart_065.mxl',\n",
       " 'Mozart_066.mxl',\n",
       " 'Mozart_067.mxl',\n",
       " 'Mozart_068.mxl',\n",
       " 'Mozart_069.mxl',\n",
       " 'Mozart_070.mxl',\n",
       " 'Mozart_071.mxl',\n",
       " 'Mozart_072.mxl',\n",
       " 'Mozart_073.mxl',\n",
       " 'Mozart_074.mxl',\n",
       " 'Mozart_075.mxl',\n",
       " 'Mozart_076.mxl',\n",
       " 'Mozart_077.mxl',\n",
       " 'Mozart_078.mxl',\n",
       " 'Mozart_079.mxl',\n",
       " 'Mozart_080.mxl',\n",
       " 'Mozart_081.mxl',\n",
       " 'Mozart_082.mxl',\n",
       " 'Mozart_083.mxl',\n",
       " 'Mozart_084.mxl',\n",
       " 'Mozart_085.mxl',\n",
       " 'Mozart_086.mxl',\n",
       " 'Mozart_087.mxl',\n",
       " 'Mozart_088.mxl',\n",
       " 'Mozart_089.mxl',\n",
       " 'Mozart_090.mxl',\n",
       " 'Mozart_091.mxl',\n",
       " 'Mozart_092.mxl',\n",
       " 'Mozart_093.mxl',\n",
       " 'Mozart_094.mxl',\n",
       " 'Mozart_095.mxl',\n",
       " 'Mozart_096.mxl',\n",
       " 'Mozart_097.mxl',\n",
       " 'Mozart_098.mxl',\n",
       " 'Mozart_099.mxl',\n",
       " 'Beethoven_101.mxl',\n",
       " 'Beethoven_102.mxl',\n",
       " 'Beethoven_103.mxl',\n",
       " 'Beethoven_104.mxl',\n",
       " 'Beethoven_106.mxl',\n",
       " 'Beethoven_107.mxl',\n",
       " 'Beethoven_108.mxl',\n",
       " 'Beethoven_109.mxl',\n",
       " 'Beethoven_110.mxl',\n",
       " 'Beethoven_111.mxl',\n",
       " 'Beethoven_112.mxl',\n",
       " 'Beethoven_113.mxl',\n",
       " 'Beethoven_114.mxl',\n",
       " 'Beethoven_115.mxl',\n",
       " 'Beethoven_116.mxl',\n",
       " 'Beethoven_117.mxl',\n",
       " 'Beethoven_118.mxl',\n",
       " 'Beethoven_119.mxl',\n",
       " 'Beethoven_120.mxl',\n",
       " 'Beethoven_121.mxl',\n",
       " 'Beethoven_122.mxl',\n",
       " 'Beethoven_123.mxl',\n",
       " 'Beethoven_124.mxl',\n",
       " 'Beethoven_125.mxl',\n",
       " 'Beethoven_126.mxl',\n",
       " 'Beethoven_127.mxl',\n",
       " 'Beethoven_128.mxl',\n",
       " 'Beethoven_129.mxl',\n",
       " 'Beethoven_130.mxl',\n",
       " 'Beethoven_131.mxl',\n",
       " 'Beethoven_132.mxl',\n",
       " 'Beethoven_133.mxl',\n",
       " 'Beethoven_134.mxl',\n",
       " 'Beethoven_135.mxl',\n",
       " 'Beethoven_136.mxl',\n",
       " 'Beethoven_137.mxl',\n",
       " 'Beethoven_138.mxl',\n",
       " 'Beethoven_139.mxl',\n",
       " 'Beethoven_140.mxl',\n",
       " 'Beethoven_141.mxl',\n",
       " 'Beethoven_142.mxl',\n",
       " 'Beethoven_143.mxl',\n",
       " 'Beethoven_144.mxl',\n",
       " 'Beethoven_145.mxl',\n",
       " 'Beethoven_146.mxl',\n",
       " 'Beethoven_147.mxl',\n",
       " 'Beethoven_148.mxl',\n",
       " 'Beethoven_149.mxl',\n",
       " 'Debussy_150.mxl',\n",
       " 'Debussy_151.mxl',\n",
       " 'Debussy_152.mxl',\n",
       " 'Debussy_153.mxl',\n",
       " 'Debussy_154.mxl',\n",
       " 'Debussy_155.mxl',\n",
       " 'Debussy_156.mxl',\n",
       " 'Debussy_157.mxl',\n",
       " 'Debussy_158.mxl',\n",
       " 'Debussy_159.mxl',\n",
       " 'Debussy_160.mxl',\n",
       " 'Debussy_161.mxl',\n",
       " 'Debussy_162.mxl',\n",
       " 'Debussy_163.mxl',\n",
       " 'Debussy_164.mxl',\n",
       " 'Debussy_165.mxl',\n",
       " 'Debussy_166.mxl',\n",
       " 'Debussy_167.mxl',\n",
       " 'Debussy_168.mxl',\n",
       " 'Debussy_169.mxl',\n",
       " 'Debussy_170.mxl',\n",
       " 'Debussy_171.mxl',\n",
       " 'Debussy_172.mxl',\n",
       " 'Debussy_173.mxl',\n",
       " 'Debussy_174.mxl',\n",
       " 'Debussy_175.mxl',\n",
       " 'Debussy_176.mxl',\n",
       " 'Debussy_177.mxl',\n",
       " 'Debussy_178.mxl',\n",
       " 'Debussy_179.mxl',\n",
       " 'Debussy_180.mxl',\n",
       " 'Debussy_181.mxl',\n",
       " 'Debussy_182.mxl',\n",
       " 'Debussy_183.mxl',\n",
       " 'Debussy_184.mxl',\n",
       " 'Debussy_185.mxl',\n",
       " 'Debussy_186.mxl',\n",
       " 'Debussy_187.mxl',\n",
       " 'Debussy_188.mxl',\n",
       " 'Debussy_189.mxl',\n",
       " 'Debussy_190.mxl',\n",
       " 'Debussy_191.mxl',\n",
       " 'Debussy_192.mxl',\n",
       " 'Debussy_193.mxl',\n",
       " 'Debussy_194.mxl',\n",
       " 'Debussy_195.mxl',\n",
       " 'Debussy_196.mxl',\n",
       " 'Debussy_197.mxl',\n",
       " 'Debussy_198.mxl',\n",
       " 'Debussy_199.mxl',\n",
       " 'Bach_007.mxl',\n",
       " 'Bach_013.mxl',\n",
       " 'Bach_017.mxl',\n",
       " 'Bach_019.mxl',\n",
       " 'Bach_020.mxl',\n",
       " 'Bach_031.mxl',\n",
       " 'Bach_033.mxl',\n",
       " 'Bach_036.mxl',\n",
       " 'Bach_041.mxl',\n",
       " 'Bach_045.mxl',\n",
       " 'Bach_046.mxl',\n",
       " 'Bach_047.mxl',\n",
       " 'Mozart_050.mxl',\n",
       " 'Mozart_052.mxl',\n",
       " 'Mozart_054.mxl',\n",
       " 'Mozart_057.mxl',\n",
       " 'Mozart_058.mxl',\n",
       " 'Mozart_059.mxl',\n",
       " 'Mozart_060.mxl',\n",
       " 'Mozart_062.mxl',\n",
       " 'Mozart_063.mxl',\n",
       " 'Mozart_066.mxl',\n",
       " 'Mozart_067.mxl',\n",
       " 'Mozart_069.mxl',\n",
       " 'Mozart_071.mxl',\n",
       " 'Mozart_072.mxl',\n",
       " 'Mozart_073.mxl',\n",
       " 'Mozart_075.mxl',\n",
       " 'Mozart_076.mxl',\n",
       " 'Mozart_078.mxl',\n",
       " 'Mozart_079.mxl',\n",
       " 'Mozart_080.mxl',\n",
       " 'Mozart_081.mxl',\n",
       " 'Mozart_082.mxl',\n",
       " 'Mozart_083.mxl',\n",
       " 'Mozart_086.mxl',\n",
       " 'Mozart_087.mxl',\n",
       " 'Mozart_091.mxl',\n",
       " 'Mozart_092.mxl',\n",
       " 'Mozart_093.mxl',\n",
       " 'Mozart_095.mxl',\n",
       " 'Mozart_099.mxl',\n",
       " 'Beethoven_102.mxl',\n",
       " 'Beethoven_103.mxl',\n",
       " 'Beethoven_104.mxl',\n",
       " 'Beethoven_105.mxl',\n",
       " 'Beethoven_107.mxl',\n",
       " 'Beethoven_108.mxl',\n",
       " 'Beethoven_109.mxl',\n",
       " 'Beethoven_110.mxl',\n",
       " 'Beethoven_114.mxl',\n",
       " 'Beethoven_115.mxl',\n",
       " 'Beethoven_116.mxl',\n",
       " 'Beethoven_119.mxl',\n",
       " 'Beethoven_120.mxl',\n",
       " 'Beethoven_121.mxl',\n",
       " 'Beethoven_123.mxl',\n",
       " 'Beethoven_126.mxl',\n",
       " 'Beethoven_127.mxl',\n",
       " 'Beethoven_129.mxl',\n",
       " 'Beethoven_130.mxl',\n",
       " 'Beethoven_132.mxl',\n",
       " 'Beethoven_133.mxl',\n",
       " 'Beethoven_137.mxl',\n",
       " 'Beethoven_138.mxl',\n",
       " 'Beethoven_139.mxl',\n",
       " 'Beethoven_140.mxl',\n",
       " 'Beethoven_144.mxl',\n",
       " 'Beethoven_148.mxl',\n",
       " 'Beethoven_149.mxl',\n",
       " 'Debussy_157.mxl',\n",
       " 'Debussy_159.mxl',\n",
       " 'Debussy_160.mxl',\n",
       " 'Debussy_166.mxl',\n",
       " 'Debussy_167.mxl',\n",
       " 'Debussy_180.mxl',\n",
       " 'Debussy_181.mxl',\n",
       " 'Debussy_184.mxl',\n",
       " 'Debussy_188.mxl',\n",
       " 'Debussy_192.mxl',\n",
       " 'Debussy_193.mxl',\n",
       " 'Debussy_196.mxl',\n",
       " 'Debussy_198.mxl',\n",
       " 'Debussy_199.mxl',\n",
       " 'Bach_001.mxl',\n",
       " 'Bach_007.mxl',\n",
       " 'Bach_010.mxl',\n",
       " 'Bach_013.mxl',\n",
       " 'Bach_015.mxl',\n",
       " 'Bach_016.mxl',\n",
       " 'Bach_017.mxl',\n",
       " 'Bach_019.mxl',\n",
       " 'Bach_020.mxl',\n",
       " 'Bach_031.mxl',\n",
       " 'Bach_033.mxl',\n",
       " 'Bach_038.mxl',\n",
       " 'Bach_047.mxl',\n",
       " 'Bach_049.mxl',\n",
       " 'Mozart_050.mxl',\n",
       " 'Mozart_052.mxl',\n",
       " 'Mozart_054.mxl',\n",
       " 'Mozart_055.mxl',\n",
       " 'Mozart_057.mxl',\n",
       " 'Mozart_058.mxl',\n",
       " 'Mozart_059.mxl',\n",
       " 'Mozart_065.mxl',\n",
       " 'Mozart_066.mxl',\n",
       " 'Mozart_067.mxl',\n",
       " 'Mozart_070.mxl',\n",
       " 'Mozart_071.mxl',\n",
       " 'Mozart_073.mxl',\n",
       " 'Mozart_077.mxl',\n",
       " 'Mozart_079.mxl',\n",
       " 'Mozart_081.mxl',\n",
       " 'Mozart_083.mxl',\n",
       " 'Mozart_085.mxl',\n",
       " 'Mozart_086.mxl',\n",
       " 'Mozart_091.mxl',\n",
       " 'Mozart_092.mxl',\n",
       " 'Mozart_093.mxl',\n",
       " 'Mozart_094.mxl',\n",
       " 'Mozart_099.mxl',\n",
       " 'Beethoven_102.mxl',\n",
       " 'Beethoven_105.mxl',\n",
       " 'Beethoven_107.mxl',\n",
       " 'Beethoven_110.mxl',\n",
       " 'Beethoven_115.mxl',\n",
       " 'Beethoven_116.mxl',\n",
       " 'Beethoven_123.mxl',\n",
       " 'Beethoven_125.mxl',\n",
       " 'Beethoven_127.mxl',\n",
       " 'Beethoven_128.mxl',\n",
       " 'Beethoven_130.mxl',\n",
       " 'Beethoven_132.mxl',\n",
       " 'Beethoven_133.mxl',\n",
       " 'Beethoven_137.mxl',\n",
       " 'Beethoven_138.mxl',\n",
       " 'Beethoven_139.mxl',\n",
       " 'Beethoven_140.mxl',\n",
       " 'Beethoven_142.mxl',\n",
       " 'Beethoven_147.mxl',\n",
       " 'Beethoven_149.mxl',\n",
       " 'Debussy_157.mxl',\n",
       " 'Debussy_160.mxl',\n",
       " 'Debussy_162.mxl',\n",
       " 'Debussy_184.mxl',\n",
       " 'Debussy_187.mxl',\n",
       " 'Debussy_188.mxl',\n",
       " 'Debussy_193.mxl',\n",
       " 'Debussy_194.mxl',\n",
       " 'Debussy_197.mxl',\n",
       " 'Debussy_199.mxl',\n",
       " 'Bach_000.mxl',\n",
       " 'Bach_001.mxl',\n",
       " 'Bach_005.mxl',\n",
       " 'Bach_006.mxl',\n",
       " 'Bach_007.mxl',\n",
       " 'Bach_010.mxl',\n",
       " 'Bach_011.mxl',\n",
       " 'Bach_013.mxl',\n",
       " 'Bach_015.mxl',\n",
       " 'Bach_016.mxl',\n",
       " 'Bach_019.mxl',\n",
       " 'Bach_020.mxl',\n",
       " 'Bach_022.mxl',\n",
       " 'Bach_026.mxl',\n",
       " 'Bach_028.mxl',\n",
       " 'Bach_031.mxl',\n",
       " 'Bach_032.mxl',\n",
       " 'Bach_038.mxl',\n",
       " 'Bach_039.mxl',\n",
       " 'Bach_040.mxl',\n",
       " 'Bach_042.mxl',\n",
       " 'Bach_045.mxl',\n",
       " 'Bach_046.mxl',\n",
       " 'Bach_047.mxl',\n",
       " 'Mozart_050.mxl',\n",
       " 'Mozart_052.mxl',\n",
       " 'Mozart_054.mxl',\n",
       " 'Mozart_055.mxl',\n",
       " 'Mozart_057.mxl',\n",
       " 'Mozart_058.mxl',\n",
       " 'Mozart_062.mxl',\n",
       " 'Mozart_063.mxl',\n",
       " 'Mozart_065.mxl',\n",
       " 'Mozart_066.mxl',\n",
       " 'Mozart_067.mxl',\n",
       " 'Mozart_070.mxl',\n",
       " 'Mozart_071.mxl',\n",
       " 'Mozart_075.mxl',\n",
       " 'Mozart_076.mxl',\n",
       " 'Mozart_078.mxl',\n",
       " 'Mozart_079.mxl',\n",
       " 'Mozart_081.mxl',\n",
       " 'Mozart_083.mxl',\n",
       " 'Mozart_085.mxl',\n",
       " 'Mozart_086.mxl',\n",
       " 'Mozart_091.mxl',\n",
       " 'Mozart_092.mxl',\n",
       " 'Mozart_093.mxl',\n",
       " 'Mozart_094.mxl',\n",
       " 'Mozart_095.mxl',\n",
       " 'Mozart_096.mxl',\n",
       " 'Mozart_097.mxl',\n",
       " 'Mozart_099.mxl',\n",
       " 'Beethoven_100.mxl',\n",
       " 'Beethoven_102.mxl',\n",
       " 'Beethoven_105.mxl',\n",
       " 'Beethoven_107.mxl',\n",
       " 'Beethoven_108.mxl',\n",
       " 'Beethoven_110.mxl',\n",
       " 'Beethoven_115.mxl',\n",
       " 'Beethoven_116.mxl',\n",
       " 'Beethoven_119.mxl',\n",
       " 'Beethoven_122.mxl',\n",
       " 'Beethoven_123.mxl',\n",
       " 'Beethoven_127.mxl',\n",
       " 'Beethoven_128.mxl',\n",
       " 'Beethoven_130.mxl',\n",
       " 'Beethoven_132.mxl',\n",
       " 'Beethoven_133.mxl',\n",
       " 'Beethoven_136.mxl',\n",
       " 'Beethoven_137.mxl',\n",
       " 'Beethoven_139.mxl',\n",
       " 'Beethoven_140.mxl',\n",
       " 'Beethoven_143.mxl',\n",
       " 'Beethoven_147.mxl',\n",
       " 'Beethoven_148.mxl',\n",
       " 'Beethoven_149.mxl',\n",
       " 'Debussy_157.mxl',\n",
       " 'Debussy_160.mxl',\n",
       " 'Debussy_162.mxl',\n",
       " 'Debussy_166.mxl',\n",
       " 'Debussy_178.mxl',\n",
       " 'Debussy_184.mxl',\n",
       " 'Debussy_186.mxl',\n",
       " 'Debussy_188.mxl',\n",
       " 'Debussy_193.mxl',\n",
       " 'Debussy_194.mxl',\n",
       " 'Bach_001.mxl',\n",
       " 'Bach_007.mxl',\n",
       " 'Bach_013.mxl',\n",
       " 'Bach_016.mxl',\n",
       " 'Bach_017.mxl',\n",
       " 'Bach_019.mxl',\n",
       " 'Bach_020.mxl',\n",
       " 'Bach_022.mxl',\n",
       " 'Bach_029.mxl',\n",
       " 'Bach_031.mxl',\n",
       " 'Bach_032.mxl',\n",
       " 'Bach_033.mxl',\n",
       " 'Bach_042.mxl',\n",
       " 'Bach_044.mxl',\n",
       " 'Bach_047.mxl',\n",
       " 'Mozart_050.mxl',\n",
       " 'Mozart_052.mxl',\n",
       " 'Mozart_054.mxl',\n",
       " 'Mozart_055.mxl',\n",
       " 'Mozart_056.mxl',\n",
       " 'Mozart_057.mxl',\n",
       " 'Mozart_058.mxl',\n",
       " 'Mozart_059.mxl',\n",
       " 'Mozart_060.mxl',\n",
       " 'Mozart_062.mxl',\n",
       " 'Mozart_063.mxl',\n",
       " 'Mozart_065.mxl',\n",
       " 'Mozart_066.mxl',\n",
       " 'Mozart_067.mxl',\n",
       " 'Mozart_068.mxl',\n",
       " 'Mozart_072.mxl',\n",
       " 'Mozart_073.mxl',\n",
       " 'Mozart_074.mxl',\n",
       " 'Mozart_075.mxl',\n",
       " 'Mozart_077.mxl',\n",
       " 'Mozart_078.mxl',\n",
       " 'Mozart_079.mxl',\n",
       " 'Mozart_080.mxl',\n",
       " 'Mozart_081.mxl',\n",
       " 'Mozart_082.mxl',\n",
       " 'Mozart_083.mxl',\n",
       " 'Mozart_084.mxl',\n",
       " 'Mozart_086.mxl',\n",
       " 'Mozart_087.mxl',\n",
       " 'Mozart_091.mxl',\n",
       " 'Mozart_092.mxl',\n",
       " 'Mozart_093.mxl',\n",
       " 'Mozart_094.mxl',\n",
       " 'Mozart_095.mxl',\n",
       " 'Mozart_099.mxl',\n",
       " 'Beethoven_101.mxl',\n",
       " 'Beethoven_102.mxl',\n",
       " 'Beethoven_103.mxl',\n",
       " 'Beethoven_104.mxl',\n",
       " 'Beethoven_105.mxl',\n",
       " 'Beethoven_106.mxl',\n",
       " 'Beethoven_107.mxl',\n",
       " 'Beethoven_108.mxl',\n",
       " 'Beethoven_110.mxl',\n",
       " 'Beethoven_112.mxl',\n",
       " 'Beethoven_113.mxl',\n",
       " 'Beethoven_114.mxl',\n",
       " 'Beethoven_115.mxl',\n",
       " 'Beethoven_116.mxl',\n",
       " 'Beethoven_119.mxl',\n",
       " 'Beethoven_120.mxl',\n",
       " 'Beethoven_121.mxl',\n",
       " 'Beethoven_123.mxl',\n",
       " 'Beethoven_126.mxl',\n",
       " 'Beethoven_127.mxl',\n",
       " 'Beethoven_130.mxl',\n",
       " 'Beethoven_131.mxl',\n",
       " 'Beethoven_132.mxl',\n",
       " 'Beethoven_133.mxl',\n",
       " 'Beethoven_134.mxl',\n",
       " 'Beethoven_135.mxl',\n",
       " 'Beethoven_136.mxl',\n",
       " 'Beethoven_138.mxl',\n",
       " 'Beethoven_139.mxl',\n",
       " 'Beethoven_140.mxl',\n",
       " 'Beethoven_143.mxl',\n",
       " 'Beethoven_144.mxl',\n",
       " 'Beethoven_149.mxl',\n",
       " 'Debussy_150.mxl',\n",
       " 'Debussy_152.mxl',\n",
       " 'Debussy_153.mxl',\n",
       " 'Debussy_157.mxl',\n",
       " 'Debussy_158.mxl',\n",
       " 'Debussy_159.mxl',\n",
       " 'Debussy_160.mxl',\n",
       " 'Debussy_162.mxl',\n",
       " 'Debussy_166.mxl',\n",
       " 'Debussy_167.mxl',\n",
       " 'Debussy_172.mxl',\n",
       " 'Debussy_184.mxl',\n",
       " 'Debussy_185.mxl',\n",
       " 'Debussy_186.mxl',\n",
       " 'Debussy_187.mxl',\n",
       " 'Debussy_188.mxl',\n",
       " 'Debussy_190.mxl',\n",
       " 'Debussy_192.mxl',\n",
       " 'Debussy_193.mxl',\n",
       " 'Debussy_196.mxl',\n",
       " 'Debussy_197.mxl',\n",
       " 'Debussy_199.mxl',\n",
       " 'Bach_013.mxl',\n",
       " 'Bach_017.mxl',\n",
       " 'Bach_018.mxl',\n",
       " 'Bach_019.mxl',\n",
       " 'Bach_022.mxl',\n",
       " 'Bach_025.mxl',\n",
       " 'Bach_028.mxl',\n",
       " 'Bach_029.mxl',\n",
       " 'Bach_030.mxl',\n",
       " 'Bach_031.mxl',\n",
       " 'Bach_032.mxl',\n",
       " 'Bach_033.mxl',\n",
       " 'Bach_034.mxl',\n",
       " 'Bach_038.mxl',\n",
       " 'Bach_042.mxl',\n",
       " 'Bach_044.mxl',\n",
       " 'Bach_047.mxl',\n",
       " 'Bach_048.mxl',\n",
       " 'Mozart_050.mxl',\n",
       " 'Mozart_051.mxl',\n",
       " 'Mozart_052.mxl',\n",
       " 'Mozart_053.mxl',\n",
       " 'Mozart_054.mxl',\n",
       " 'Mozart_055.mxl',\n",
       " 'Mozart_056.mxl',\n",
       " 'Mozart_057.mxl',\n",
       " 'Mozart_058.mxl',\n",
       " 'Mozart_059.mxl',\n",
       " 'Mozart_060.mxl',\n",
       " 'Mozart_061.mxl',\n",
       " 'Mozart_063.mxl',\n",
       " 'Mozart_065.mxl',\n",
       " 'Mozart_066.mxl',\n",
       " 'Mozart_067.mxl',\n",
       " 'Mozart_068.mxl',\n",
       " 'Mozart_070.mxl',\n",
       " 'Mozart_071.mxl',\n",
       " 'Mozart_072.mxl',\n",
       " 'Mozart_073.mxl',\n",
       " 'Mozart_074.mxl',\n",
       " 'Mozart_075.mxl',\n",
       " 'Mozart_076.mxl',\n",
       " 'Mozart_077.mxl',\n",
       " 'Mozart_078.mxl',\n",
       " 'Mozart_079.mxl',\n",
       " 'Mozart_080.mxl',\n",
       " 'Mozart_081.mxl',\n",
       " 'Mozart_082.mxl',\n",
       " 'Mozart_084.mxl',\n",
       " 'Mozart_086.mxl',\n",
       " 'Mozart_087.mxl',\n",
       " 'Mozart_090.mxl',\n",
       " 'Mozart_091.mxl',\n",
       " 'Mozart_092.mxl',\n",
       " 'Mozart_093.mxl',\n",
       " 'Mozart_094.mxl',\n",
       " 'Mozart_095.mxl',\n",
       " 'Mozart_097.mxl',\n",
       " 'Mozart_098.mxl',\n",
       " 'Mozart_099.mxl',\n",
       " 'Beethoven_100.mxl',\n",
       " 'Beethoven_101.mxl',\n",
       " 'Beethoven_102.mxl',\n",
       " 'Beethoven_103.mxl',\n",
       " 'Beethoven_104.mxl',\n",
       " 'Beethoven_105.mxl',\n",
       " 'Beethoven_106.mxl',\n",
       " 'Beethoven_108.mxl',\n",
       " 'Beethoven_110.mxl',\n",
       " 'Beethoven_112.mxl',\n",
       " 'Beethoven_113.mxl',\n",
       " 'Beethoven_114.mxl',\n",
       " 'Beethoven_115.mxl',\n",
       " 'Beethoven_116.mxl',\n",
       " 'Beethoven_118.mxl',\n",
       " 'Beethoven_119.mxl',\n",
       " 'Beethoven_120.mxl',\n",
       " 'Beethoven_121.mxl',\n",
       " 'Beethoven_123.mxl',\n",
       " 'Beethoven_126.mxl',\n",
       " 'Beethoven_127.mxl',\n",
       " 'Beethoven_128.mxl',\n",
       " 'Beethoven_129.mxl',\n",
       " 'Beethoven_130.mxl',\n",
       " 'Beethoven_131.mxl',\n",
       " 'Beethoven_132.mxl',\n",
       " 'Beethoven_133.mxl',\n",
       " 'Beethoven_134.mxl',\n",
       " 'Beethoven_135.mxl',\n",
       " 'Beethoven_136.mxl',\n",
       " 'Beethoven_138.mxl',\n",
       " 'Beethoven_139.mxl',\n",
       " 'Beethoven_140.mxl',\n",
       " 'Beethoven_141.mxl',\n",
       " 'Beethoven_142.mxl',\n",
       " 'Beethoven_143.mxl',\n",
       " 'Beethoven_145.mxl',\n",
       " 'Beethoven_146.mxl',\n",
       " 'Beethoven_148.mxl',\n",
       " 'Beethoven_149.mxl',\n",
       " 'Debussy_150.mxl',\n",
       " 'Debussy_152.mxl',\n",
       " 'Debussy_153.mxl',\n",
       " 'Debussy_155.mxl',\n",
       " 'Debussy_157.mxl',\n",
       " 'Debussy_158.mxl',\n",
       " 'Debussy_159.mxl',\n",
       " 'Debussy_160.mxl',\n",
       " 'Debussy_162.mxl',\n",
       " 'Debussy_164.mxl',\n",
       " 'Debussy_166.mxl',\n",
       " 'Debussy_167.mxl',\n",
       " 'Debussy_168.mxl',\n",
       " 'Debussy_169.mxl',\n",
       " 'Debussy_171.mxl',\n",
       " 'Debussy_172.mxl',\n",
       " 'Debussy_173.mxl',\n",
       " 'Debussy_174.mxl',\n",
       " 'Debussy_176.mxl',\n",
       " 'Debussy_177.mxl',\n",
       " 'Debussy_178.mxl',\n",
       " 'Debussy_179.mxl',\n",
       " 'Debussy_180.mxl',\n",
       " 'Debussy_184.mxl',\n",
       " 'Debussy_185.mxl',\n",
       " 'Debussy_186.mxl',\n",
       " 'Debussy_187.mxl',\n",
       " 'Debussy_188.mxl',\n",
       " 'Debussy_190.mxl',\n",
       " 'Debussy_191.mxl',\n",
       " 'Debussy_192.mxl',\n",
       " 'Debussy_193.mxl',\n",
       " 'Debussy_196.mxl',\n",
       " 'Debussy_197.mxl',\n",
       " 'Debussy_199.mxl',\n",
       " 'Bach_001.mxl',\n",
       " 'Bach_002.mxl',\n",
       " 'Bach_003.mxl',\n",
       " 'Bach_006.mxl',\n",
       " 'Bach_010.mxl',\n",
       " 'Bach_014.mxl',\n",
       " 'Bach_016.mxl',\n",
       " 'Bach_017.mxl',\n",
       " 'Bach_018.mxl',\n",
       " 'Bach_019.mxl',\n",
       " 'Bach_023.mxl',\n",
       " 'Bach_025.mxl',\n",
       " 'Bach_031.mxl',\n",
       " 'Bach_032.mxl',\n",
       " 'Bach_033.mxl',\n",
       " 'Bach_034.mxl',\n",
       " 'Bach_039.mxl',\n",
       " 'Bach_042.mxl',\n",
       " 'Bach_044.mxl',\n",
       " 'Bach_047.mxl',\n",
       " 'Bach_048.mxl',\n",
       " 'Mozart_050.mxl',\n",
       " 'Mozart_051.mxl',\n",
       " 'Mozart_052.mxl',\n",
       " 'Mozart_053.mxl',\n",
       " 'Mozart_055.mxl',\n",
       " 'Mozart_056.mxl',\n",
       " 'Mozart_057.mxl',\n",
       " 'Mozart_058.mxl',\n",
       " 'Mozart_059.mxl',\n",
       " 'Mozart_060.mxl',\n",
       " 'Mozart_061.mxl',\n",
       " 'Mozart_062.mxl',\n",
       " 'Mozart_063.mxl',\n",
       " 'Mozart_064.mxl',\n",
       " 'Mozart_065.mxl',\n",
       " 'Mozart_066.mxl',\n",
       " 'Mozart_067.mxl',\n",
       " 'Mozart_068.mxl',\n",
       " 'Mozart_069.mxl',\n",
       " 'Mozart_070.mxl',\n",
       " 'Mozart_071.mxl',\n",
       " 'Mozart_072.mxl',\n",
       " 'Mozart_073.mxl',\n",
       " 'Mozart_074.mxl',\n",
       " 'Mozart_075.mxl',\n",
       " 'Mozart_076.mxl',\n",
       " 'Mozart_077.mxl',\n",
       " 'Mozart_078.mxl',\n",
       " 'Mozart_079.mxl',\n",
       " 'Mozart_080.mxl',\n",
       " 'Mozart_081.mxl',\n",
       " 'Mozart_082.mxl',\n",
       " 'Mozart_083.mxl',\n",
       " 'Mozart_084.mxl',\n",
       " 'Mozart_085.mxl',\n",
       " 'Mozart_086.mxl',\n",
       " 'Mozart_087.mxl',\n",
       " 'Mozart_088.mxl',\n",
       " 'Mozart_089.mxl',\n",
       " 'Mozart_090.mxl',\n",
       " 'Mozart_091.mxl',\n",
       " 'Mozart_092.mxl',\n",
       " 'Mozart_093.mxl',\n",
       " 'Mozart_094.mxl',\n",
       " 'Mozart_095.mxl',\n",
       " 'Mozart_096.mxl',\n",
       " 'Mozart_097.mxl',\n",
       " 'Mozart_098.mxl',\n",
       " 'Mozart_099.mxl',\n",
       " 'Beethoven_100.mxl',\n",
       " 'Beethoven_102.mxl',\n",
       " 'Beethoven_103.mxl',\n",
       " 'Beethoven_104.mxl',\n",
       " 'Beethoven_105.mxl',\n",
       " 'Beethoven_106.mxl',\n",
       " 'Beethoven_107.mxl',\n",
       " 'Beethoven_108.mxl',\n",
       " 'Beethoven_110.mxl',\n",
       " 'Beethoven_111.mxl',\n",
       " 'Beethoven_112.mxl',\n",
       " 'Beethoven_113.mxl',\n",
       " 'Beethoven_114.mxl',\n",
       " 'Beethoven_115.mxl',\n",
       " 'Beethoven_116.mxl',\n",
       " 'Beethoven_117.mxl',\n",
       " 'Beethoven_118.mxl',\n",
       " 'Beethoven_119.mxl',\n",
       " 'Beethoven_120.mxl',\n",
       " 'Beethoven_121.mxl',\n",
       " 'Beethoven_122.mxl',\n",
       " 'Beethoven_123.mxl',\n",
       " 'Beethoven_124.mxl',\n",
       " 'Beethoven_125.mxl',\n",
       " 'Beethoven_126.mxl',\n",
       " 'Beethoven_127.mxl',\n",
       " 'Beethoven_128.mxl',\n",
       " 'Beethoven_129.mxl',\n",
       " 'Beethoven_130.mxl',\n",
       " 'Beethoven_131.mxl',\n",
       " 'Beethoven_132.mxl',\n",
       " 'Beethoven_133.mxl',\n",
       " 'Beethoven_134.mxl',\n",
       " 'Beethoven_135.mxl',\n",
       " 'Beethoven_136.mxl',\n",
       " 'Beethoven_138.mxl',\n",
       " 'Beethoven_139.mxl',\n",
       " 'Beethoven_140.mxl',\n",
       " 'Beethoven_141.mxl',\n",
       " 'Beethoven_142.mxl',\n",
       " 'Beethoven_143.mxl',\n",
       " 'Beethoven_144.mxl',\n",
       " 'Beethoven_145.mxl',\n",
       " 'Beethoven_146.mxl',\n",
       " 'Beethoven_147.mxl',\n",
       " 'Beethoven_148.mxl',\n",
       " 'Beethoven_149.mxl',\n",
       " 'Debussy_150.mxl',\n",
       " 'Debussy_151.mxl',\n",
       " 'Debussy_152.mxl',\n",
       " 'Debussy_153.mxl',\n",
       " 'Debussy_154.mxl',\n",
       " 'Debussy_155.mxl',\n",
       " 'Debussy_156.mxl',\n",
       " 'Debussy_157.mxl',\n",
       " 'Debussy_158.mxl',\n",
       " 'Debussy_159.mxl',\n",
       " 'Debussy_160.mxl',\n",
       " 'Debussy_161.mxl',\n",
       " 'Debussy_162.mxl',\n",
       " 'Debussy_163.mxl',\n",
       " 'Debussy_164.mxl',\n",
       " 'Debussy_165.mxl',\n",
       " 'Debussy_166.mxl',\n",
       " ...]"
      ]
     },
     "execution_count": 229,
     "metadata": {},
     "output_type": "execute_result"
    }
   ],
   "source": [
    "VECTORIZER = TfidfVectorizer(sublinear_tf=True)\n",
    "benchmark_classifiers(COMPOSERs,NGRAMRANGES,CLASSIFIERS,VECTORIZER)"
   ]
  },
  {
   "cell_type": "code",
   "execution_count": null,
   "metadata": {},
   "outputs": [],
   "source": [
    "# Compare different methods of vectorizing"
   ]
  },
  {
   "cell_type": "code",
   "execution_count": null,
   "metadata": {},
   "outputs": [],
   "source": [
    "VECTORIZER = CountVectorizer(binary=True)\n",
    "benchmark_classifiers(COMPOSERs,NGRAMRANGES,CLASSIFIERS,VECTORIZER)"
   ]
  },
  {
   "cell_type": "code",
   "execution_count": null,
   "metadata": {},
   "outputs": [],
   "source": [
    "VECTORIZER = CountVectorizer()\n",
    "benchmark_classifiers(COMPOSERs,NGRAMRANGES,CLASSIFIERS,VECTORIZER)"
   ]
  },
  {
   "cell_type": "code",
   "execution_count": null,
   "metadata": {},
   "outputs": [],
   "source": [
    "# test pairwise classification "
   ]
  },
  {
   "cell_type": "code",
   "execution_count": 214,
   "metadata": {
    "scrolled": true
   },
   "outputs": [
    {
     "data": {
      "application/vnd.jupyter.widget-view+json": {
       "model_id": "3180badffe014e068ee55122bed26807",
       "version_major": 2,
       "version_minor": 0
      },
      "text/plain": [
       "HBox(children=(FloatProgress(value=0.0, max=6.0), HTML(value='')))"
      ]
     },
     "metadata": {},
     "output_type": "display_data"
    },
    {
     "name": "stdout",
     "output_type": "stream",
     "text": [
      "comparing Bach and Mozart (composers 0 and 1)\n"
     ]
    },
    {
     "data": {
      "application/vnd.jupyter.widget-view+json": {
       "model_id": "",
       "version_major": 2,
       "version_minor": 0
      },
      "text/plain": [
       "HBox(children=(FloatProgress(value=0.0, max=1.0), HTML(value='')))"
      ]
     },
     "metadata": {},
     "output_type": "display_data"
    },
    {
     "name": "stdout",
     "output_type": "stream",
     "text": [
      "n-gram range (1, 2)\n"
     ]
    },
    {
     "data": {
      "application/vnd.jupyter.widget-view+json": {
       "model_id": "",
       "version_major": 2,
       "version_minor": 0
      },
      "text/plain": [
       "HBox(children=(FloatProgress(value=0.0, max=10.0), HTML(value='')))"
      ]
     },
     "metadata": {},
     "output_type": "display_data"
    },
    {
     "data": {
      "application/vnd.jupyter.widget-view+json": {
       "model_id": "",
       "version_major": 2,
       "version_minor": 0
      },
      "text/plain": [
       "HBox(children=(FloatProgress(value=0.0, max=6.0), HTML(value='')))"
      ]
     },
     "metadata": {},
     "output_type": "display_data"
    },
    {
     "data": {
      "application/vnd.jupyter.widget-view+json": {
       "model_id": "",
       "version_major": 2,
       "version_minor": 0
      },
      "text/plain": [
       "HBox(children=(FloatProgress(value=0.0, max=6.0), HTML(value='')))"
      ]
     },
     "metadata": {},
     "output_type": "display_data"
    },
    {
     "data": {
      "application/vnd.jupyter.widget-view+json": {
       "model_id": "",
       "version_major": 2,
       "version_minor": 0
      },
      "text/plain": [
       "HBox(children=(FloatProgress(value=0.0, max=6.0), HTML(value='')))"
      ]
     },
     "metadata": {},
     "output_type": "display_data"
    },
    {
     "data": {
      "application/vnd.jupyter.widget-view+json": {
       "model_id": "",
       "version_major": 2,
       "version_minor": 0
      },
      "text/plain": [
       "HBox(children=(FloatProgress(value=0.0, max=6.0), HTML(value='')))"
      ]
     },
     "metadata": {},
     "output_type": "display_data"
    },
    {
     "data": {
      "application/vnd.jupyter.widget-view+json": {
       "model_id": "",
       "version_major": 2,
       "version_minor": 0
      },
      "text/plain": [
       "HBox(children=(FloatProgress(value=0.0, max=6.0), HTML(value='')))"
      ]
     },
     "metadata": {},
     "output_type": "display_data"
    },
    {
     "data": {
      "application/vnd.jupyter.widget-view+json": {
       "model_id": "",
       "version_major": 2,
       "version_minor": 0
      },
      "text/plain": [
       "HBox(children=(FloatProgress(value=0.0, max=6.0), HTML(value='')))"
      ]
     },
     "metadata": {},
     "output_type": "display_data"
    },
    {
     "data": {
      "application/vnd.jupyter.widget-view+json": {
       "model_id": "",
       "version_major": 2,
       "version_minor": 0
      },
      "text/plain": [
       "HBox(children=(FloatProgress(value=0.0, max=6.0), HTML(value='')))"
      ]
     },
     "metadata": {},
     "output_type": "display_data"
    },
    {
     "data": {
      "application/vnd.jupyter.widget-view+json": {
       "model_id": "",
       "version_major": 2,
       "version_minor": 0
      },
      "text/plain": [
       "HBox(children=(FloatProgress(value=0.0, max=6.0), HTML(value='')))"
      ]
     },
     "metadata": {},
     "output_type": "display_data"
    },
    {
     "data": {
      "application/vnd.jupyter.widget-view+json": {
       "model_id": "",
       "version_major": 2,
       "version_minor": 0
      },
      "text/plain": [
       "HBox(children=(FloatProgress(value=0.0, max=6.0), HTML(value='')))"
      ]
     },
     "metadata": {},
     "output_type": "display_data"
    },
    {
     "data": {
      "application/vnd.jupyter.widget-view+json": {
       "model_id": "",
       "version_major": 2,
       "version_minor": 0
      },
      "text/plain": [
       "HBox(children=(FloatProgress(value=0.0, max=6.0), HTML(value='')))"
      ]
     },
     "metadata": {},
     "output_type": "display_data"
    },
    {
     "name": "stdout",
     "output_type": "stream",
     "text": [
      "LinearSVC\n",
      "[[48  2]\n",
      " [28 22]]\n",
      "micro-averaged f-score (std) & macro-averaged f-score (std)\n",
      "0.7 (0.1764) & 0.6681 (0.1842)\n",
      "LogisticRegression\n",
      "[[46  4]\n",
      " [38 12]]\n",
      "micro-averaged f-score (std) & macro-averaged f-score (std)\n",
      "0.58 (0.1814) & 0.5252 (0.16)\n",
      "KNeighborsClassifier\n",
      "[[50  0]\n",
      " [40 10]]\n",
      "micro-averaged f-score (std) & macro-averaged f-score (std)\n",
      "0.6 (0.1944) & 0.5277 (0.1612)\n",
      "MLPClassifier\n",
      "[[48  2]\n",
      " [33 17]]\n",
      "micro-averaged f-score (std) & macro-averaged f-score (std)\n",
      "0.65 (0.2321) & 0.6141 (0.2321)\n",
      "RandomForestClassifier\n",
      "[[40 10]\n",
      " [18 32]]\n",
      "micro-averaged f-score (std) & macro-averaged f-score (std)\n",
      "0.72 (0.1619) & 0.7055 (0.171)\n",
      "GradientBoostingClassifier\n",
      "[[40 10]\n",
      " [19 31]]\n",
      "micro-averaged f-score (std) & macro-averaged f-score (std)\n",
      "0.71 (0.1524) & 0.6956 (0.1561)\n",
      "-----\n",
      "comparing Bach and Beethoven (composers 0 and 2)\n"
     ]
    },
    {
     "data": {
      "application/vnd.jupyter.widget-view+json": {
       "model_id": "",
       "version_major": 2,
       "version_minor": 0
      },
      "text/plain": [
       "HBox(children=(FloatProgress(value=0.0, max=1.0), HTML(value='')))"
      ]
     },
     "metadata": {},
     "output_type": "display_data"
    },
    {
     "name": "stdout",
     "output_type": "stream",
     "text": [
      "n-gram range (1, 2)\n"
     ]
    },
    {
     "data": {
      "application/vnd.jupyter.widget-view+json": {
       "model_id": "",
       "version_major": 2,
       "version_minor": 0
      },
      "text/plain": [
       "HBox(children=(FloatProgress(value=0.0, max=10.0), HTML(value='')))"
      ]
     },
     "metadata": {},
     "output_type": "display_data"
    },
    {
     "data": {
      "application/vnd.jupyter.widget-view+json": {
       "model_id": "",
       "version_major": 2,
       "version_minor": 0
      },
      "text/plain": [
       "HBox(children=(FloatProgress(value=0.0, max=6.0), HTML(value='')))"
      ]
     },
     "metadata": {},
     "output_type": "display_data"
    },
    {
     "name": "stderr",
     "output_type": "stream",
     "text": [
      "C:\\Users\\user\\anaconda3\\lib\\site-packages\\sklearn\\svm\\_base.py:947: ConvergenceWarning: Liblinear failed to converge, increase the number of iterations.\n",
      "  \"the number of iterations.\", ConvergenceWarning)\n"
     ]
    },
    {
     "data": {
      "application/vnd.jupyter.widget-view+json": {
       "model_id": "",
       "version_major": 2,
       "version_minor": 0
      },
      "text/plain": [
       "HBox(children=(FloatProgress(value=0.0, max=6.0), HTML(value='')))"
      ]
     },
     "metadata": {},
     "output_type": "display_data"
    },
    {
     "data": {
      "application/vnd.jupyter.widget-view+json": {
       "model_id": "",
       "version_major": 2,
       "version_minor": 0
      },
      "text/plain": [
       "HBox(children=(FloatProgress(value=0.0, max=6.0), HTML(value='')))"
      ]
     },
     "metadata": {},
     "output_type": "display_data"
    },
    {
     "data": {
      "application/vnd.jupyter.widget-view+json": {
       "model_id": "",
       "version_major": 2,
       "version_minor": 0
      },
      "text/plain": [
       "HBox(children=(FloatProgress(value=0.0, max=6.0), HTML(value='')))"
      ]
     },
     "metadata": {},
     "output_type": "display_data"
    },
    {
     "data": {
      "application/vnd.jupyter.widget-view+json": {
       "model_id": "",
       "version_major": 2,
       "version_minor": 0
      },
      "text/plain": [
       "HBox(children=(FloatProgress(value=0.0, max=6.0), HTML(value='')))"
      ]
     },
     "metadata": {},
     "output_type": "display_data"
    },
    {
     "data": {
      "application/vnd.jupyter.widget-view+json": {
       "model_id": "",
       "version_major": 2,
       "version_minor": 0
      },
      "text/plain": [
       "HBox(children=(FloatProgress(value=0.0, max=6.0), HTML(value='')))"
      ]
     },
     "metadata": {},
     "output_type": "display_data"
    },
    {
     "name": "stderr",
     "output_type": "stream",
     "text": [
      "C:\\Users\\user\\anaconda3\\lib\\site-packages\\sklearn\\svm\\_base.py:947: ConvergenceWarning: Liblinear failed to converge, increase the number of iterations.\n",
      "  \"the number of iterations.\", ConvergenceWarning)\n"
     ]
    },
    {
     "data": {
      "application/vnd.jupyter.widget-view+json": {
       "model_id": "",
       "version_major": 2,
       "version_minor": 0
      },
      "text/plain": [
       "HBox(children=(FloatProgress(value=0.0, max=6.0), HTML(value='')))"
      ]
     },
     "metadata": {},
     "output_type": "display_data"
    },
    {
     "data": {
      "application/vnd.jupyter.widget-view+json": {
       "model_id": "",
       "version_major": 2,
       "version_minor": 0
      },
      "text/plain": [
       "HBox(children=(FloatProgress(value=0.0, max=6.0), HTML(value='')))"
      ]
     },
     "metadata": {},
     "output_type": "display_data"
    },
    {
     "data": {
      "application/vnd.jupyter.widget-view+json": {
       "model_id": "",
       "version_major": 2,
       "version_minor": 0
      },
      "text/plain": [
       "HBox(children=(FloatProgress(value=0.0, max=6.0), HTML(value='')))"
      ]
     },
     "metadata": {},
     "output_type": "display_data"
    },
    {
     "name": "stderr",
     "output_type": "stream",
     "text": [
      "C:\\Users\\user\\anaconda3\\lib\\site-packages\\sklearn\\svm\\_base.py:947: ConvergenceWarning: Liblinear failed to converge, increase the number of iterations.\n",
      "  \"the number of iterations.\", ConvergenceWarning)\n"
     ]
    },
    {
     "data": {
      "application/vnd.jupyter.widget-view+json": {
       "model_id": "",
       "version_major": 2,
       "version_minor": 0
      },
      "text/plain": [
       "HBox(children=(FloatProgress(value=0.0, max=6.0), HTML(value='')))"
      ]
     },
     "metadata": {},
     "output_type": "display_data"
    },
    {
     "name": "stdout",
     "output_type": "stream",
     "text": [
      "LinearSVC\n",
      "[[49  1]\n",
      " [19 31]]\n",
      "micro-averaged f-score (std) & macro-averaged f-score (std)\n",
      "0.8 (0.1247) & 0.7887 (0.1275)\n",
      "LogisticRegression\n",
      "[[47  3]\n",
      " [39 11]]\n",
      "micro-averaged f-score (std) & macro-averaged f-score (std)\n",
      "0.58 (0.1989) & 0.5184 (0.174)\n",
      "KNeighborsClassifier\n",
      "[[50  0]\n",
      " [39 11]]\n",
      "micro-averaged f-score (std) & macro-averaged f-score (std)\n",
      "0.61 (0.137) & 0.5374 (0.1026)\n",
      "MLPClassifier\n",
      "[[47  3]\n",
      " [26 24]]\n",
      "micro-averaged f-score (std) & macro-averaged f-score (std)\n",
      "0.71 (0.1853) & 0.6931 (0.1838)\n",
      "RandomForestClassifier\n",
      "[[38 12]\n",
      " [17 33]]\n",
      "micro-averaged f-score (std) & macro-averaged f-score (std)\n",
      "0.71 (0.1449) & 0.6992 (0.1474)\n",
      "GradientBoostingClassifier\n",
      "[[43  7]\n",
      " [22 28]]\n",
      "micro-averaged f-score (std) & macro-averaged f-score (std)\n",
      "0.71 (0.1595) & 0.6974 (0.1545)\n",
      "-----\n",
      "comparing Bach and Debussy (composers 0 and 3)\n"
     ]
    },
    {
     "data": {
      "application/vnd.jupyter.widget-view+json": {
       "model_id": "",
       "version_major": 2,
       "version_minor": 0
      },
      "text/plain": [
       "HBox(children=(FloatProgress(value=0.0, max=1.0), HTML(value='')))"
      ]
     },
     "metadata": {},
     "output_type": "display_data"
    },
    {
     "name": "stdout",
     "output_type": "stream",
     "text": [
      "n-gram range (1, 2)\n"
     ]
    },
    {
     "data": {
      "application/vnd.jupyter.widget-view+json": {
       "model_id": "",
       "version_major": 2,
       "version_minor": 0
      },
      "text/plain": [
       "HBox(children=(FloatProgress(value=0.0, max=10.0), HTML(value='')))"
      ]
     },
     "metadata": {},
     "output_type": "display_data"
    },
    {
     "data": {
      "application/vnd.jupyter.widget-view+json": {
       "model_id": "",
       "version_major": 2,
       "version_minor": 0
      },
      "text/plain": [
       "HBox(children=(FloatProgress(value=0.0, max=6.0), HTML(value='')))"
      ]
     },
     "metadata": {},
     "output_type": "display_data"
    },
    {
     "data": {
      "application/vnd.jupyter.widget-view+json": {
       "model_id": "",
       "version_major": 2,
       "version_minor": 0
      },
      "text/plain": [
       "HBox(children=(FloatProgress(value=0.0, max=6.0), HTML(value='')))"
      ]
     },
     "metadata": {},
     "output_type": "display_data"
    },
    {
     "data": {
      "application/vnd.jupyter.widget-view+json": {
       "model_id": "",
       "version_major": 2,
       "version_minor": 0
      },
      "text/plain": [
       "HBox(children=(FloatProgress(value=0.0, max=6.0), HTML(value='')))"
      ]
     },
     "metadata": {},
     "output_type": "display_data"
    },
    {
     "data": {
      "application/vnd.jupyter.widget-view+json": {
       "model_id": "",
       "version_major": 2,
       "version_minor": 0
      },
      "text/plain": [
       "HBox(children=(FloatProgress(value=0.0, max=6.0), HTML(value='')))"
      ]
     },
     "metadata": {},
     "output_type": "display_data"
    },
    {
     "data": {
      "application/vnd.jupyter.widget-view+json": {
       "model_id": "",
       "version_major": 2,
       "version_minor": 0
      },
      "text/plain": [
       "HBox(children=(FloatProgress(value=0.0, max=6.0), HTML(value='')))"
      ]
     },
     "metadata": {},
     "output_type": "display_data"
    },
    {
     "data": {
      "application/vnd.jupyter.widget-view+json": {
       "model_id": "",
       "version_major": 2,
       "version_minor": 0
      },
      "text/plain": [
       "HBox(children=(FloatProgress(value=0.0, max=6.0), HTML(value='')))"
      ]
     },
     "metadata": {},
     "output_type": "display_data"
    },
    {
     "data": {
      "application/vnd.jupyter.widget-view+json": {
       "model_id": "",
       "version_major": 2,
       "version_minor": 0
      },
      "text/plain": [
       "HBox(children=(FloatProgress(value=0.0, max=6.0), HTML(value='')))"
      ]
     },
     "metadata": {},
     "output_type": "display_data"
    },
    {
     "data": {
      "application/vnd.jupyter.widget-view+json": {
       "model_id": "",
       "version_major": 2,
       "version_minor": 0
      },
      "text/plain": [
       "HBox(children=(FloatProgress(value=0.0, max=6.0), HTML(value='')))"
      ]
     },
     "metadata": {},
     "output_type": "display_data"
    },
    {
     "data": {
      "application/vnd.jupyter.widget-view+json": {
       "model_id": "",
       "version_major": 2,
       "version_minor": 0
      },
      "text/plain": [
       "HBox(children=(FloatProgress(value=0.0, max=6.0), HTML(value='')))"
      ]
     },
     "metadata": {},
     "output_type": "display_data"
    },
    {
     "data": {
      "application/vnd.jupyter.widget-view+json": {
       "model_id": "",
       "version_major": 2,
       "version_minor": 0
      },
      "text/plain": [
       "HBox(children=(FloatProgress(value=0.0, max=6.0), HTML(value='')))"
      ]
     },
     "metadata": {},
     "output_type": "display_data"
    },
    {
     "name": "stdout",
     "output_type": "stream",
     "text": [
      "LinearSVC\n",
      "[[50  0]\n",
      " [43  7]]\n",
      "micro-averaged f-score (std) & macro-averaged f-score (std)\n",
      "0.57 (0.1494) & 0.4491 (0.1551)\n",
      "LogisticRegression\n",
      "[[49  1]\n",
      " [38 12]]\n",
      "micro-averaged f-score (std) & macro-averaged f-score (std)\n",
      "0.61 (0.1197) & 0.543 (0.0956)\n",
      "KNeighborsClassifier\n",
      "[[50  0]\n",
      " [40 10]]\n",
      "micro-averaged f-score (std) & macro-averaged f-score (std)\n",
      "0.6 (0.1414) & 0.5253 (0.1097)\n",
      "MLPClassifier\n",
      "[[50  0]\n",
      " [48  2]]\n",
      "micro-averaged f-score (std) & macro-averaged f-score (std)\n",
      "0.52 (0.1229) & 0.3592 (0.0724)\n",
      "RandomForestClassifier\n",
      "[[49  1]\n",
      " [12 38]]\n",
      "micro-averaged f-score (std) & macro-averaged f-score (std)\n",
      "0.87 (0.1567) & 0.8515 (0.1791)\n",
      "GradientBoostingClassifier\n",
      "[[46  4]\n",
      " [27 23]]\n",
      "micro-averaged f-score (std) & macro-averaged f-score (std)\n",
      "0.69 (0.1524) & 0.6621 (0.161)\n",
      "-----\n",
      "comparing Mozart and Beethoven (composers 1 and 2)\n"
     ]
    },
    {
     "data": {
      "application/vnd.jupyter.widget-view+json": {
       "model_id": "",
       "version_major": 2,
       "version_minor": 0
      },
      "text/plain": [
       "HBox(children=(FloatProgress(value=0.0, max=1.0), HTML(value='')))"
      ]
     },
     "metadata": {},
     "output_type": "display_data"
    },
    {
     "name": "stdout",
     "output_type": "stream",
     "text": [
      "n-gram range (1, 2)\n"
     ]
    },
    {
     "data": {
      "application/vnd.jupyter.widget-view+json": {
       "model_id": "",
       "version_major": 2,
       "version_minor": 0
      },
      "text/plain": [
       "HBox(children=(FloatProgress(value=0.0, max=10.0), HTML(value='')))"
      ]
     },
     "metadata": {},
     "output_type": "display_data"
    },
    {
     "data": {
      "application/vnd.jupyter.widget-view+json": {
       "model_id": "",
       "version_major": 2,
       "version_minor": 0
      },
      "text/plain": [
       "HBox(children=(FloatProgress(value=0.0, max=6.0), HTML(value='')))"
      ]
     },
     "metadata": {},
     "output_type": "display_data"
    },
    {
     "data": {
      "application/vnd.jupyter.widget-view+json": {
       "model_id": "",
       "version_major": 2,
       "version_minor": 0
      },
      "text/plain": [
       "HBox(children=(FloatProgress(value=0.0, max=6.0), HTML(value='')))"
      ]
     },
     "metadata": {},
     "output_type": "display_data"
    },
    {
     "data": {
      "application/vnd.jupyter.widget-view+json": {
       "model_id": "",
       "version_major": 2,
       "version_minor": 0
      },
      "text/plain": [
       "HBox(children=(FloatProgress(value=0.0, max=6.0), HTML(value='')))"
      ]
     },
     "metadata": {},
     "output_type": "display_data"
    },
    {
     "data": {
      "application/vnd.jupyter.widget-view+json": {
       "model_id": "",
       "version_major": 2,
       "version_minor": 0
      },
      "text/plain": [
       "HBox(children=(FloatProgress(value=0.0, max=6.0), HTML(value='')))"
      ]
     },
     "metadata": {},
     "output_type": "display_data"
    },
    {
     "data": {
      "application/vnd.jupyter.widget-view+json": {
       "model_id": "",
       "version_major": 2,
       "version_minor": 0
      },
      "text/plain": [
       "HBox(children=(FloatProgress(value=0.0, max=6.0), HTML(value='')))"
      ]
     },
     "metadata": {},
     "output_type": "display_data"
    },
    {
     "data": {
      "application/vnd.jupyter.widget-view+json": {
       "model_id": "",
       "version_major": 2,
       "version_minor": 0
      },
      "text/plain": [
       "HBox(children=(FloatProgress(value=0.0, max=6.0), HTML(value='')))"
      ]
     },
     "metadata": {},
     "output_type": "display_data"
    },
    {
     "data": {
      "application/vnd.jupyter.widget-view+json": {
       "model_id": "",
       "version_major": 2,
       "version_minor": 0
      },
      "text/plain": [
       "HBox(children=(FloatProgress(value=0.0, max=6.0), HTML(value='')))"
      ]
     },
     "metadata": {},
     "output_type": "display_data"
    },
    {
     "data": {
      "application/vnd.jupyter.widget-view+json": {
       "model_id": "",
       "version_major": 2,
       "version_minor": 0
      },
      "text/plain": [
       "HBox(children=(FloatProgress(value=0.0, max=6.0), HTML(value='')))"
      ]
     },
     "metadata": {},
     "output_type": "display_data"
    },
    {
     "data": {
      "application/vnd.jupyter.widget-view+json": {
       "model_id": "",
       "version_major": 2,
       "version_minor": 0
      },
      "text/plain": [
       "HBox(children=(FloatProgress(value=0.0, max=6.0), HTML(value='')))"
      ]
     },
     "metadata": {},
     "output_type": "display_data"
    },
    {
     "data": {
      "application/vnd.jupyter.widget-view+json": {
       "model_id": "",
       "version_major": 2,
       "version_minor": 0
      },
      "text/plain": [
       "HBox(children=(FloatProgress(value=0.0, max=6.0), HTML(value='')))"
      ]
     },
     "metadata": {},
     "output_type": "display_data"
    },
    {
     "name": "stdout",
     "output_type": "stream",
     "text": [
      "LinearSVC\n",
      "[[36 14]\n",
      " [17 33]]\n",
      "micro-averaged f-score (std) & macro-averaged f-score (std)\n",
      "0.69 (0.1524) & 0.6722 (0.1612)\n",
      "LogisticRegression\n",
      "[[29 21]\n",
      " [18 32]]\n",
      "micro-averaged f-score (std) & macro-averaged f-score (std)\n",
      "0.61 (0.0994) & 0.5418 (0.0908)\n",
      "KNeighborsClassifier\n",
      "[[38 12]\n",
      " [47  3]]\n",
      "micro-averaged f-score (std) & macro-averaged f-score (std)\n",
      "0.41 (0.1287) & 0.321 (0.1093)\n",
      "MLPClassifier\n",
      "[[41  9]\n",
      " [42  8]]\n",
      "micro-averaged f-score (std) & macro-averaged f-score (std)\n",
      "0.49 (0.1449) & 0.4013 (0.1418)\n",
      "RandomForestClassifier\n",
      "[[36 14]\n",
      " [17 33]]\n",
      "micro-averaged f-score (std) & macro-averaged f-score (std)\n",
      "0.69 (0.1792) & 0.6793 (0.1854)\n",
      "GradientBoostingClassifier\n",
      "[[34 16]\n",
      " [25 25]]\n",
      "micro-averaged f-score (std) & macro-averaged f-score (std)\n",
      "0.59 (0.0994) & 0.5794 (0.0929)\n",
      "-----\n",
      "comparing Mozart and Debussy (composers 1 and 3)\n"
     ]
    },
    {
     "data": {
      "application/vnd.jupyter.widget-view+json": {
       "model_id": "",
       "version_major": 2,
       "version_minor": 0
      },
      "text/plain": [
       "HBox(children=(FloatProgress(value=0.0, max=1.0), HTML(value='')))"
      ]
     },
     "metadata": {},
     "output_type": "display_data"
    },
    {
     "name": "stdout",
     "output_type": "stream",
     "text": [
      "n-gram range (1, 2)\n"
     ]
    },
    {
     "data": {
      "application/vnd.jupyter.widget-view+json": {
       "model_id": "",
       "version_major": 2,
       "version_minor": 0
      },
      "text/plain": [
       "HBox(children=(FloatProgress(value=0.0, max=10.0), HTML(value='')))"
      ]
     },
     "metadata": {},
     "output_type": "display_data"
    },
    {
     "data": {
      "application/vnd.jupyter.widget-view+json": {
       "model_id": "",
       "version_major": 2,
       "version_minor": 0
      },
      "text/plain": [
       "HBox(children=(FloatProgress(value=0.0, max=6.0), HTML(value='')))"
      ]
     },
     "metadata": {},
     "output_type": "display_data"
    },
    {
     "data": {
      "application/vnd.jupyter.widget-view+json": {
       "model_id": "",
       "version_major": 2,
       "version_minor": 0
      },
      "text/plain": [
       "HBox(children=(FloatProgress(value=0.0, max=6.0), HTML(value='')))"
      ]
     },
     "metadata": {},
     "output_type": "display_data"
    },
    {
     "data": {
      "application/vnd.jupyter.widget-view+json": {
       "model_id": "",
       "version_major": 2,
       "version_minor": 0
      },
      "text/plain": [
       "HBox(children=(FloatProgress(value=0.0, max=6.0), HTML(value='')))"
      ]
     },
     "metadata": {},
     "output_type": "display_data"
    },
    {
     "data": {
      "application/vnd.jupyter.widget-view+json": {
       "model_id": "",
       "version_major": 2,
       "version_minor": 0
      },
      "text/plain": [
       "HBox(children=(FloatProgress(value=0.0, max=6.0), HTML(value='')))"
      ]
     },
     "metadata": {},
     "output_type": "display_data"
    },
    {
     "data": {
      "application/vnd.jupyter.widget-view+json": {
       "model_id": "",
       "version_major": 2,
       "version_minor": 0
      },
      "text/plain": [
       "HBox(children=(FloatProgress(value=0.0, max=6.0), HTML(value='')))"
      ]
     },
     "metadata": {},
     "output_type": "display_data"
    },
    {
     "data": {
      "application/vnd.jupyter.widget-view+json": {
       "model_id": "",
       "version_major": 2,
       "version_minor": 0
      },
      "text/plain": [
       "HBox(children=(FloatProgress(value=0.0, max=6.0), HTML(value='')))"
      ]
     },
     "metadata": {},
     "output_type": "display_data"
    },
    {
     "data": {
      "application/vnd.jupyter.widget-view+json": {
       "model_id": "",
       "version_major": 2,
       "version_minor": 0
      },
      "text/plain": [
       "HBox(children=(FloatProgress(value=0.0, max=6.0), HTML(value='')))"
      ]
     },
     "metadata": {},
     "output_type": "display_data"
    },
    {
     "data": {
      "application/vnd.jupyter.widget-view+json": {
       "model_id": "",
       "version_major": 2,
       "version_minor": 0
      },
      "text/plain": [
       "HBox(children=(FloatProgress(value=0.0, max=6.0), HTML(value='')))"
      ]
     },
     "metadata": {},
     "output_type": "display_data"
    },
    {
     "data": {
      "application/vnd.jupyter.widget-view+json": {
       "model_id": "",
       "version_major": 2,
       "version_minor": 0
      },
      "text/plain": [
       "HBox(children=(FloatProgress(value=0.0, max=6.0), HTML(value='')))"
      ]
     },
     "metadata": {},
     "output_type": "display_data"
    },
    {
     "data": {
      "application/vnd.jupyter.widget-view+json": {
       "model_id": "",
       "version_major": 2,
       "version_minor": 0
      },
      "text/plain": [
       "HBox(children=(FloatProgress(value=0.0, max=6.0), HTML(value='')))"
      ]
     },
     "metadata": {},
     "output_type": "display_data"
    },
    {
     "name": "stdout",
     "output_type": "stream",
     "text": [
      "LinearSVC\n",
      "[[49  1]\n",
      " [19 31]]\n",
      "micro-averaged f-score (std) & macro-averaged f-score (std)\n",
      "0.8 (0.1491) & 0.7928 (0.1546)\n",
      "LogisticRegression\n",
      "[[38 12]\n",
      " [45  5]]\n",
      "micro-averaged f-score (std) & macro-averaged f-score (std)\n",
      "0.43 (0.0949) & 0.3348 (0.0889)\n",
      "KNeighborsClassifier\n",
      "[[38 12]\n",
      " [39 11]]\n",
      "micro-averaged f-score (std) & macro-averaged f-score (std)\n",
      "0.49 (0.0738) & 0.4352 (0.086)\n",
      "MLPClassifier\n",
      "[[48  2]\n",
      " [42  8]]\n",
      "micro-averaged f-score (std) & macro-averaged f-score (std)\n",
      "0.56 (0.2119) & 0.4766 (0.2226)\n",
      "RandomForestClassifier\n",
      "[[43  7]\n",
      " [ 8 42]]\n",
      "micro-averaged f-score (std) & macro-averaged f-score (std)\n",
      "0.85 (0.085) & 0.8388 (0.0926)\n",
      "GradientBoostingClassifier\n",
      "[[46  4]\n",
      " [ 8 42]]\n",
      "micro-averaged f-score (std) & macro-averaged f-score (std)\n",
      "0.88 (0.1398) & 0.8673 (0.1454)\n",
      "-----\n",
      "comparing Beethoven and Debussy (composers 2 and 3)\n"
     ]
    },
    {
     "data": {
      "application/vnd.jupyter.widget-view+json": {
       "model_id": "",
       "version_major": 2,
       "version_minor": 0
      },
      "text/plain": [
       "HBox(children=(FloatProgress(value=0.0, max=1.0), HTML(value='')))"
      ]
     },
     "metadata": {},
     "output_type": "display_data"
    },
    {
     "name": "stdout",
     "output_type": "stream",
     "text": [
      "n-gram range (1, 2)\n"
     ]
    },
    {
     "data": {
      "application/vnd.jupyter.widget-view+json": {
       "model_id": "",
       "version_major": 2,
       "version_minor": 0
      },
      "text/plain": [
       "HBox(children=(FloatProgress(value=0.0, max=10.0), HTML(value='')))"
      ]
     },
     "metadata": {},
     "output_type": "display_data"
    },
    {
     "data": {
      "application/vnd.jupyter.widget-view+json": {
       "model_id": "",
       "version_major": 2,
       "version_minor": 0
      },
      "text/plain": [
       "HBox(children=(FloatProgress(value=0.0, max=6.0), HTML(value='')))"
      ]
     },
     "metadata": {},
     "output_type": "display_data"
    },
    {
     "data": {
      "application/vnd.jupyter.widget-view+json": {
       "model_id": "",
       "version_major": 2,
       "version_minor": 0
      },
      "text/plain": [
       "HBox(children=(FloatProgress(value=0.0, max=6.0), HTML(value='')))"
      ]
     },
     "metadata": {},
     "output_type": "display_data"
    },
    {
     "data": {
      "application/vnd.jupyter.widget-view+json": {
       "model_id": "",
       "version_major": 2,
       "version_minor": 0
      },
      "text/plain": [
       "HBox(children=(FloatProgress(value=0.0, max=6.0), HTML(value='')))"
      ]
     },
     "metadata": {},
     "output_type": "display_data"
    },
    {
     "data": {
      "application/vnd.jupyter.widget-view+json": {
       "model_id": "",
       "version_major": 2,
       "version_minor": 0
      },
      "text/plain": [
       "HBox(children=(FloatProgress(value=0.0, max=6.0), HTML(value='')))"
      ]
     },
     "metadata": {},
     "output_type": "display_data"
    },
    {
     "data": {
      "application/vnd.jupyter.widget-view+json": {
       "model_id": "",
       "version_major": 2,
       "version_minor": 0
      },
      "text/plain": [
       "HBox(children=(FloatProgress(value=0.0, max=6.0), HTML(value='')))"
      ]
     },
     "metadata": {},
     "output_type": "display_data"
    },
    {
     "data": {
      "application/vnd.jupyter.widget-view+json": {
       "model_id": "",
       "version_major": 2,
       "version_minor": 0
      },
      "text/plain": [
       "HBox(children=(FloatProgress(value=0.0, max=6.0), HTML(value='')))"
      ]
     },
     "metadata": {},
     "output_type": "display_data"
    },
    {
     "data": {
      "application/vnd.jupyter.widget-view+json": {
       "model_id": "",
       "version_major": 2,
       "version_minor": 0
      },
      "text/plain": [
       "HBox(children=(FloatProgress(value=0.0, max=6.0), HTML(value='')))"
      ]
     },
     "metadata": {},
     "output_type": "display_data"
    },
    {
     "data": {
      "application/vnd.jupyter.widget-view+json": {
       "model_id": "",
       "version_major": 2,
       "version_minor": 0
      },
      "text/plain": [
       "HBox(children=(FloatProgress(value=0.0, max=6.0), HTML(value='')))"
      ]
     },
     "metadata": {},
     "output_type": "display_data"
    },
    {
     "data": {
      "application/vnd.jupyter.widget-view+json": {
       "model_id": "",
       "version_major": 2,
       "version_minor": 0
      },
      "text/plain": [
       "HBox(children=(FloatProgress(value=0.0, max=6.0), HTML(value='')))"
      ]
     },
     "metadata": {},
     "output_type": "display_data"
    },
    {
     "data": {
      "application/vnd.jupyter.widget-view+json": {
       "model_id": "",
       "version_major": 2,
       "version_minor": 0
      },
      "text/plain": [
       "HBox(children=(FloatProgress(value=0.0, max=6.0), HTML(value='')))"
      ]
     },
     "metadata": {},
     "output_type": "display_data"
    },
    {
     "name": "stdout",
     "output_type": "stream",
     "text": [
      "LinearSVC\n",
      "[[47  3]\n",
      " [18 32]]\n",
      "micro-averaged f-score (std) & macro-averaged f-score (std)\n",
      "0.79 (0.137) & 0.784 (0.1361)\n",
      "LogisticRegression\n",
      "[[32 18]\n",
      " [24 26]]\n",
      "micro-averaged f-score (std) & macro-averaged f-score (std)\n",
      "0.58 (0.1229) & 0.5398 (0.1576)\n",
      "KNeighborsClassifier\n",
      "[[50  0]\n",
      " [46  4]]\n",
      "micro-averaged f-score (std) & macro-averaged f-score (std)\n",
      "0.54 (0.143) & 0.4039 (0.1274)\n",
      "MLPClassifier\n",
      "[[47  3]\n",
      " [30 20]]\n",
      "micro-averaged f-score (std) & macro-averaged f-score (std)\n",
      "0.67 (0.1252) & 0.6243 (0.1521)\n",
      "RandomForestClassifier\n",
      "[[46  4]\n",
      " [11 39]]\n",
      "micro-averaged f-score (std) & macro-averaged f-score (std)\n",
      "0.85 (0.108) & 0.8404 (0.118)\n",
      "GradientBoostingClassifier\n",
      "[[41  9]\n",
      " [ 9 41]]\n",
      "micro-averaged f-score (std) & macro-averaged f-score (std)\n",
      "0.82 (0.1751) & 0.8164 (0.1761)\n",
      "-----\n",
      "\n"
     ]
    }
   ],
   "source": [
    "if True:\n",
    "    NGRAMRANGES = [(1,2)]\n",
    "    VECTORIZER = TfidfVectorizer(sublinear_tf=True)\n",
    "    for indices in tqdm(list(combinations(range(len(composers)),2))):\n",
    "        print(f'comparing {composers[indices[0]]} and {composers[indices[1]]} (composers {indices[0]} and {indices[1]})',) # COMPOSERs = [BACH, BEETHOVEN, DEBUSSY, SCARLATTI, VICTORIA]\n",
    "        benchmark_classifiers([COMPOSERs[i] for i in indices],NGRAMRANGES,CLASSIFIERS,VECTORIZER, set_=True)"
   ]
  },
  {
   "cell_type": "code",
   "execution_count": null,
   "metadata": {
    "scrolled": true
   },
   "outputs": [],
   "source": [
    "# Identify the often-misclassified files\n",
    "# do the experiment 100 times with the best classifier, SVM\n",
    "# then find pieces that are misclassified more than 50% of the time\n",
    "'''COMPOSERS = [BACH, BEETHOVEN, DEBUSSY, SCARLATTI, VICTORIA]'''\n",
    "CLASSIFIERS = [svm.LinearSVC(penalty='l2', C=5, loss='hinge')] # \n",
    "appendix = []\n",
    "for i in trange(100):\n",
    "    appendix += benchmark_classifiers(COMPOSERs,NGRAMRANGES,CLASSIFIERS,VECTORIZER)\n",
    "Counter(appendix).most_common()"
   ]
  },
  {
   "cell_type": "code",
   "execution_count": null,
   "metadata": {},
   "outputs": [],
   "source": [
    "# Use both chord sequences and duration data"
   ]
  },
  {
   "cell_type": "code",
   "execution_count": null,
   "metadata": {},
   "outputs": [],
   "source": [
    "flatten = lambda l: [item for sublist in l for item in sublist]\n",
    "with open('Bach-durations.txt', 'r') as f:\n",
    "    BA = [line.strip() for line in f.readlines()]\n",
    "with open('Mozart-durations.txt', 'r') as f:\n",
    "    MO = [line.strip() for line in f.readlines()]\n",
    "with open('Beethoven-durations.txt', 'r') as f:\n",
    "    BE = [line.strip() for line in f.readlines()]\n",
    "with open('Debussy-durations.txt', 'r') as f:\n",
    "    DE = [line.strip() for line in f.readlines()]\n",
    "'''with open('victoria-durations.txt', 'r') as f:\n",
    "    VD = [line.strip() for line in f.readlines()]'''\n",
    "    \n",
    "#BD2_TYPELENGTH = [piece.split(';') for piece in BD2]\n",
    "BA_TYPELENGTH = [piece.split(';') for piece in BA]\n",
    "MO_TYPELENGTH = [piece.split(';') for piece in MO]\n",
    "BE_TYPELENGTH = [piece.split(';') for piece in BE]\n",
    "DE_TYPELENGTH = [piece.split(';') for piece in DE]\n",
    "\n",
    "typelengths = list(set(flatten(BA_TYPELENGTH + MO_TYPELENGTH + BE_TYPELENGTH + DE_TYPELENGTH)))\n",
    "typelength_dict = {typelengths[i]: str(i+300) for i in range(len(typelengths))}\n",
    "BA_T = [(' '.join([typelength_dict[dur] for dur in piece]),'temp') for piece in BA_TYPELENGTH]\n",
    "MO_T = [(' '.join([typelength_dict[dur] for dur in piece]),'temp') for piece in MO_TYPELENGTH]\n",
    "BE_T = [(' '.join([typelength_dict[dur] for dur in piece]),'temp') for piece in BE_TYPELENGTH]\n",
    "DE_T = [(' '.join([typelength_dict[dur] for dur in piece]),'temp') for piece in DE_TYPELENGTH]\n",
    "#VD_T = [(' '.join([typelength_dict[dur] for dur in piece]),'temp') for piece in VD_TYPELENGTH]"
   ]
  },
  {
   "cell_type": "code",
   "execution_count": null,
   "metadata": {
    "scrolled": true
   },
   "outputs": [],
   "source": [
    "# print most common duration by composer, regardless of element type(chord/note/rest)\n",
    "\n",
    "# BD_LENGTHONLY = [[string.split('|')[1] for string in piece.split(';')] for piece in BD]\n",
    "# SD_LENGTHONLY = [[string.split('|')[1] for string in piece.split(';')] for piece in SD]\n",
    "# BD2_LENGTHONLY = [[string.split('|')[1] for string in piece.split(';')] for piece in BD2]\n",
    "# DD_LENGTHONLY = [[string.split('|')[1] for string in piece.split(';')] for piece in DD]\n",
    "# VD_LENGTHONLY = [[string.split('|')[1] for string in piece.split(';')] for piece in VD]\n",
    "# lengths = list(set(flatten(BD2_LENGTHONLY+BD_LENGTHONLY+DD_LENGTHONLY+SD_LENGTHONLY+VD_LENGTHONLY)))\n",
    "# length_dict = {lengths[i]: str(i+200) for i in range(len(lengths))}\n",
    "# BD_L = [(' '.join([length_dict[dur] for dur in piece]),'temp') for piece in BD_LENGTHONLY]\n",
    "# BD2_L = [(' '.join([length_dict[dur] for dur in piece]),'temp') for piece in BD2_LENGTHONLY]\n",
    "# SD_L = [(' '.join([length_dict[dur] for dur in piece]),'temp') for piece in SD_LENGTHONLY]\n",
    "# DD_L = [(' '.join([length_dict[dur] for dur in piece]),'temp') for piece in DD_LENGTHONLY]\n",
    "# VD_L = [(' '.join([length_dict[dur] for dur in piece]),'temp') for piece in VD_LENGTHONLY]\n",
    "# duration_all       = flatten(BD2_LENGTHONLY+BD_LENGTHONLY+DD_LENGTHONLY+SD_LENGTHONLY+VD_LENGTHONLY)\n",
    "# duration_bach      = flatten(BD2_LENGTHONLY)\n",
    "# duration_beethoven = flatten(BD_LENGTHONLY)\n",
    "# duration_debussy   = flatten(DD_LENGTHONLY)\n",
    "# duration_scarlatti = flatten(SD_LENGTHONLY)\n",
    "# duration_victoria  = flatten(VD_LENGTHONLY)\n",
    "\n",
    "# for l in [duration_all,duration_bach,duration_beethoven,duration_debussy,duration_scarlatti,duration_victoria]:\n",
    "#     for key, value in Counter(l).most_common(10):\n",
    "#         print(key, '&', round(100*value/len(l),2))\n",
    "#     print('')"
   ]
  },
  {
   "cell_type": "code",
   "execution_count": 232,
   "metadata": {},
   "outputs": [],
   "source": [
    "def crossvalidate_twofeaturesets(X_tuple1, X_tuple2, y, classifiers, vectorizer, range1, range2, K=5):    \n",
    "    for clf in classifiers:\n",
    "        clf.cm_sum = np.zeros([len(set(y)),len(set(y))], dtype='int16')\n",
    "        clf.accuracies, clf.fones, clf.misclassified, clf.runningtime = [], [], [], []\n",
    "        clf.fones_micro, clf.fones_macro = [], []\n",
    "        clf.name = str(clf).split('(')[0]\n",
    "\n",
    "    X1 = np.array([piece[0] for piece in X_tuple1])\n",
    "    X2 = np.array([piece[0] for piece in X_tuple2])\n",
    "    filenames = np.array([piece[1] for piece in X_tuple2])\n",
    "    kf = KFold(n_splits=K, shuffle=True)\n",
    "    for train_index, test_index in tqdm(kf.split(y), total=K, unit='fold', leave=False):\n",
    "        y_train, y_test = y[train_index], y[test_index]\n",
    "        X_train_new, X_test_new = X1[train_index], X1[test_index]\n",
    "        vct1 = vectorizer.set_params(ngram_range=range1)\n",
    "        X_train, X_test = X2[train_index], X2[test_index] \n",
    "        vct2 = vectorizer.set_params(ngram_range=range2)\n",
    "   \n",
    "        X_train_new_tfidf = vct1.fit_transform(X_train_new) # use two separate vectorizers for each feature set\n",
    "        X_test_new_tfidf = sp.vstack([vct1.transform(np.array([piece])) for piece in X_test_new])\n",
    "        X_train_tfidf = vct2.fit_transform(X_train)\n",
    "        X_test_tfidf = sp.vstack([vct2.transform(np.array([piece])) for piece in X_test])\n",
    "        \n",
    "        X_train_tfidf = sp.hstack((X_train_tfidf, X_train_new_tfidf)) # Merge the two feature sets\n",
    "        X_test_tfidf = sp.hstack((X_test_tfidf, X_test_new_tfidf))\n",
    "        \n",
    "        for clf in tqdm(classifiers, unit='classifier', leave=False):\n",
    "            t = datetime.now()\n",
    "            clf.fit(X_train_tfidf, y_train)\n",
    "            y_pred = clf.predict(X_test_tfidf)\n",
    "            clf.runningtime.append((datetime.now()-t).total_seconds())\n",
    "            clf.cm_sum += confusion_matrix(y_test, y_pred)#, labels=range(1, len(composers)+1))\n",
    "            clf.misclassified.append(test_index[np.where(y_test != y_pred)]) # http://stackoverflow.com/a/25570632\n",
    "            clf.accuracies.append(accuracy_score(y_test, y_pred))\n",
    "            clf.fones.append(f1_score(y_test, y_pred, average='weighted'))\n",
    "            clf.fones_micro.append(f1_score(y_test, y_pred, average='micro'))\n",
    "            clf.fones_macro.append(f1_score(y_test, y_pred, average='macro'))\n",
    "\n",
    "    result = dict()\n",
    "    for clf in classifiers:\n",
    "        clf.misclassified = np.sort(np.hstack(clf.misclassified))\n",
    "        result[clf.name] = [clf.cm_sum, clf.accuracies, clf.fones, clf.misclassified, filenames[clf.misclassified], clf.runningtime, clf.fones_micro, clf.fones_macro]\n",
    "    return result"
   ]
  },
  {
   "cell_type": "code",
   "execution_count": 222,
   "metadata": {},
   "outputs": [],
   "source": [
    "def benchmark_classifiers_twofeaturesets(composers1, composers2, range1, range2, classifiers, vectorizer, n=1, retrieve_title=True):\n",
    "    misclassified_list = []\n",
    "    print('duration n-gram range:', range1, 'chord n-gram range:', range2)\n",
    "    X1, y = build_Xy(composers1, size=n)\n",
    "    X2, y = build_Xy(composers2, size=n)\n",
    "    cv_result = crossvalidate_twofeaturesets(X1, X2, y, classifiers, vectorizer, range1, range2)\n",
    "    for clf, results in cv_result.items():\n",
    "        print(clf)\n",
    "        cm = results[0]\n",
    "        print(cm)\n",
    "        acc = results[1]\n",
    "        fones = results[2]\n",
    "        misclassified = results[3]\n",
    "        misclassified_filenames = results[4]\n",
    "        misclassified_list += list(misclassified_filenames)\n",
    "#             print('misclassified',[(misclassified[i], misclassified_filenames[i]) for i in range(len(misclassified))])\n",
    "        runningtime = results[5]\n",
    "#         print('running time', np.sum(runningtime))\n",
    "        fones_micro = results[6]\n",
    "        fones_macro = results[7]\n",
    "        print('F-measures')\n",
    "        print(round(np.mean(fones_micro),4), '({})'.format(round(np.std(fones_micro, ddof=1),4)), '&', round(np.mean(fones_macro),4), '({})'.format(round(np.std(fones_macro, ddof=1),4)))\n",
    "    print('-----')\n",
    "    return misclassified_list"
   ]
  },
  {
   "cell_type": "code",
   "execution_count": 240,
   "metadata": {},
   "outputs": [],
   "source": [
    "CLASSIFIERS = [\n",
    "    svm.LinearSVC(penalty='l2', C=5, loss='hinge'),\n",
    "    linear_model.LogisticRegression(penalty='l2', C=100, tol=1, multi_class='multinomial', solver='sag'),\n",
    "    neighbors.KNeighborsClassifier(weights='distance'),\n",
    "    naive_bayes.MultinomialNB(alpha=0.00001, fit_prior=False),\n",
    "    neural_network.MLPClassifier(solver='lbfgs',hidden_layer_sizes=(10,)),\n",
    "    RandomForestClassifier(n_estimators=500, random_state=42),\n",
    "    GradientBoostingClassifier(n_estimators=500, max_leaf_nodes=4, max_depth=None, random_state=2,\n",
    "                   min_samples_split=5),\n",
    "              ]\n",
    "VECTORIZER = TfidfVectorizer(sublinear_tf=True, lowercase=False, token_pattern=u\"(?u)\\\\b\\\\w+\\\\b\")\n",
    "\n",
    "COMPOSERS1 = [BA_T, MO_T, BE_T, DE_T]"
   ]
  },
  {
   "cell_type": "code",
   "execution_count": 226,
   "metadata": {},
   "outputs": [
    {
     "name": "stdout",
     "output_type": "stream",
     "text": [
      "duration n-gram range: (1, 2) chord n-gram range: (1, 2)\n"
     ]
    },
    {
     "data": {
      "application/vnd.jupyter.widget-view+json": {
       "model_id": "",
       "version_major": 2,
       "version_minor": 0
      },
      "text/plain": [
       "HBox(children=(FloatProgress(value=0.0, max=10.0), HTML(value='')))"
      ]
     },
     "metadata": {},
     "output_type": "display_data"
    },
    {
     "data": {
      "application/vnd.jupyter.widget-view+json": {
       "model_id": "",
       "version_major": 2,
       "version_minor": 0
      },
      "text/plain": [
       "HBox(children=(FloatProgress(value=0.0, max=7.0), HTML(value='')))"
      ]
     },
     "metadata": {},
     "output_type": "display_data"
    },
    {
     "data": {
      "application/vnd.jupyter.widget-view+json": {
       "model_id": "",
       "version_major": 2,
       "version_minor": 0
      },
      "text/plain": [
       "HBox(children=(FloatProgress(value=0.0, max=7.0), HTML(value='')))"
      ]
     },
     "metadata": {},
     "output_type": "display_data"
    },
    {
     "data": {
      "application/vnd.jupyter.widget-view+json": {
       "model_id": "",
       "version_major": 2,
       "version_minor": 0
      },
      "text/plain": [
       "HBox(children=(FloatProgress(value=0.0, max=7.0), HTML(value='')))"
      ]
     },
     "metadata": {},
     "output_type": "display_data"
    },
    {
     "data": {
      "application/vnd.jupyter.widget-view+json": {
       "model_id": "",
       "version_major": 2,
       "version_minor": 0
      },
      "text/plain": [
       "HBox(children=(FloatProgress(value=0.0, max=7.0), HTML(value='')))"
      ]
     },
     "metadata": {},
     "output_type": "display_data"
    },
    {
     "data": {
      "application/vnd.jupyter.widget-view+json": {
       "model_id": "",
       "version_major": 2,
       "version_minor": 0
      },
      "text/plain": [
       "HBox(children=(FloatProgress(value=0.0, max=7.0), HTML(value='')))"
      ]
     },
     "metadata": {},
     "output_type": "display_data"
    },
    {
     "data": {
      "application/vnd.jupyter.widget-view+json": {
       "model_id": "",
       "version_major": 2,
       "version_minor": 0
      },
      "text/plain": [
       "HBox(children=(FloatProgress(value=0.0, max=7.0), HTML(value='')))"
      ]
     },
     "metadata": {},
     "output_type": "display_data"
    },
    {
     "data": {
      "application/vnd.jupyter.widget-view+json": {
       "model_id": "",
       "version_major": 2,
       "version_minor": 0
      },
      "text/plain": [
       "HBox(children=(FloatProgress(value=0.0, max=7.0), HTML(value='')))"
      ]
     },
     "metadata": {},
     "output_type": "display_data"
    },
    {
     "data": {
      "application/vnd.jupyter.widget-view+json": {
       "model_id": "",
       "version_major": 2,
       "version_minor": 0
      },
      "text/plain": [
       "HBox(children=(FloatProgress(value=0.0, max=7.0), HTML(value='')))"
      ]
     },
     "metadata": {},
     "output_type": "display_data"
    },
    {
     "data": {
      "application/vnd.jupyter.widget-view+json": {
       "model_id": "",
       "version_major": 2,
       "version_minor": 0
      },
      "text/plain": [
       "HBox(children=(FloatProgress(value=0.0, max=7.0), HTML(value='')))"
      ]
     },
     "metadata": {},
     "output_type": "display_data"
    },
    {
     "data": {
      "application/vnd.jupyter.widget-view+json": {
       "model_id": "",
       "version_major": 2,
       "version_minor": 0
      },
      "text/plain": [
       "HBox(children=(FloatProgress(value=0.0, max=7.0), HTML(value='')))"
      ]
     },
     "metadata": {},
     "output_type": "display_data"
    },
    {
     "name": "stdout",
     "output_type": "stream",
     "text": [
      "LinearSVC\n",
      "[[39  6  5  0]\n",
      " [ 6 34  8  2]\n",
      " [ 9 12 26  3]\n",
      " [ 2  0  2 46]]\n",
      "F-measures\n",
      "0.725 (0.0755) & 0.7173 (0.0641)\n",
      "LogisticRegression\n",
      "[[29 11  7  3]\n",
      " [ 8 34  4  4]\n",
      " [12 17 18  3]\n",
      " [ 3  5  7 35]]\n",
      "F-measures\n",
      "0.58 (0.1111) & 0.5476 (0.1256)\n",
      "KNeighborsClassifier\n",
      "[[29 12  5  4]\n",
      " [ 9 30 10  1]\n",
      " [11 16 22  1]\n",
      " [ 2  4 15 29]]\n",
      "F-measures\n",
      "0.55 (0.0943) & 0.5329 (0.1066)\n",
      "MultinomialNB\n",
      "[[24  9 13  4]\n",
      " [ 5 18 24  3]\n",
      " [ 4  7 34  5]\n",
      " [ 1  0 11 38]]\n",
      "F-measures\n",
      "0.57 (0.1006) & 0.5556 (0.0937)\n",
      "MLPClassifier\n",
      "[[35  8  7  0]\n",
      " [ 6 33 10  1]\n",
      " [ 7 13 25  5]\n",
      " [ 3  0  7 40]]\n",
      "F-measures\n",
      "0.665 (0.0709) & 0.6461 (0.073)\n",
      "RandomForestClassifier\n",
      "[[27  7  8  8]\n",
      " [11 26  6  7]\n",
      " [ 8  9 26  7]\n",
      " [ 2  1  4 43]]\n",
      "F-measures\n",
      "0.61 (0.1101) & 0.5912 (0.1027)\n",
      "GradientBoostingClassifier\n",
      "[[30  9  9  2]\n",
      " [ 9 30  7  4]\n",
      " [10 12 26  2]\n",
      " [ 4  1  4 41]]\n",
      "F-measures\n",
      "0.635 (0.0851) & 0.6301 (0.0793)\n",
      "-----\n"
     ]
    },
    {
     "data": {
      "text/plain": [
       "['Bach_001.mxl',\n",
       " 'Bach_006.mxl',\n",
       " 'Bach_007.mxl',\n",
       " 'Bach_008.mxl',\n",
       " 'Bach_012.mxl',\n",
       " 'Bach_017.mxl',\n",
       " 'Bach_020.mxl',\n",
       " 'Bach_021.mxl',\n",
       " 'Bach_031.mxl',\n",
       " 'Bach_035.mxl',\n",
       " 'Bach_045.mxl',\n",
       " 'Mozart_051.mxl',\n",
       " 'Mozart_052.mxl',\n",
       " 'Mozart_054.mxl',\n",
       " 'Mozart_057.mxl',\n",
       " 'Mozart_062.mxl',\n",
       " 'Mozart_065.mxl',\n",
       " 'Mozart_066.mxl',\n",
       " 'Mozart_075.mxl',\n",
       " 'Mozart_079.mxl',\n",
       " 'Mozart_081.mxl',\n",
       " 'Mozart_082.mxl',\n",
       " 'Mozart_086.mxl',\n",
       " 'Mozart_091.mxl',\n",
       " 'Mozart_094.mxl',\n",
       " 'Mozart_097.mxl',\n",
       " 'Mozart_099.mxl',\n",
       " 'Beethoven_101.mxl',\n",
       " 'Beethoven_103.mxl',\n",
       " 'Beethoven_105.mxl',\n",
       " 'Beethoven_107.mxl',\n",
       " 'Beethoven_108.mxl',\n",
       " 'Beethoven_110.mxl',\n",
       " 'Beethoven_115.mxl',\n",
       " 'Beethoven_116.mxl',\n",
       " 'Beethoven_119.mxl',\n",
       " 'Beethoven_123.mxl',\n",
       " 'Beethoven_125.mxl',\n",
       " 'Beethoven_126.mxl',\n",
       " 'Beethoven_127.mxl',\n",
       " 'Beethoven_129.mxl',\n",
       " 'Beethoven_130.mxl',\n",
       " 'Beethoven_132.mxl',\n",
       " 'Beethoven_133.mxl',\n",
       " 'Beethoven_135.mxl',\n",
       " 'Beethoven_137.mxl',\n",
       " 'Beethoven_138.mxl',\n",
       " 'Beethoven_139.mxl',\n",
       " 'Beethoven_140.mxl',\n",
       " 'Beethoven_142.mxl',\n",
       " 'Beethoven_149.mxl',\n",
       " 'Debussy_159.mxl',\n",
       " 'Debussy_167.mxl',\n",
       " 'Debussy_172.mxl',\n",
       " 'Debussy_187.mxl',\n",
       " 'Bach_001.mxl',\n",
       " 'Bach_005.mxl',\n",
       " 'Bach_007.mxl',\n",
       " 'Bach_008.mxl',\n",
       " 'Bach_013.mxl',\n",
       " 'Bach_017.mxl',\n",
       " 'Bach_018.mxl',\n",
       " 'Bach_019.mxl',\n",
       " 'Bach_020.mxl',\n",
       " 'Bach_021.mxl',\n",
       " 'Bach_025.mxl',\n",
       " 'Bach_029.mxl',\n",
       " 'Bach_030.mxl',\n",
       " 'Bach_031.mxl',\n",
       " 'Bach_035.mxl',\n",
       " 'Bach_038.mxl',\n",
       " 'Bach_042.mxl',\n",
       " 'Bach_044.mxl',\n",
       " 'Bach_047.mxl',\n",
       " 'Bach_048.mxl',\n",
       " 'Bach_049.mxl',\n",
       " 'Mozart_055.mxl',\n",
       " 'Mozart_059.mxl',\n",
       " 'Mozart_062.mxl',\n",
       " 'Mozart_065.mxl',\n",
       " 'Mozart_066.mxl',\n",
       " 'Mozart_067.mxl',\n",
       " 'Mozart_073.mxl',\n",
       " 'Mozart_079.mxl',\n",
       " 'Mozart_081.mxl',\n",
       " 'Mozart_082.mxl',\n",
       " 'Mozart_085.mxl',\n",
       " 'Mozart_086.mxl',\n",
       " 'Mozart_091.mxl',\n",
       " 'Mozart_094.mxl',\n",
       " 'Mozart_097.mxl',\n",
       " 'Mozart_099.mxl',\n",
       " 'Beethoven_101.mxl',\n",
       " 'Beethoven_102.mxl',\n",
       " 'Beethoven_103.mxl',\n",
       " 'Beethoven_104.mxl',\n",
       " 'Beethoven_105.mxl',\n",
       " 'Beethoven_106.mxl',\n",
       " 'Beethoven_107.mxl',\n",
       " 'Beethoven_109.mxl',\n",
       " 'Beethoven_110.mxl',\n",
       " 'Beethoven_111.mxl',\n",
       " 'Beethoven_114.mxl',\n",
       " 'Beethoven_115.mxl',\n",
       " 'Beethoven_116.mxl',\n",
       " 'Beethoven_118.mxl',\n",
       " 'Beethoven_121.mxl',\n",
       " 'Beethoven_122.mxl',\n",
       " 'Beethoven_123.mxl',\n",
       " 'Beethoven_127.mxl',\n",
       " 'Beethoven_129.mxl',\n",
       " 'Beethoven_130.mxl',\n",
       " 'Beethoven_132.mxl',\n",
       " 'Beethoven_133.mxl',\n",
       " 'Beethoven_136.mxl',\n",
       " 'Beethoven_137.mxl',\n",
       " 'Beethoven_139.mxl',\n",
       " 'Beethoven_140.mxl',\n",
       " 'Beethoven_141.mxl',\n",
       " 'Beethoven_143.mxl',\n",
       " 'Beethoven_144.mxl',\n",
       " 'Beethoven_145.mxl',\n",
       " 'Beethoven_146.mxl',\n",
       " 'Beethoven_149.mxl',\n",
       " 'Debussy_150.mxl',\n",
       " 'Debussy_153.mxl',\n",
       " 'Debussy_155.mxl',\n",
       " 'Debussy_161.mxl',\n",
       " 'Debussy_162.mxl',\n",
       " 'Debussy_165.mxl',\n",
       " 'Debussy_166.mxl',\n",
       " 'Debussy_167.mxl',\n",
       " 'Debussy_172.mxl',\n",
       " 'Debussy_173.mxl',\n",
       " 'Debussy_180.mxl',\n",
       " 'Debussy_187.mxl',\n",
       " 'Debussy_188.mxl',\n",
       " 'Debussy_193.mxl',\n",
       " 'Debussy_197.mxl',\n",
       " 'Bach_001.mxl',\n",
       " 'Bach_005.mxl',\n",
       " 'Bach_006.mxl',\n",
       " 'Bach_007.mxl',\n",
       " 'Bach_008.mxl',\n",
       " 'Bach_010.mxl',\n",
       " 'Bach_012.mxl',\n",
       " 'Bach_015.mxl',\n",
       " 'Bach_018.mxl',\n",
       " 'Bach_019.mxl',\n",
       " 'Bach_020.mxl',\n",
       " 'Bach_021.mxl',\n",
       " 'Bach_024.mxl',\n",
       " 'Bach_028.mxl',\n",
       " 'Bach_029.mxl',\n",
       " 'Bach_031.mxl',\n",
       " 'Bach_035.mxl',\n",
       " 'Bach_038.mxl',\n",
       " 'Bach_041.mxl',\n",
       " 'Bach_044.mxl',\n",
       " 'Bach_047.mxl',\n",
       " 'Mozart_051.mxl',\n",
       " 'Mozart_052.mxl',\n",
       " 'Mozart_054.mxl',\n",
       " 'Mozart_056.mxl',\n",
       " 'Mozart_057.mxl',\n",
       " 'Mozart_058.mxl',\n",
       " 'Mozart_062.mxl',\n",
       " 'Mozart_065.mxl',\n",
       " 'Mozart_066.mxl',\n",
       " 'Mozart_067.mxl',\n",
       " 'Mozart_073.mxl',\n",
       " 'Mozart_075.mxl',\n",
       " 'Mozart_079.mxl',\n",
       " 'Mozart_086.mxl',\n",
       " 'Mozart_088.mxl',\n",
       " 'Mozart_091.mxl',\n",
       " 'Mozart_092.mxl',\n",
       " 'Mozart_097.mxl',\n",
       " 'Mozart_098.mxl',\n",
       " 'Mozart_099.mxl',\n",
       " 'Beethoven_101.mxl',\n",
       " 'Beethoven_103.mxl',\n",
       " 'Beethoven_104.mxl',\n",
       " 'Beethoven_105.mxl',\n",
       " 'Beethoven_106.mxl',\n",
       " 'Beethoven_107.mxl',\n",
       " 'Beethoven_108.mxl',\n",
       " 'Beethoven_110.mxl',\n",
       " 'Beethoven_115.mxl',\n",
       " 'Beethoven_116.mxl',\n",
       " 'Beethoven_117.mxl',\n",
       " 'Beethoven_118.mxl',\n",
       " 'Beethoven_119.mxl',\n",
       " 'Beethoven_123.mxl',\n",
       " 'Beethoven_126.mxl',\n",
       " 'Beethoven_129.mxl',\n",
       " 'Beethoven_130.mxl',\n",
       " 'Beethoven_131.mxl',\n",
       " 'Beethoven_132.mxl',\n",
       " 'Beethoven_134.mxl',\n",
       " 'Beethoven_135.mxl',\n",
       " 'Beethoven_136.mxl',\n",
       " 'Beethoven_138.mxl',\n",
       " 'Beethoven_139.mxl',\n",
       " 'Beethoven_140.mxl',\n",
       " 'Beethoven_142.mxl',\n",
       " 'Beethoven_148.mxl',\n",
       " 'Beethoven_149.mxl',\n",
       " 'Debussy_150.mxl',\n",
       " 'Debussy_152.mxl',\n",
       " 'Debussy_153.mxl',\n",
       " 'Debussy_156.mxl',\n",
       " 'Debussy_159.mxl',\n",
       " 'Debussy_161.mxl',\n",
       " 'Debussy_166.mxl',\n",
       " 'Debussy_167.mxl',\n",
       " 'Debussy_172.mxl',\n",
       " 'Debussy_175.mxl',\n",
       " 'Debussy_178.mxl',\n",
       " 'Debussy_179.mxl',\n",
       " 'Debussy_180.mxl',\n",
       " 'Debussy_184.mxl',\n",
       " 'Debussy_187.mxl',\n",
       " 'Debussy_188.mxl',\n",
       " 'Debussy_191.mxl',\n",
       " 'Debussy_194.mxl',\n",
       " 'Debussy_196.mxl',\n",
       " 'Debussy_197.mxl',\n",
       " 'Debussy_199.mxl',\n",
       " 'Bach_001.mxl',\n",
       " 'Bach_006.mxl',\n",
       " 'Bach_007.mxl',\n",
       " 'Bach_008.mxl',\n",
       " 'Bach_010.mxl',\n",
       " 'Bach_013.mxl',\n",
       " 'Bach_014.mxl',\n",
       " 'Bach_015.mxl',\n",
       " 'Bach_017.mxl',\n",
       " 'Bach_018.mxl',\n",
       " 'Bach_019.mxl',\n",
       " 'Bach_020.mxl',\n",
       " 'Bach_021.mxl',\n",
       " 'Bach_022.mxl',\n",
       " 'Bach_024.mxl',\n",
       " 'Bach_028.mxl',\n",
       " 'Bach_029.mxl',\n",
       " 'Bach_030.mxl',\n",
       " 'Bach_031.mxl',\n",
       " 'Bach_033.mxl',\n",
       " 'Bach_035.mxl',\n",
       " 'Bach_039.mxl',\n",
       " 'Bach_041.mxl',\n",
       " 'Bach_042.mxl',\n",
       " 'Bach_045.mxl',\n",
       " 'Bach_047.mxl',\n",
       " 'Mozart_052.mxl',\n",
       " 'Mozart_054.mxl',\n",
       " 'Mozart_056.mxl',\n",
       " 'Mozart_057.mxl',\n",
       " 'Mozart_058.mxl',\n",
       " 'Mozart_059.mxl',\n",
       " 'Mozart_062.mxl',\n",
       " 'Mozart_065.mxl',\n",
       " 'Mozart_066.mxl',\n",
       " 'Mozart_067.mxl',\n",
       " 'Mozart_068.mxl',\n",
       " 'Mozart_069.mxl',\n",
       " 'Mozart_070.mxl',\n",
       " 'Mozart_073.mxl',\n",
       " 'Mozart_074.mxl',\n",
       " 'Mozart_078.mxl',\n",
       " 'Mozart_079.mxl',\n",
       " 'Mozart_080.mxl',\n",
       " 'Mozart_081.mxl',\n",
       " 'Mozart_082.mxl',\n",
       " 'Mozart_083.mxl',\n",
       " 'Mozart_084.mxl',\n",
       " 'Mozart_086.mxl',\n",
       " 'Mozart_088.mxl',\n",
       " 'Mozart_089.mxl',\n",
       " 'Mozart_091.mxl',\n",
       " 'Mozart_093.mxl',\n",
       " 'Mozart_094.mxl',\n",
       " 'Mozart_096.mxl',\n",
       " 'Mozart_097.mxl',\n",
       " 'Mozart_098.mxl',\n",
       " 'Mozart_099.mxl',\n",
       " 'Beethoven_103.mxl',\n",
       " 'Beethoven_107.mxl',\n",
       " 'Beethoven_110.mxl',\n",
       " 'Beethoven_114.mxl',\n",
       " 'Beethoven_115.mxl',\n",
       " 'Beethoven_119.mxl',\n",
       " 'Beethoven_121.mxl',\n",
       " 'Beethoven_126.mxl',\n",
       " 'Beethoven_130.mxl',\n",
       " 'Beethoven_132.mxl',\n",
       " 'Beethoven_133.mxl',\n",
       " 'Beethoven_135.mxl',\n",
       " 'Beethoven_137.mxl',\n",
       " 'Beethoven_138.mxl',\n",
       " 'Beethoven_139.mxl',\n",
       " 'Beethoven_149.mxl',\n",
       " 'Debussy_152.mxl',\n",
       " 'Debussy_153.mxl',\n",
       " 'Debussy_159.mxl',\n",
       " 'Debussy_166.mxl',\n",
       " 'Debussy_167.mxl',\n",
       " 'Debussy_172.mxl',\n",
       " 'Debussy_178.mxl',\n",
       " 'Debussy_187.mxl',\n",
       " 'Debussy_188.mxl',\n",
       " 'Debussy_193.mxl',\n",
       " 'Debussy_197.mxl',\n",
       " 'Debussy_199.mxl',\n",
       " 'Bach_006.mxl',\n",
       " 'Bach_007.mxl',\n",
       " 'Bach_008.mxl',\n",
       " 'Bach_010.mxl',\n",
       " 'Bach_012.mxl',\n",
       " 'Bach_013.mxl',\n",
       " 'Bach_017.mxl',\n",
       " 'Bach_018.mxl',\n",
       " 'Bach_019.mxl',\n",
       " 'Bach_020.mxl',\n",
       " 'Bach_021.mxl',\n",
       " 'Bach_031.mxl',\n",
       " 'Bach_035.mxl',\n",
       " 'Bach_038.mxl',\n",
       " 'Bach_047.mxl',\n",
       " 'Mozart_051.mxl',\n",
       " 'Mozart_052.mxl',\n",
       " 'Mozart_057.mxl',\n",
       " 'Mozart_066.mxl',\n",
       " 'Mozart_069.mxl',\n",
       " 'Mozart_071.mxl',\n",
       " 'Mozart_073.mxl',\n",
       " 'Mozart_075.mxl',\n",
       " 'Mozart_079.mxl',\n",
       " 'Mozart_081.mxl',\n",
       " 'Mozart_082.mxl',\n",
       " 'Mozart_085.mxl',\n",
       " 'Mozart_088.mxl',\n",
       " 'Mozart_091.mxl',\n",
       " 'Mozart_094.mxl',\n",
       " 'Mozart_097.mxl',\n",
       " 'Mozart_099.mxl',\n",
       " 'Beethoven_101.mxl',\n",
       " 'Beethoven_102.mxl',\n",
       " 'Beethoven_103.mxl',\n",
       " 'Beethoven_105.mxl',\n",
       " 'Beethoven_107.mxl',\n",
       " 'Beethoven_108.mxl',\n",
       " 'Beethoven_114.mxl',\n",
       " 'Beethoven_115.mxl',\n",
       " 'Beethoven_116.mxl',\n",
       " 'Beethoven_119.mxl',\n",
       " 'Beethoven_123.mxl',\n",
       " 'Beethoven_126.mxl',\n",
       " 'Beethoven_128.mxl',\n",
       " 'Beethoven_129.mxl',\n",
       " 'Beethoven_130.mxl',\n",
       " 'Beethoven_132.mxl',\n",
       " 'Beethoven_133.mxl',\n",
       " 'Beethoven_135.mxl',\n",
       " 'Beethoven_137.mxl',\n",
       " 'Beethoven_138.mxl',\n",
       " 'Beethoven_139.mxl',\n",
       " 'Beethoven_140.mxl',\n",
       " 'Beethoven_142.mxl',\n",
       " 'Beethoven_144.mxl',\n",
       " 'Beethoven_149.mxl',\n",
       " 'Debussy_150.mxl',\n",
       " 'Debussy_159.mxl',\n",
       " 'Debussy_161.mxl',\n",
       " 'Debussy_166.mxl',\n",
       " 'Debussy_167.mxl',\n",
       " 'Debussy_184.mxl',\n",
       " 'Debussy_187.mxl',\n",
       " 'Debussy_188.mxl',\n",
       " 'Debussy_191.mxl',\n",
       " 'Debussy_199.mxl',\n",
       " 'Bach_000.mxl',\n",
       " 'Bach_002.mxl',\n",
       " 'Bach_003.mxl',\n",
       " 'Bach_005.mxl',\n",
       " 'Bach_006.mxl',\n",
       " 'Bach_007.mxl',\n",
       " 'Bach_008.mxl',\n",
       " 'Bach_010.mxl',\n",
       " 'Bach_011.mxl',\n",
       " 'Bach_012.mxl',\n",
       " 'Bach_017.mxl',\n",
       " 'Bach_018.mxl',\n",
       " 'Bach_019.mxl',\n",
       " 'Bach_020.mxl',\n",
       " 'Bach_021.mxl',\n",
       " 'Bach_024.mxl',\n",
       " 'Bach_029.mxl',\n",
       " 'Bach_031.mxl',\n",
       " 'Bach_033.mxl',\n",
       " 'Bach_035.mxl',\n",
       " 'Bach_038.mxl',\n",
       " 'Bach_042.mxl',\n",
       " 'Bach_047.mxl',\n",
       " 'Mozart_050.mxl',\n",
       " 'Mozart_051.mxl',\n",
       " 'Mozart_052.mxl',\n",
       " 'Mozart_054.mxl',\n",
       " 'Mozart_055.mxl',\n",
       " 'Mozart_057.mxl',\n",
       " 'Mozart_058.mxl',\n",
       " 'Mozart_062.mxl',\n",
       " 'Mozart_065.mxl',\n",
       " 'Mozart_066.mxl',\n",
       " 'Mozart_067.mxl',\n",
       " 'Mozart_069.mxl',\n",
       " 'Mozart_073.mxl',\n",
       " 'Mozart_075.mxl',\n",
       " 'Mozart_079.mxl',\n",
       " 'Mozart_081.mxl',\n",
       " 'Mozart_082.mxl',\n",
       " 'Mozart_085.mxl',\n",
       " 'Mozart_086.mxl',\n",
       " 'Mozart_091.mxl',\n",
       " 'Mozart_092.mxl',\n",
       " 'Mozart_094.mxl',\n",
       " 'Mozart_097.mxl',\n",
       " 'Mozart_099.mxl',\n",
       " 'Beethoven_101.mxl',\n",
       " 'Beethoven_102.mxl',\n",
       " 'Beethoven_103.mxl',\n",
       " 'Beethoven_104.mxl',\n",
       " 'Beethoven_105.mxl',\n",
       " 'Beethoven_107.mxl',\n",
       " 'Beethoven_110.mxl',\n",
       " 'Beethoven_115.mxl',\n",
       " 'Beethoven_116.mxl',\n",
       " 'Beethoven_118.mxl',\n",
       " 'Beethoven_123.mxl',\n",
       " 'Beethoven_127.mxl',\n",
       " 'Beethoven_129.mxl',\n",
       " 'Beethoven_130.mxl',\n",
       " 'Beethoven_132.mxl',\n",
       " 'Beethoven_133.mxl',\n",
       " 'Beethoven_136.mxl',\n",
       " 'Beethoven_137.mxl',\n",
       " 'Beethoven_138.mxl',\n",
       " 'Beethoven_139.mxl',\n",
       " 'Beethoven_140.mxl',\n",
       " 'Beethoven_142.mxl',\n",
       " 'Beethoven_145.mxl',\n",
       " 'Beethoven_149.mxl',\n",
       " 'Debussy_150.mxl',\n",
       " 'Debussy_153.mxl',\n",
       " 'Debussy_161.mxl',\n",
       " 'Debussy_167.mxl',\n",
       " 'Debussy_172.mxl',\n",
       " 'Debussy_187.mxl',\n",
       " 'Debussy_197.mxl',\n",
       " 'Bach_000.mxl',\n",
       " 'Bach_001.mxl',\n",
       " 'Bach_005.mxl',\n",
       " 'Bach_006.mxl',\n",
       " 'Bach_007.mxl',\n",
       " 'Bach_010.mxl',\n",
       " 'Bach_012.mxl',\n",
       " 'Bach_017.mxl',\n",
       " 'Bach_019.mxl',\n",
       " 'Bach_020.mxl',\n",
       " 'Bach_021.mxl',\n",
       " 'Bach_025.mxl',\n",
       " 'Bach_028.mxl',\n",
       " 'Bach_030.mxl',\n",
       " 'Bach_031.mxl',\n",
       " 'Bach_034.mxl',\n",
       " 'Bach_038.mxl',\n",
       " 'Bach_045.mxl',\n",
       " 'Bach_047.mxl',\n",
       " 'Bach_048.mxl',\n",
       " 'Mozart_050.mxl',\n",
       " 'Mozart_051.mxl',\n",
       " 'Mozart_052.mxl',\n",
       " 'Mozart_054.mxl',\n",
       " 'Mozart_057.mxl',\n",
       " 'Mozart_058.mxl',\n",
       " 'Mozart_062.mxl',\n",
       " 'Mozart_065.mxl',\n",
       " 'Mozart_066.mxl',\n",
       " 'Mozart_070.mxl',\n",
       " 'Mozart_078.mxl',\n",
       " 'Mozart_079.mxl',\n",
       " 'Mozart_081.mxl',\n",
       " 'Mozart_085.mxl',\n",
       " 'Mozart_087.mxl',\n",
       " 'Mozart_091.mxl',\n",
       " 'Mozart_092.mxl',\n",
       " 'Mozart_094.mxl',\n",
       " 'Mozart_095.mxl',\n",
       " 'Mozart_099.mxl',\n",
       " 'Beethoven_101.mxl',\n",
       " 'Beethoven_107.mxl',\n",
       " 'Beethoven_108.mxl',\n",
       " 'Beethoven_109.mxl',\n",
       " 'Beethoven_110.mxl',\n",
       " 'Beethoven_111.mxl',\n",
       " 'Beethoven_114.mxl',\n",
       " 'Beethoven_115.mxl',\n",
       " 'Beethoven_116.mxl',\n",
       " 'Beethoven_120.mxl',\n",
       " 'Beethoven_121.mxl',\n",
       " 'Beethoven_122.mxl',\n",
       " 'Beethoven_126.mxl',\n",
       " 'Beethoven_129.mxl',\n",
       " 'Beethoven_130.mxl',\n",
       " 'Beethoven_132.mxl',\n",
       " 'Beethoven_133.mxl',\n",
       " 'Beethoven_135.mxl',\n",
       " 'Beethoven_137.mxl',\n",
       " 'Beethoven_138.mxl',\n",
       " 'Beethoven_139.mxl',\n",
       " 'Beethoven_140.mxl',\n",
       " 'Beethoven_146.mxl',\n",
       " 'Beethoven_149.mxl',\n",
       " 'Debussy_162.mxl',\n",
       " 'Debussy_172.mxl',\n",
       " 'Debussy_184.mxl',\n",
       " 'Debussy_187.mxl',\n",
       " 'Debussy_188.mxl',\n",
       " 'Debussy_193.mxl',\n",
       " 'Debussy_194.mxl',\n",
       " 'Debussy_197.mxl',\n",
       " 'Debussy_199.mxl']"
      ]
     },
     "execution_count": 226,
     "metadata": {},
     "output_type": "execute_result"
    }
   ],
   "source": [
    "benchmark_classifiers_twofeaturesets(COMPOSERS1, COMPOSERs, (1,2), (1,2), CLASSIFIERS, VECTORIZER)"
   ]
  },
  {
   "cell_type": "code",
   "execution_count": null,
   "metadata": {},
   "outputs": [
    {
     "name": "stdout",
     "output_type": "stream",
     "text": [
      "dict_values([[(50, 50, 50), (50, 100, 50), (100,)], ['tanh', 'relu'], ['sgd', 'adam'], [0.0001, 0.05], ['constant', 'adaptive']])\n"
     ]
    },
    {
     "data": {
      "application/vnd.jupyter.widget-view+json": {
       "model_id": "187db2b7c2614be08abe381780dc041d",
       "version_major": 2,
       "version_minor": 0
      },
      "text/plain": [
       "HBox(children=(FloatProgress(value=0.0, max=48.0), HTML(value='')))"
      ]
     },
     "metadata": {},
     "output_type": "display_data"
    },
    {
     "name": "stdout",
     "output_type": "stream",
     "text": [
      "((50, 50, 50), 'tanh', 'sgd', 0.0001, 'constant')\n",
      "{'hidden_layer_sizes': (50, 50, 50), 'activation': 'tanh', 'solver': 'sgd', 'alpha': 0.0001, 'learning_rate': 'constant'}\n"
     ]
    },
    {
     "data": {
      "application/vnd.jupyter.widget-view+json": {
       "model_id": "",
       "version_major": 2,
       "version_minor": 0
      },
      "text/plain": [
       "HBox(children=(FloatProgress(value=0.0, max=5.0), HTML(value='')))"
      ]
     },
     "metadata": {},
     "output_type": "display_data"
    },
    {
     "data": {
      "application/vnd.jupyter.widget-view+json": {
       "model_id": "",
       "version_major": 2,
       "version_minor": 0
      },
      "text/plain": [
       "HBox(children=(FloatProgress(value=0.0, max=1.0), HTML(value='')))"
      ]
     },
     "metadata": {},
     "output_type": "display_data"
    },
    {
     "name": "stderr",
     "output_type": "stream",
     "text": [
      "C:\\Users\\user\\anaconda3\\lib\\site-packages\\sklearn\\neural_network\\_multilayer_perceptron.py:571: ConvergenceWarning: Stochastic Optimizer: Maximum iterations (200) reached and the optimization hasn't converged yet.\n",
      "  % self.max_iter, ConvergenceWarning)\n"
     ]
    },
    {
     "data": {
      "application/vnd.jupyter.widget-view+json": {
       "model_id": "",
       "version_major": 2,
       "version_minor": 0
      },
      "text/plain": [
       "HBox(children=(FloatProgress(value=0.0, max=1.0), HTML(value='')))"
      ]
     },
     "metadata": {},
     "output_type": "display_data"
    },
    {
     "name": "stderr",
     "output_type": "stream",
     "text": [
      "C:\\Users\\user\\anaconda3\\lib\\site-packages\\sklearn\\neural_network\\_multilayer_perceptron.py:571: ConvergenceWarning: Stochastic Optimizer: Maximum iterations (200) reached and the optimization hasn't converged yet.\n",
      "  % self.max_iter, ConvergenceWarning)\n"
     ]
    },
    {
     "data": {
      "application/vnd.jupyter.widget-view+json": {
       "model_id": "",
       "version_major": 2,
       "version_minor": 0
      },
      "text/plain": [
       "HBox(children=(FloatProgress(value=0.0, max=1.0), HTML(value='')))"
      ]
     },
     "metadata": {},
     "output_type": "display_data"
    },
    {
     "name": "stderr",
     "output_type": "stream",
     "text": [
      "C:\\Users\\user\\anaconda3\\lib\\site-packages\\sklearn\\neural_network\\_multilayer_perceptron.py:571: ConvergenceWarning: Stochastic Optimizer: Maximum iterations (200) reached and the optimization hasn't converged yet.\n",
      "  % self.max_iter, ConvergenceWarning)\n"
     ]
    },
    {
     "data": {
      "application/vnd.jupyter.widget-view+json": {
       "model_id": "",
       "version_major": 2,
       "version_minor": 0
      },
      "text/plain": [
       "HBox(children=(FloatProgress(value=0.0, max=1.0), HTML(value='')))"
      ]
     },
     "metadata": {},
     "output_type": "display_data"
    },
    {
     "name": "stderr",
     "output_type": "stream",
     "text": [
      "C:\\Users\\user\\anaconda3\\lib\\site-packages\\sklearn\\neural_network\\_multilayer_perceptron.py:571: ConvergenceWarning: Stochastic Optimizer: Maximum iterations (200) reached and the optimization hasn't converged yet.\n",
      "  % self.max_iter, ConvergenceWarning)\n"
     ]
    },
    {
     "data": {
      "application/vnd.jupyter.widget-view+json": {
       "model_id": "",
       "version_major": 2,
       "version_minor": 0
      },
      "text/plain": [
       "HBox(children=(FloatProgress(value=0.0, max=1.0), HTML(value='')))"
      ]
     },
     "metadata": {},
     "output_type": "display_data"
    },
    {
     "name": "stdout",
     "output_type": "stream",
     "text": [
      "((50, 50, 50), 'tanh', 'sgd', 0.0001, 'adaptive')\n",
      "{'hidden_layer_sizes': (50, 50, 50), 'activation': 'tanh', 'solver': 'sgd', 'alpha': 0.0001, 'learning_rate': 'adaptive'}\n"
     ]
    },
    {
     "name": "stderr",
     "output_type": "stream",
     "text": [
      "C:\\Users\\user\\anaconda3\\lib\\site-packages\\sklearn\\neural_network\\_multilayer_perceptron.py:571: ConvergenceWarning: Stochastic Optimizer: Maximum iterations (200) reached and the optimization hasn't converged yet.\n",
      "  % self.max_iter, ConvergenceWarning)\n"
     ]
    },
    {
     "data": {
      "application/vnd.jupyter.widget-view+json": {
       "model_id": "",
       "version_major": 2,
       "version_minor": 0
      },
      "text/plain": [
       "HBox(children=(FloatProgress(value=0.0, max=5.0), HTML(value='')))"
      ]
     },
     "metadata": {},
     "output_type": "display_data"
    },
    {
     "data": {
      "application/vnd.jupyter.widget-view+json": {
       "model_id": "",
       "version_major": 2,
       "version_minor": 0
      },
      "text/plain": [
       "HBox(children=(FloatProgress(value=0.0, max=1.0), HTML(value='')))"
      ]
     },
     "metadata": {},
     "output_type": "display_data"
    },
    {
     "name": "stderr",
     "output_type": "stream",
     "text": [
      "C:\\Users\\user\\anaconda3\\lib\\site-packages\\sklearn\\neural_network\\_multilayer_perceptron.py:571: ConvergenceWarning: Stochastic Optimizer: Maximum iterations (200) reached and the optimization hasn't converged yet.\n",
      "  % self.max_iter, ConvergenceWarning)\n"
     ]
    },
    {
     "data": {
      "application/vnd.jupyter.widget-view+json": {
       "model_id": "",
       "version_major": 2,
       "version_minor": 0
      },
      "text/plain": [
       "HBox(children=(FloatProgress(value=0.0, max=1.0), HTML(value='')))"
      ]
     },
     "metadata": {},
     "output_type": "display_data"
    },
    {
     "name": "stderr",
     "output_type": "stream",
     "text": [
      "C:\\Users\\user\\anaconda3\\lib\\site-packages\\sklearn\\neural_network\\_multilayer_perceptron.py:571: ConvergenceWarning: Stochastic Optimizer: Maximum iterations (200) reached and the optimization hasn't converged yet.\n",
      "  % self.max_iter, ConvergenceWarning)\n"
     ]
    },
    {
     "data": {
      "application/vnd.jupyter.widget-view+json": {
       "model_id": "",
       "version_major": 2,
       "version_minor": 0
      },
      "text/plain": [
       "HBox(children=(FloatProgress(value=0.0, max=1.0), HTML(value='')))"
      ]
     },
     "metadata": {},
     "output_type": "display_data"
    },
    {
     "name": "stderr",
     "output_type": "stream",
     "text": [
      "C:\\Users\\user\\anaconda3\\lib\\site-packages\\sklearn\\neural_network\\_multilayer_perceptron.py:571: ConvergenceWarning: Stochastic Optimizer: Maximum iterations (200) reached and the optimization hasn't converged yet.\n",
      "  % self.max_iter, ConvergenceWarning)\n"
     ]
    },
    {
     "data": {
      "application/vnd.jupyter.widget-view+json": {
       "model_id": "",
       "version_major": 2,
       "version_minor": 0
      },
      "text/plain": [
       "HBox(children=(FloatProgress(value=0.0, max=1.0), HTML(value='')))"
      ]
     },
     "metadata": {},
     "output_type": "display_data"
    },
    {
     "name": "stderr",
     "output_type": "stream",
     "text": [
      "C:\\Users\\user\\anaconda3\\lib\\site-packages\\sklearn\\neural_network\\_multilayer_perceptron.py:571: ConvergenceWarning: Stochastic Optimizer: Maximum iterations (200) reached and the optimization hasn't converged yet.\n",
      "  % self.max_iter, ConvergenceWarning)\n"
     ]
    },
    {
     "data": {
      "application/vnd.jupyter.widget-view+json": {
       "model_id": "",
       "version_major": 2,
       "version_minor": 0
      },
      "text/plain": [
       "HBox(children=(FloatProgress(value=0.0, max=1.0), HTML(value='')))"
      ]
     },
     "metadata": {},
     "output_type": "display_data"
    },
    {
     "name": "stdout",
     "output_type": "stream",
     "text": [
      "((50, 50, 50), 'tanh', 'sgd', 0.05, 'constant')\n",
      "{'hidden_layer_sizes': (50, 50, 50), 'activation': 'tanh', 'solver': 'sgd', 'alpha': 0.05, 'learning_rate': 'constant'}\n"
     ]
    },
    {
     "name": "stderr",
     "output_type": "stream",
     "text": [
      "C:\\Users\\user\\anaconda3\\lib\\site-packages\\sklearn\\neural_network\\_multilayer_perceptron.py:571: ConvergenceWarning: Stochastic Optimizer: Maximum iterations (200) reached and the optimization hasn't converged yet.\n",
      "  % self.max_iter, ConvergenceWarning)\n"
     ]
    },
    {
     "data": {
      "application/vnd.jupyter.widget-view+json": {
       "model_id": "",
       "version_major": 2,
       "version_minor": 0
      },
      "text/plain": [
       "HBox(children=(FloatProgress(value=0.0, max=5.0), HTML(value='')))"
      ]
     },
     "metadata": {},
     "output_type": "display_data"
    },
    {
     "data": {
      "application/vnd.jupyter.widget-view+json": {
       "model_id": "",
       "version_major": 2,
       "version_minor": 0
      },
      "text/plain": [
       "HBox(children=(FloatProgress(value=0.0, max=1.0), HTML(value='')))"
      ]
     },
     "metadata": {},
     "output_type": "display_data"
    },
    {
     "name": "stderr",
     "output_type": "stream",
     "text": [
      "C:\\Users\\user\\anaconda3\\lib\\site-packages\\sklearn\\neural_network\\_multilayer_perceptron.py:571: ConvergenceWarning: Stochastic Optimizer: Maximum iterations (200) reached and the optimization hasn't converged yet.\n",
      "  % self.max_iter, ConvergenceWarning)\n"
     ]
    },
    {
     "data": {
      "application/vnd.jupyter.widget-view+json": {
       "model_id": "",
       "version_major": 2,
       "version_minor": 0
      },
      "text/plain": [
       "HBox(children=(FloatProgress(value=0.0, max=1.0), HTML(value='')))"
      ]
     },
     "metadata": {},
     "output_type": "display_data"
    },
    {
     "name": "stderr",
     "output_type": "stream",
     "text": [
      "C:\\Users\\user\\anaconda3\\lib\\site-packages\\sklearn\\neural_network\\_multilayer_perceptron.py:571: ConvergenceWarning: Stochastic Optimizer: Maximum iterations (200) reached and the optimization hasn't converged yet.\n",
      "  % self.max_iter, ConvergenceWarning)\n"
     ]
    },
    {
     "data": {
      "application/vnd.jupyter.widget-view+json": {
       "model_id": "",
       "version_major": 2,
       "version_minor": 0
      },
      "text/plain": [
       "HBox(children=(FloatProgress(value=0.0, max=1.0), HTML(value='')))"
      ]
     },
     "metadata": {},
     "output_type": "display_data"
    },
    {
     "name": "stderr",
     "output_type": "stream",
     "text": [
      "C:\\Users\\user\\anaconda3\\lib\\site-packages\\sklearn\\neural_network\\_multilayer_perceptron.py:571: ConvergenceWarning: Stochastic Optimizer: Maximum iterations (200) reached and the optimization hasn't converged yet.\n",
      "  % self.max_iter, ConvergenceWarning)\n"
     ]
    },
    {
     "data": {
      "application/vnd.jupyter.widget-view+json": {
       "model_id": "",
       "version_major": 2,
       "version_minor": 0
      },
      "text/plain": [
       "HBox(children=(FloatProgress(value=0.0, max=1.0), HTML(value='')))"
      ]
     },
     "metadata": {},
     "output_type": "display_data"
    },
    {
     "name": "stderr",
     "output_type": "stream",
     "text": [
      "C:\\Users\\user\\anaconda3\\lib\\site-packages\\sklearn\\neural_network\\_multilayer_perceptron.py:571: ConvergenceWarning: Stochastic Optimizer: Maximum iterations (200) reached and the optimization hasn't converged yet.\n",
      "  % self.max_iter, ConvergenceWarning)\n"
     ]
    },
    {
     "data": {
      "application/vnd.jupyter.widget-view+json": {
       "model_id": "",
       "version_major": 2,
       "version_minor": 0
      },
      "text/plain": [
       "HBox(children=(FloatProgress(value=0.0, max=1.0), HTML(value='')))"
      ]
     },
     "metadata": {},
     "output_type": "display_data"
    },
    {
     "name": "stdout",
     "output_type": "stream",
     "text": [
      "((50, 50, 50), 'tanh', 'sgd', 0.05, 'adaptive')\n",
      "{'hidden_layer_sizes': (50, 50, 50), 'activation': 'tanh', 'solver': 'sgd', 'alpha': 0.05, 'learning_rate': 'adaptive'}\n"
     ]
    },
    {
     "name": "stderr",
     "output_type": "stream",
     "text": [
      "C:\\Users\\user\\anaconda3\\lib\\site-packages\\sklearn\\neural_network\\_multilayer_perceptron.py:571: ConvergenceWarning: Stochastic Optimizer: Maximum iterations (200) reached and the optimization hasn't converged yet.\n",
      "  % self.max_iter, ConvergenceWarning)\n"
     ]
    },
    {
     "data": {
      "application/vnd.jupyter.widget-view+json": {
       "model_id": "",
       "version_major": 2,
       "version_minor": 0
      },
      "text/plain": [
       "HBox(children=(FloatProgress(value=0.0, max=5.0), HTML(value='')))"
      ]
     },
     "metadata": {},
     "output_type": "display_data"
    },
    {
     "data": {
      "application/vnd.jupyter.widget-view+json": {
       "model_id": "",
       "version_major": 2,
       "version_minor": 0
      },
      "text/plain": [
       "HBox(children=(FloatProgress(value=0.0, max=1.0), HTML(value='')))"
      ]
     },
     "metadata": {},
     "output_type": "display_data"
    },
    {
     "name": "stderr",
     "output_type": "stream",
     "text": [
      "C:\\Users\\user\\anaconda3\\lib\\site-packages\\sklearn\\neural_network\\_multilayer_perceptron.py:571: ConvergenceWarning: Stochastic Optimizer: Maximum iterations (200) reached and the optimization hasn't converged yet.\n",
      "  % self.max_iter, ConvergenceWarning)\n"
     ]
    },
    {
     "data": {
      "application/vnd.jupyter.widget-view+json": {
       "model_id": "",
       "version_major": 2,
       "version_minor": 0
      },
      "text/plain": [
       "HBox(children=(FloatProgress(value=0.0, max=1.0), HTML(value='')))"
      ]
     },
     "metadata": {},
     "output_type": "display_data"
    },
    {
     "name": "stderr",
     "output_type": "stream",
     "text": [
      "C:\\Users\\user\\anaconda3\\lib\\site-packages\\sklearn\\neural_network\\_multilayer_perceptron.py:571: ConvergenceWarning: Stochastic Optimizer: Maximum iterations (200) reached and the optimization hasn't converged yet.\n",
      "  % self.max_iter, ConvergenceWarning)\n"
     ]
    },
    {
     "data": {
      "application/vnd.jupyter.widget-view+json": {
       "model_id": "",
       "version_major": 2,
       "version_minor": 0
      },
      "text/plain": [
       "HBox(children=(FloatProgress(value=0.0, max=1.0), HTML(value='')))"
      ]
     },
     "metadata": {},
     "output_type": "display_data"
    },
    {
     "name": "stderr",
     "output_type": "stream",
     "text": [
      "C:\\Users\\user\\anaconda3\\lib\\site-packages\\sklearn\\neural_network\\_multilayer_perceptron.py:571: ConvergenceWarning: Stochastic Optimizer: Maximum iterations (200) reached and the optimization hasn't converged yet.\n",
      "  % self.max_iter, ConvergenceWarning)\n"
     ]
    },
    {
     "data": {
      "application/vnd.jupyter.widget-view+json": {
       "model_id": "",
       "version_major": 2,
       "version_minor": 0
      },
      "text/plain": [
       "HBox(children=(FloatProgress(value=0.0, max=1.0), HTML(value='')))"
      ]
     },
     "metadata": {},
     "output_type": "display_data"
    },
    {
     "name": "stderr",
     "output_type": "stream",
     "text": [
      "C:\\Users\\user\\anaconda3\\lib\\site-packages\\sklearn\\neural_network\\_multilayer_perceptron.py:571: ConvergenceWarning: Stochastic Optimizer: Maximum iterations (200) reached and the optimization hasn't converged yet.\n",
      "  % self.max_iter, ConvergenceWarning)\n"
     ]
    },
    {
     "data": {
      "application/vnd.jupyter.widget-view+json": {
       "model_id": "",
       "version_major": 2,
       "version_minor": 0
      },
      "text/plain": [
       "HBox(children=(FloatProgress(value=0.0, max=1.0), HTML(value='')))"
      ]
     },
     "metadata": {},
     "output_type": "display_data"
    },
    {
     "name": "stdout",
     "output_type": "stream",
     "text": [
      "((50, 50, 50), 'tanh', 'adam', 0.0001, 'constant')\n",
      "{'hidden_layer_sizes': (50, 50, 50), 'activation': 'tanh', 'solver': 'adam', 'alpha': 0.0001, 'learning_rate': 'constant'}\n"
     ]
    },
    {
     "name": "stderr",
     "output_type": "stream",
     "text": [
      "C:\\Users\\user\\anaconda3\\lib\\site-packages\\sklearn\\neural_network\\_multilayer_perceptron.py:571: ConvergenceWarning: Stochastic Optimizer: Maximum iterations (200) reached and the optimization hasn't converged yet.\n",
      "  % self.max_iter, ConvergenceWarning)\n"
     ]
    },
    {
     "data": {
      "application/vnd.jupyter.widget-view+json": {
       "model_id": "",
       "version_major": 2,
       "version_minor": 0
      },
      "text/plain": [
       "HBox(children=(FloatProgress(value=0.0, max=5.0), HTML(value='')))"
      ]
     },
     "metadata": {},
     "output_type": "display_data"
    },
    {
     "data": {
      "application/vnd.jupyter.widget-view+json": {
       "model_id": "",
       "version_major": 2,
       "version_minor": 0
      },
      "text/plain": [
       "HBox(children=(FloatProgress(value=0.0, max=1.0), HTML(value='')))"
      ]
     },
     "metadata": {},
     "output_type": "display_data"
    },
    {
     "data": {
      "application/vnd.jupyter.widget-view+json": {
       "model_id": "",
       "version_major": 2,
       "version_minor": 0
      },
      "text/plain": [
       "HBox(children=(FloatProgress(value=0.0, max=1.0), HTML(value='')))"
      ]
     },
     "metadata": {},
     "output_type": "display_data"
    },
    {
     "data": {
      "application/vnd.jupyter.widget-view+json": {
       "model_id": "",
       "version_major": 2,
       "version_minor": 0
      },
      "text/plain": [
       "HBox(children=(FloatProgress(value=0.0, max=1.0), HTML(value='')))"
      ]
     },
     "metadata": {},
     "output_type": "display_data"
    },
    {
     "data": {
      "application/vnd.jupyter.widget-view+json": {
       "model_id": "",
       "version_major": 2,
       "version_minor": 0
      },
      "text/plain": [
       "HBox(children=(FloatProgress(value=0.0, max=1.0), HTML(value='')))"
      ]
     },
     "metadata": {},
     "output_type": "display_data"
    },
    {
     "data": {
      "application/vnd.jupyter.widget-view+json": {
       "model_id": "",
       "version_major": 2,
       "version_minor": 0
      },
      "text/plain": [
       "HBox(children=(FloatProgress(value=0.0, max=1.0), HTML(value='')))"
      ]
     },
     "metadata": {},
     "output_type": "display_data"
    },
    {
     "name": "stdout",
     "output_type": "stream",
     "text": [
      "((50, 50, 50), 'tanh', 'adam', 0.0001, 'adaptive')\n",
      "{'hidden_layer_sizes': (50, 50, 50), 'activation': 'tanh', 'solver': 'adam', 'alpha': 0.0001, 'learning_rate': 'adaptive'}\n"
     ]
    },
    {
     "data": {
      "application/vnd.jupyter.widget-view+json": {
       "model_id": "",
       "version_major": 2,
       "version_minor": 0
      },
      "text/plain": [
       "HBox(children=(FloatProgress(value=0.0, max=5.0), HTML(value='')))"
      ]
     },
     "metadata": {},
     "output_type": "display_data"
    },
    {
     "data": {
      "application/vnd.jupyter.widget-view+json": {
       "model_id": "",
       "version_major": 2,
       "version_minor": 0
      },
      "text/plain": [
       "HBox(children=(FloatProgress(value=0.0, max=1.0), HTML(value='')))"
      ]
     },
     "metadata": {},
     "output_type": "display_data"
    },
    {
     "data": {
      "application/vnd.jupyter.widget-view+json": {
       "model_id": "",
       "version_major": 2,
       "version_minor": 0
      },
      "text/plain": [
       "HBox(children=(FloatProgress(value=0.0, max=1.0), HTML(value='')))"
      ]
     },
     "metadata": {},
     "output_type": "display_data"
    },
    {
     "data": {
      "application/vnd.jupyter.widget-view+json": {
       "model_id": "",
       "version_major": 2,
       "version_minor": 0
      },
      "text/plain": [
       "HBox(children=(FloatProgress(value=0.0, max=1.0), HTML(value='')))"
      ]
     },
     "metadata": {},
     "output_type": "display_data"
    },
    {
     "data": {
      "application/vnd.jupyter.widget-view+json": {
       "model_id": "",
       "version_major": 2,
       "version_minor": 0
      },
      "text/plain": [
       "HBox(children=(FloatProgress(value=0.0, max=1.0), HTML(value='')))"
      ]
     },
     "metadata": {},
     "output_type": "display_data"
    },
    {
     "data": {
      "application/vnd.jupyter.widget-view+json": {
       "model_id": "",
       "version_major": 2,
       "version_minor": 0
      },
      "text/plain": [
       "HBox(children=(FloatProgress(value=0.0, max=1.0), HTML(value='')))"
      ]
     },
     "metadata": {},
     "output_type": "display_data"
    },
    {
     "name": "stdout",
     "output_type": "stream",
     "text": [
      "((50, 50, 50), 'tanh', 'adam', 0.05, 'constant')\n",
      "{'hidden_layer_sizes': (50, 50, 50), 'activation': 'tanh', 'solver': 'adam', 'alpha': 0.05, 'learning_rate': 'constant'}\n"
     ]
    },
    {
     "data": {
      "application/vnd.jupyter.widget-view+json": {
       "model_id": "",
       "version_major": 2,
       "version_minor": 0
      },
      "text/plain": [
       "HBox(children=(FloatProgress(value=0.0, max=5.0), HTML(value='')))"
      ]
     },
     "metadata": {},
     "output_type": "display_data"
    },
    {
     "data": {
      "application/vnd.jupyter.widget-view+json": {
       "model_id": "",
       "version_major": 2,
       "version_minor": 0
      },
      "text/plain": [
       "HBox(children=(FloatProgress(value=0.0, max=1.0), HTML(value='')))"
      ]
     },
     "metadata": {},
     "output_type": "display_data"
    },
    {
     "data": {
      "application/vnd.jupyter.widget-view+json": {
       "model_id": "",
       "version_major": 2,
       "version_minor": 0
      },
      "text/plain": [
       "HBox(children=(FloatProgress(value=0.0, max=1.0), HTML(value='')))"
      ]
     },
     "metadata": {},
     "output_type": "display_data"
    },
    {
     "data": {
      "application/vnd.jupyter.widget-view+json": {
       "model_id": "",
       "version_major": 2,
       "version_minor": 0
      },
      "text/plain": [
       "HBox(children=(FloatProgress(value=0.0, max=1.0), HTML(value='')))"
      ]
     },
     "metadata": {},
     "output_type": "display_data"
    },
    {
     "data": {
      "application/vnd.jupyter.widget-view+json": {
       "model_id": "",
       "version_major": 2,
       "version_minor": 0
      },
      "text/plain": [
       "HBox(children=(FloatProgress(value=0.0, max=1.0), HTML(value='')))"
      ]
     },
     "metadata": {},
     "output_type": "display_data"
    },
    {
     "data": {
      "application/vnd.jupyter.widget-view+json": {
       "model_id": "",
       "version_major": 2,
       "version_minor": 0
      },
      "text/plain": [
       "HBox(children=(FloatProgress(value=0.0, max=1.0), HTML(value='')))"
      ]
     },
     "metadata": {},
     "output_type": "display_data"
    },
    {
     "name": "stdout",
     "output_type": "stream",
     "text": [
      "((50, 50, 50), 'tanh', 'adam', 0.05, 'adaptive')\n",
      "{'hidden_layer_sizes': (50, 50, 50), 'activation': 'tanh', 'solver': 'adam', 'alpha': 0.05, 'learning_rate': 'adaptive'}\n"
     ]
    },
    {
     "data": {
      "application/vnd.jupyter.widget-view+json": {
       "model_id": "",
       "version_major": 2,
       "version_minor": 0
      },
      "text/plain": [
       "HBox(children=(FloatProgress(value=0.0, max=5.0), HTML(value='')))"
      ]
     },
     "metadata": {},
     "output_type": "display_data"
    },
    {
     "data": {
      "application/vnd.jupyter.widget-view+json": {
       "model_id": "",
       "version_major": 2,
       "version_minor": 0
      },
      "text/plain": [
       "HBox(children=(FloatProgress(value=0.0, max=1.0), HTML(value='')))"
      ]
     },
     "metadata": {},
     "output_type": "display_data"
    },
    {
     "name": "stderr",
     "output_type": "stream",
     "text": [
      "C:\\Users\\user\\anaconda3\\lib\\site-packages\\sklearn\\neural_network\\_multilayer_perceptron.py:571: ConvergenceWarning: Stochastic Optimizer: Maximum iterations (200) reached and the optimization hasn't converged yet.\n",
      "  % self.max_iter, ConvergenceWarning)\n"
     ]
    },
    {
     "data": {
      "application/vnd.jupyter.widget-view+json": {
       "model_id": "",
       "version_major": 2,
       "version_minor": 0
      },
      "text/plain": [
       "HBox(children=(FloatProgress(value=0.0, max=1.0), HTML(value='')))"
      ]
     },
     "metadata": {},
     "output_type": "display_data"
    },
    {
     "data": {
      "application/vnd.jupyter.widget-view+json": {
       "model_id": "",
       "version_major": 2,
       "version_minor": 0
      },
      "text/plain": [
       "HBox(children=(FloatProgress(value=0.0, max=1.0), HTML(value='')))"
      ]
     },
     "metadata": {},
     "output_type": "display_data"
    },
    {
     "data": {
      "application/vnd.jupyter.widget-view+json": {
       "model_id": "",
       "version_major": 2,
       "version_minor": 0
      },
      "text/plain": [
       "HBox(children=(FloatProgress(value=0.0, max=1.0), HTML(value='')))"
      ]
     },
     "metadata": {},
     "output_type": "display_data"
    },
    {
     "name": "stderr",
     "output_type": "stream",
     "text": [
      "C:\\Users\\user\\anaconda3\\lib\\site-packages\\sklearn\\neural_network\\_multilayer_perceptron.py:571: ConvergenceWarning: Stochastic Optimizer: Maximum iterations (200) reached and the optimization hasn't converged yet.\n",
      "  % self.max_iter, ConvergenceWarning)\n"
     ]
    },
    {
     "data": {
      "application/vnd.jupyter.widget-view+json": {
       "model_id": "",
       "version_major": 2,
       "version_minor": 0
      },
      "text/plain": [
       "HBox(children=(FloatProgress(value=0.0, max=1.0), HTML(value='')))"
      ]
     },
     "metadata": {},
     "output_type": "display_data"
    },
    {
     "name": "stdout",
     "output_type": "stream",
     "text": [
      "((50, 50, 50), 'relu', 'sgd', 0.0001, 'constant')\n",
      "{'hidden_layer_sizes': (50, 50, 50), 'activation': 'relu', 'solver': 'sgd', 'alpha': 0.0001, 'learning_rate': 'constant'}\n"
     ]
    },
    {
     "data": {
      "application/vnd.jupyter.widget-view+json": {
       "model_id": "",
       "version_major": 2,
       "version_minor": 0
      },
      "text/plain": [
       "HBox(children=(FloatProgress(value=0.0, max=5.0), HTML(value='')))"
      ]
     },
     "metadata": {},
     "output_type": "display_data"
    },
    {
     "data": {
      "application/vnd.jupyter.widget-view+json": {
       "model_id": "",
       "version_major": 2,
       "version_minor": 0
      },
      "text/plain": [
       "HBox(children=(FloatProgress(value=0.0, max=1.0), HTML(value='')))"
      ]
     },
     "metadata": {},
     "output_type": "display_data"
    },
    {
     "data": {
      "application/vnd.jupyter.widget-view+json": {
       "model_id": "",
       "version_major": 2,
       "version_minor": 0
      },
      "text/plain": [
       "HBox(children=(FloatProgress(value=0.0, max=1.0), HTML(value='')))"
      ]
     },
     "metadata": {},
     "output_type": "display_data"
    },
    {
     "data": {
      "application/vnd.jupyter.widget-view+json": {
       "model_id": "",
       "version_major": 2,
       "version_minor": 0
      },
      "text/plain": [
       "HBox(children=(FloatProgress(value=0.0, max=1.0), HTML(value='')))"
      ]
     },
     "metadata": {},
     "output_type": "display_data"
    },
    {
     "data": {
      "application/vnd.jupyter.widget-view+json": {
       "model_id": "",
       "version_major": 2,
       "version_minor": 0
      },
      "text/plain": [
       "HBox(children=(FloatProgress(value=0.0, max=1.0), HTML(value='')))"
      ]
     },
     "metadata": {},
     "output_type": "display_data"
    },
    {
     "name": "stderr",
     "output_type": "stream",
     "text": [
      "C:\\Users\\user\\anaconda3\\lib\\site-packages\\sklearn\\neural_network\\_multilayer_perceptron.py:571: ConvergenceWarning: Stochastic Optimizer: Maximum iterations (200) reached and the optimization hasn't converged yet.\n",
      "  % self.max_iter, ConvergenceWarning)\n"
     ]
    },
    {
     "data": {
      "application/vnd.jupyter.widget-view+json": {
       "model_id": "",
       "version_major": 2,
       "version_minor": 0
      },
      "text/plain": [
       "HBox(children=(FloatProgress(value=0.0, max=1.0), HTML(value='')))"
      ]
     },
     "metadata": {},
     "output_type": "display_data"
    },
    {
     "name": "stdout",
     "output_type": "stream",
     "text": [
      "((50, 50, 50), 'relu', 'sgd', 0.0001, 'adaptive')\n",
      "{'hidden_layer_sizes': (50, 50, 50), 'activation': 'relu', 'solver': 'sgd', 'alpha': 0.0001, 'learning_rate': 'adaptive'}\n"
     ]
    },
    {
     "data": {
      "application/vnd.jupyter.widget-view+json": {
       "model_id": "",
       "version_major": 2,
       "version_minor": 0
      },
      "text/plain": [
       "HBox(children=(FloatProgress(value=0.0, max=5.0), HTML(value='')))"
      ]
     },
     "metadata": {},
     "output_type": "display_data"
    },
    {
     "data": {
      "application/vnd.jupyter.widget-view+json": {
       "model_id": "",
       "version_major": 2,
       "version_minor": 0
      },
      "text/plain": [
       "HBox(children=(FloatProgress(value=0.0, max=1.0), HTML(value='')))"
      ]
     },
     "metadata": {},
     "output_type": "display_data"
    },
    {
     "data": {
      "application/vnd.jupyter.widget-view+json": {
       "model_id": "",
       "version_major": 2,
       "version_minor": 0
      },
      "text/plain": [
       "HBox(children=(FloatProgress(value=0.0, max=1.0), HTML(value='')))"
      ]
     },
     "metadata": {},
     "output_type": "display_data"
    },
    {
     "data": {
      "application/vnd.jupyter.widget-view+json": {
       "model_id": "",
       "version_major": 2,
       "version_minor": 0
      },
      "text/plain": [
       "HBox(children=(FloatProgress(value=0.0, max=1.0), HTML(value='')))"
      ]
     },
     "metadata": {},
     "output_type": "display_data"
    },
    {
     "name": "stderr",
     "output_type": "stream",
     "text": [
      "C:\\Users\\user\\anaconda3\\lib\\site-packages\\sklearn\\neural_network\\_multilayer_perceptron.py:571: ConvergenceWarning: Stochastic Optimizer: Maximum iterations (200) reached and the optimization hasn't converged yet.\n",
      "  % self.max_iter, ConvergenceWarning)\n"
     ]
    },
    {
     "data": {
      "application/vnd.jupyter.widget-view+json": {
       "model_id": "",
       "version_major": 2,
       "version_minor": 0
      },
      "text/plain": [
       "HBox(children=(FloatProgress(value=0.0, max=1.0), HTML(value='')))"
      ]
     },
     "metadata": {},
     "output_type": "display_data"
    },
    {
     "data": {
      "application/vnd.jupyter.widget-view+json": {
       "model_id": "",
       "version_major": 2,
       "version_minor": 0
      },
      "text/plain": [
       "HBox(children=(FloatProgress(value=0.0, max=1.0), HTML(value='')))"
      ]
     },
     "metadata": {},
     "output_type": "display_data"
    },
    {
     "name": "stdout",
     "output_type": "stream",
     "text": [
      "((50, 50, 50), 'relu', 'sgd', 0.05, 'constant')\n",
      "{'hidden_layer_sizes': (50, 50, 50), 'activation': 'relu', 'solver': 'sgd', 'alpha': 0.05, 'learning_rate': 'constant'}\n"
     ]
    },
    {
     "data": {
      "application/vnd.jupyter.widget-view+json": {
       "model_id": "",
       "version_major": 2,
       "version_minor": 0
      },
      "text/plain": [
       "HBox(children=(FloatProgress(value=0.0, max=5.0), HTML(value='')))"
      ]
     },
     "metadata": {},
     "output_type": "display_data"
    },
    {
     "data": {
      "application/vnd.jupyter.widget-view+json": {
       "model_id": "",
       "version_major": 2,
       "version_minor": 0
      },
      "text/plain": [
       "HBox(children=(FloatProgress(value=0.0, max=1.0), HTML(value='')))"
      ]
     },
     "metadata": {},
     "output_type": "display_data"
    },
    {
     "data": {
      "application/vnd.jupyter.widget-view+json": {
       "model_id": "",
       "version_major": 2,
       "version_minor": 0
      },
      "text/plain": [
       "HBox(children=(FloatProgress(value=0.0, max=1.0), HTML(value='')))"
      ]
     },
     "metadata": {},
     "output_type": "display_data"
    },
    {
     "data": {
      "application/vnd.jupyter.widget-view+json": {
       "model_id": "",
       "version_major": 2,
       "version_minor": 0
      },
      "text/plain": [
       "HBox(children=(FloatProgress(value=0.0, max=1.0), HTML(value='')))"
      ]
     },
     "metadata": {},
     "output_type": "display_data"
    },
    {
     "data": {
      "application/vnd.jupyter.widget-view+json": {
       "model_id": "",
       "version_major": 2,
       "version_minor": 0
      },
      "text/plain": [
       "HBox(children=(FloatProgress(value=0.0, max=1.0), HTML(value='')))"
      ]
     },
     "metadata": {},
     "output_type": "display_data"
    },
    {
     "data": {
      "application/vnd.jupyter.widget-view+json": {
       "model_id": "",
       "version_major": 2,
       "version_minor": 0
      },
      "text/plain": [
       "HBox(children=(FloatProgress(value=0.0, max=1.0), HTML(value='')))"
      ]
     },
     "metadata": {},
     "output_type": "display_data"
    },
    {
     "name": "stdout",
     "output_type": "stream",
     "text": [
      "((50, 50, 50), 'relu', 'sgd', 0.05, 'adaptive')\n",
      "{'hidden_layer_sizes': (50, 50, 50), 'activation': 'relu', 'solver': 'sgd', 'alpha': 0.05, 'learning_rate': 'adaptive'}\n"
     ]
    },
    {
     "name": "stderr",
     "output_type": "stream",
     "text": [
      "C:\\Users\\user\\anaconda3\\lib\\site-packages\\sklearn\\neural_network\\_multilayer_perceptron.py:571: ConvergenceWarning: Stochastic Optimizer: Maximum iterations (200) reached and the optimization hasn't converged yet.\n",
      "  % self.max_iter, ConvergenceWarning)\n"
     ]
    },
    {
     "data": {
      "application/vnd.jupyter.widget-view+json": {
       "model_id": "",
       "version_major": 2,
       "version_minor": 0
      },
      "text/plain": [
       "HBox(children=(FloatProgress(value=0.0, max=5.0), HTML(value='')))"
      ]
     },
     "metadata": {},
     "output_type": "display_data"
    },
    {
     "data": {
      "application/vnd.jupyter.widget-view+json": {
       "model_id": "",
       "version_major": 2,
       "version_minor": 0
      },
      "text/plain": [
       "HBox(children=(FloatProgress(value=0.0, max=1.0), HTML(value='')))"
      ]
     },
     "metadata": {},
     "output_type": "display_data"
    },
    {
     "name": "stderr",
     "output_type": "stream",
     "text": [
      "C:\\Users\\user\\anaconda3\\lib\\site-packages\\sklearn\\neural_network\\_multilayer_perceptron.py:571: ConvergenceWarning: Stochastic Optimizer: Maximum iterations (200) reached and the optimization hasn't converged yet.\n",
      "  % self.max_iter, ConvergenceWarning)\n"
     ]
    },
    {
     "data": {
      "application/vnd.jupyter.widget-view+json": {
       "model_id": "",
       "version_major": 2,
       "version_minor": 0
      },
      "text/plain": [
       "HBox(children=(FloatProgress(value=0.0, max=1.0), HTML(value='')))"
      ]
     },
     "metadata": {},
     "output_type": "display_data"
    },
    {
     "name": "stderr",
     "output_type": "stream",
     "text": [
      "C:\\Users\\user\\anaconda3\\lib\\site-packages\\sklearn\\neural_network\\_multilayer_perceptron.py:571: ConvergenceWarning: Stochastic Optimizer: Maximum iterations (200) reached and the optimization hasn't converged yet.\n",
      "  % self.max_iter, ConvergenceWarning)\n"
     ]
    },
    {
     "data": {
      "application/vnd.jupyter.widget-view+json": {
       "model_id": "",
       "version_major": 2,
       "version_minor": 0
      },
      "text/plain": [
       "HBox(children=(FloatProgress(value=0.0, max=1.0), HTML(value='')))"
      ]
     },
     "metadata": {},
     "output_type": "display_data"
    },
    {
     "data": {
      "application/vnd.jupyter.widget-view+json": {
       "model_id": "",
       "version_major": 2,
       "version_minor": 0
      },
      "text/plain": [
       "HBox(children=(FloatProgress(value=0.0, max=1.0), HTML(value='')))"
      ]
     },
     "metadata": {},
     "output_type": "display_data"
    },
    {
     "data": {
      "application/vnd.jupyter.widget-view+json": {
       "model_id": "",
       "version_major": 2,
       "version_minor": 0
      },
      "text/plain": [
       "HBox(children=(FloatProgress(value=0.0, max=1.0), HTML(value='')))"
      ]
     },
     "metadata": {},
     "output_type": "display_data"
    },
    {
     "name": "stdout",
     "output_type": "stream",
     "text": [
      "((50, 50, 50), 'relu', 'adam', 0.0001, 'constant')\n",
      "{'hidden_layer_sizes': (50, 50, 50), 'activation': 'relu', 'solver': 'adam', 'alpha': 0.0001, 'learning_rate': 'constant'}\n"
     ]
    },
    {
     "data": {
      "application/vnd.jupyter.widget-view+json": {
       "model_id": "",
       "version_major": 2,
       "version_minor": 0
      },
      "text/plain": [
       "HBox(children=(FloatProgress(value=0.0, max=5.0), HTML(value='')))"
      ]
     },
     "metadata": {},
     "output_type": "display_data"
    },
    {
     "data": {
      "application/vnd.jupyter.widget-view+json": {
       "model_id": "",
       "version_major": 2,
       "version_minor": 0
      },
      "text/plain": [
       "HBox(children=(FloatProgress(value=0.0, max=1.0), HTML(value='')))"
      ]
     },
     "metadata": {},
     "output_type": "display_data"
    },
    {
     "data": {
      "application/vnd.jupyter.widget-view+json": {
       "model_id": "",
       "version_major": 2,
       "version_minor": 0
      },
      "text/plain": [
       "HBox(children=(FloatProgress(value=0.0, max=1.0), HTML(value='')))"
      ]
     },
     "metadata": {},
     "output_type": "display_data"
    },
    {
     "data": {
      "application/vnd.jupyter.widget-view+json": {
       "model_id": "",
       "version_major": 2,
       "version_minor": 0
      },
      "text/plain": [
       "HBox(children=(FloatProgress(value=0.0, max=1.0), HTML(value='')))"
      ]
     },
     "metadata": {},
     "output_type": "display_data"
    },
    {
     "data": {
      "application/vnd.jupyter.widget-view+json": {
       "model_id": "",
       "version_major": 2,
       "version_minor": 0
      },
      "text/plain": [
       "HBox(children=(FloatProgress(value=0.0, max=1.0), HTML(value='')))"
      ]
     },
     "metadata": {},
     "output_type": "display_data"
    },
    {
     "data": {
      "application/vnd.jupyter.widget-view+json": {
       "model_id": "",
       "version_major": 2,
       "version_minor": 0
      },
      "text/plain": [
       "HBox(children=(FloatProgress(value=0.0, max=1.0), HTML(value='')))"
      ]
     },
     "metadata": {},
     "output_type": "display_data"
    },
    {
     "name": "stdout",
     "output_type": "stream",
     "text": [
      "((50, 50, 50), 'relu', 'adam', 0.0001, 'adaptive')\n",
      "{'hidden_layer_sizes': (50, 50, 50), 'activation': 'relu', 'solver': 'adam', 'alpha': 0.0001, 'learning_rate': 'adaptive'}\n"
     ]
    },
    {
     "data": {
      "application/vnd.jupyter.widget-view+json": {
       "model_id": "",
       "version_major": 2,
       "version_minor": 0
      },
      "text/plain": [
       "HBox(children=(FloatProgress(value=0.0, max=5.0), HTML(value='')))"
      ]
     },
     "metadata": {},
     "output_type": "display_data"
    },
    {
     "data": {
      "application/vnd.jupyter.widget-view+json": {
       "model_id": "",
       "version_major": 2,
       "version_minor": 0
      },
      "text/plain": [
       "HBox(children=(FloatProgress(value=0.0, max=1.0), HTML(value='')))"
      ]
     },
     "metadata": {},
     "output_type": "display_data"
    },
    {
     "data": {
      "application/vnd.jupyter.widget-view+json": {
       "model_id": "",
       "version_major": 2,
       "version_minor": 0
      },
      "text/plain": [
       "HBox(children=(FloatProgress(value=0.0, max=1.0), HTML(value='')))"
      ]
     },
     "metadata": {},
     "output_type": "display_data"
    },
    {
     "data": {
      "application/vnd.jupyter.widget-view+json": {
       "model_id": "",
       "version_major": 2,
       "version_minor": 0
      },
      "text/plain": [
       "HBox(children=(FloatProgress(value=0.0, max=1.0), HTML(value='')))"
      ]
     },
     "metadata": {},
     "output_type": "display_data"
    },
    {
     "data": {
      "application/vnd.jupyter.widget-view+json": {
       "model_id": "",
       "version_major": 2,
       "version_minor": 0
      },
      "text/plain": [
       "HBox(children=(FloatProgress(value=0.0, max=1.0), HTML(value='')))"
      ]
     },
     "metadata": {},
     "output_type": "display_data"
    },
    {
     "data": {
      "application/vnd.jupyter.widget-view+json": {
       "model_id": "",
       "version_major": 2,
       "version_minor": 0
      },
      "text/plain": [
       "HBox(children=(FloatProgress(value=0.0, max=1.0), HTML(value='')))"
      ]
     },
     "metadata": {},
     "output_type": "display_data"
    },
    {
     "name": "stdout",
     "output_type": "stream",
     "text": [
      "((50, 50, 50), 'relu', 'adam', 0.05, 'constant')\n",
      "{'hidden_layer_sizes': (50, 50, 50), 'activation': 'relu', 'solver': 'adam', 'alpha': 0.05, 'learning_rate': 'constant'}\n"
     ]
    },
    {
     "data": {
      "application/vnd.jupyter.widget-view+json": {
       "model_id": "",
       "version_major": 2,
       "version_minor": 0
      },
      "text/plain": [
       "HBox(children=(FloatProgress(value=0.0, max=5.0), HTML(value='')))"
      ]
     },
     "metadata": {},
     "output_type": "display_data"
    },
    {
     "data": {
      "application/vnd.jupyter.widget-view+json": {
       "model_id": "",
       "version_major": 2,
       "version_minor": 0
      },
      "text/plain": [
       "HBox(children=(FloatProgress(value=0.0, max=1.0), HTML(value='')))"
      ]
     },
     "metadata": {},
     "output_type": "display_data"
    },
    {
     "name": "stderr",
     "output_type": "stream",
     "text": [
      "C:\\Users\\user\\anaconda3\\lib\\site-packages\\sklearn\\neural_network\\_multilayer_perceptron.py:571: ConvergenceWarning: Stochastic Optimizer: Maximum iterations (200) reached and the optimization hasn't converged yet.\n",
      "  % self.max_iter, ConvergenceWarning)\n"
     ]
    },
    {
     "data": {
      "application/vnd.jupyter.widget-view+json": {
       "model_id": "",
       "version_major": 2,
       "version_minor": 0
      },
      "text/plain": [
       "HBox(children=(FloatProgress(value=0.0, max=1.0), HTML(value='')))"
      ]
     },
     "metadata": {},
     "output_type": "display_data"
    },
    {
     "name": "stderr",
     "output_type": "stream",
     "text": [
      "C:\\Users\\user\\anaconda3\\lib\\site-packages\\sklearn\\neural_network\\_multilayer_perceptron.py:571: ConvergenceWarning: Stochastic Optimizer: Maximum iterations (200) reached and the optimization hasn't converged yet.\n",
      "  % self.max_iter, ConvergenceWarning)\n"
     ]
    },
    {
     "data": {
      "application/vnd.jupyter.widget-view+json": {
       "model_id": "",
       "version_major": 2,
       "version_minor": 0
      },
      "text/plain": [
       "HBox(children=(FloatProgress(value=0.0, max=1.0), HTML(value='')))"
      ]
     },
     "metadata": {},
     "output_type": "display_data"
    },
    {
     "name": "stderr",
     "output_type": "stream",
     "text": [
      "C:\\Users\\user\\anaconda3\\lib\\site-packages\\sklearn\\neural_network\\_multilayer_perceptron.py:571: ConvergenceWarning: Stochastic Optimizer: Maximum iterations (200) reached and the optimization hasn't converged yet.\n",
      "  % self.max_iter, ConvergenceWarning)\n"
     ]
    },
    {
     "data": {
      "application/vnd.jupyter.widget-view+json": {
       "model_id": "",
       "version_major": 2,
       "version_minor": 0
      },
      "text/plain": [
       "HBox(children=(FloatProgress(value=0.0, max=1.0), HTML(value='')))"
      ]
     },
     "metadata": {},
     "output_type": "display_data"
    },
    {
     "name": "stderr",
     "output_type": "stream",
     "text": [
      "C:\\Users\\user\\anaconda3\\lib\\site-packages\\sklearn\\neural_network\\_multilayer_perceptron.py:571: ConvergenceWarning: Stochastic Optimizer: Maximum iterations (200) reached and the optimization hasn't converged yet.\n",
      "  % self.max_iter, ConvergenceWarning)\n"
     ]
    },
    {
     "data": {
      "application/vnd.jupyter.widget-view+json": {
       "model_id": "",
       "version_major": 2,
       "version_minor": 0
      },
      "text/plain": [
       "HBox(children=(FloatProgress(value=0.0, max=1.0), HTML(value='')))"
      ]
     },
     "metadata": {},
     "output_type": "display_data"
    },
    {
     "name": "stdout",
     "output_type": "stream",
     "text": [
      "((50, 50, 50), 'relu', 'adam', 0.05, 'adaptive')\n",
      "{'hidden_layer_sizes': (50, 50, 50), 'activation': 'relu', 'solver': 'adam', 'alpha': 0.05, 'learning_rate': 'adaptive'}\n"
     ]
    },
    {
     "name": "stderr",
     "output_type": "stream",
     "text": [
      "C:\\Users\\user\\anaconda3\\lib\\site-packages\\sklearn\\neural_network\\_multilayer_perceptron.py:571: ConvergenceWarning: Stochastic Optimizer: Maximum iterations (200) reached and the optimization hasn't converged yet.\n",
      "  % self.max_iter, ConvergenceWarning)\n"
     ]
    },
    {
     "data": {
      "application/vnd.jupyter.widget-view+json": {
       "model_id": "",
       "version_major": 2,
       "version_minor": 0
      },
      "text/plain": [
       "HBox(children=(FloatProgress(value=0.0, max=5.0), HTML(value='')))"
      ]
     },
     "metadata": {},
     "output_type": "display_data"
    },
    {
     "data": {
      "application/vnd.jupyter.widget-view+json": {
       "model_id": "",
       "version_major": 2,
       "version_minor": 0
      },
      "text/plain": [
       "HBox(children=(FloatProgress(value=0.0, max=1.0), HTML(value='')))"
      ]
     },
     "metadata": {},
     "output_type": "display_data"
    },
    {
     "name": "stderr",
     "output_type": "stream",
     "text": [
      "C:\\Users\\user\\anaconda3\\lib\\site-packages\\sklearn\\neural_network\\_multilayer_perceptron.py:571: ConvergenceWarning: Stochastic Optimizer: Maximum iterations (200) reached and the optimization hasn't converged yet.\n",
      "  % self.max_iter, ConvergenceWarning)\n"
     ]
    },
    {
     "data": {
      "application/vnd.jupyter.widget-view+json": {
       "model_id": "",
       "version_major": 2,
       "version_minor": 0
      },
      "text/plain": [
       "HBox(children=(FloatProgress(value=0.0, max=1.0), HTML(value='')))"
      ]
     },
     "metadata": {},
     "output_type": "display_data"
    },
    {
     "name": "stderr",
     "output_type": "stream",
     "text": [
      "C:\\Users\\user\\anaconda3\\lib\\site-packages\\sklearn\\neural_network\\_multilayer_perceptron.py:571: ConvergenceWarning: Stochastic Optimizer: Maximum iterations (200) reached and the optimization hasn't converged yet.\n",
      "  % self.max_iter, ConvergenceWarning)\n"
     ]
    },
    {
     "data": {
      "application/vnd.jupyter.widget-view+json": {
       "model_id": "",
       "version_major": 2,
       "version_minor": 0
      },
      "text/plain": [
       "HBox(children=(FloatProgress(value=0.0, max=1.0), HTML(value='')))"
      ]
     },
     "metadata": {},
     "output_type": "display_data"
    },
    {
     "name": "stderr",
     "output_type": "stream",
     "text": [
      "C:\\Users\\user\\anaconda3\\lib\\site-packages\\sklearn\\neural_network\\_multilayer_perceptron.py:571: ConvergenceWarning: Stochastic Optimizer: Maximum iterations (200) reached and the optimization hasn't converged yet.\n",
      "  % self.max_iter, ConvergenceWarning)\n"
     ]
    },
    {
     "data": {
      "application/vnd.jupyter.widget-view+json": {
       "model_id": "",
       "version_major": 2,
       "version_minor": 0
      },
      "text/plain": [
       "HBox(children=(FloatProgress(value=0.0, max=1.0), HTML(value='')))"
      ]
     },
     "metadata": {},
     "output_type": "display_data"
    },
    {
     "name": "stderr",
     "output_type": "stream",
     "text": [
      "C:\\Users\\user\\anaconda3\\lib\\site-packages\\sklearn\\neural_network\\_multilayer_perceptron.py:571: ConvergenceWarning: Stochastic Optimizer: Maximum iterations (200) reached and the optimization hasn't converged yet.\n",
      "  % self.max_iter, ConvergenceWarning)\n"
     ]
    },
    {
     "data": {
      "application/vnd.jupyter.widget-view+json": {
       "model_id": "",
       "version_major": 2,
       "version_minor": 0
      },
      "text/plain": [
       "HBox(children=(FloatProgress(value=0.0, max=1.0), HTML(value='')))"
      ]
     },
     "metadata": {},
     "output_type": "display_data"
    },
    {
     "name": "stdout",
     "output_type": "stream",
     "text": [
      "((50, 100, 50), 'tanh', 'sgd', 0.0001, 'constant')\n",
      "{'hidden_layer_sizes': (50, 100, 50), 'activation': 'tanh', 'solver': 'sgd', 'alpha': 0.0001, 'learning_rate': 'constant'}\n"
     ]
    },
    {
     "name": "stderr",
     "output_type": "stream",
     "text": [
      "C:\\Users\\user\\anaconda3\\lib\\site-packages\\sklearn\\neural_network\\_multilayer_perceptron.py:571: ConvergenceWarning: Stochastic Optimizer: Maximum iterations (200) reached and the optimization hasn't converged yet.\n",
      "  % self.max_iter, ConvergenceWarning)\n"
     ]
    },
    {
     "data": {
      "application/vnd.jupyter.widget-view+json": {
       "model_id": "",
       "version_major": 2,
       "version_minor": 0
      },
      "text/plain": [
       "HBox(children=(FloatProgress(value=0.0, max=5.0), HTML(value='')))"
      ]
     },
     "metadata": {},
     "output_type": "display_data"
    },
    {
     "data": {
      "application/vnd.jupyter.widget-view+json": {
       "model_id": "",
       "version_major": 2,
       "version_minor": 0
      },
      "text/plain": [
       "HBox(children=(FloatProgress(value=0.0, max=1.0), HTML(value='')))"
      ]
     },
     "metadata": {},
     "output_type": "display_data"
    },
    {
     "name": "stderr",
     "output_type": "stream",
     "text": [
      "C:\\Users\\user\\anaconda3\\lib\\site-packages\\sklearn\\neural_network\\_multilayer_perceptron.py:571: ConvergenceWarning: Stochastic Optimizer: Maximum iterations (200) reached and the optimization hasn't converged yet.\n",
      "  % self.max_iter, ConvergenceWarning)\n"
     ]
    },
    {
     "data": {
      "application/vnd.jupyter.widget-view+json": {
       "model_id": "",
       "version_major": 2,
       "version_minor": 0
      },
      "text/plain": [
       "HBox(children=(FloatProgress(value=0.0, max=1.0), HTML(value='')))"
      ]
     },
     "metadata": {},
     "output_type": "display_data"
    },
    {
     "name": "stderr",
     "output_type": "stream",
     "text": [
      "C:\\Users\\user\\anaconda3\\lib\\site-packages\\sklearn\\neural_network\\_multilayer_perceptron.py:571: ConvergenceWarning: Stochastic Optimizer: Maximum iterations (200) reached and the optimization hasn't converged yet.\n",
      "  % self.max_iter, ConvergenceWarning)\n"
     ]
    },
    {
     "data": {
      "application/vnd.jupyter.widget-view+json": {
       "model_id": "",
       "version_major": 2,
       "version_minor": 0
      },
      "text/plain": [
       "HBox(children=(FloatProgress(value=0.0, max=1.0), HTML(value='')))"
      ]
     },
     "metadata": {},
     "output_type": "display_data"
    },
    {
     "name": "stderr",
     "output_type": "stream",
     "text": [
      "C:\\Users\\user\\anaconda3\\lib\\site-packages\\sklearn\\neural_network\\_multilayer_perceptron.py:571: ConvergenceWarning: Stochastic Optimizer: Maximum iterations (200) reached and the optimization hasn't converged yet.\n",
      "  % self.max_iter, ConvergenceWarning)\n"
     ]
    },
    {
     "data": {
      "application/vnd.jupyter.widget-view+json": {
       "model_id": "",
       "version_major": 2,
       "version_minor": 0
      },
      "text/plain": [
       "HBox(children=(FloatProgress(value=0.0, max=1.0), HTML(value='')))"
      ]
     },
     "metadata": {},
     "output_type": "display_data"
    },
    {
     "name": "stderr",
     "output_type": "stream",
     "text": [
      "C:\\Users\\user\\anaconda3\\lib\\site-packages\\sklearn\\neural_network\\_multilayer_perceptron.py:571: ConvergenceWarning: Stochastic Optimizer: Maximum iterations (200) reached and the optimization hasn't converged yet.\n",
      "  % self.max_iter, ConvergenceWarning)\n"
     ]
    },
    {
     "data": {
      "application/vnd.jupyter.widget-view+json": {
       "model_id": "",
       "version_major": 2,
       "version_minor": 0
      },
      "text/plain": [
       "HBox(children=(FloatProgress(value=0.0, max=1.0), HTML(value='')))"
      ]
     },
     "metadata": {},
     "output_type": "display_data"
    },
    {
     "name": "stdout",
     "output_type": "stream",
     "text": [
      "((50, 100, 50), 'tanh', 'sgd', 0.0001, 'adaptive')\n",
      "{'hidden_layer_sizes': (50, 100, 50), 'activation': 'tanh', 'solver': 'sgd', 'alpha': 0.0001, 'learning_rate': 'adaptive'}\n"
     ]
    },
    {
     "name": "stderr",
     "output_type": "stream",
     "text": [
      "C:\\Users\\user\\anaconda3\\lib\\site-packages\\sklearn\\neural_network\\_multilayer_perceptron.py:571: ConvergenceWarning: Stochastic Optimizer: Maximum iterations (200) reached and the optimization hasn't converged yet.\n",
      "  % self.max_iter, ConvergenceWarning)\n"
     ]
    },
    {
     "data": {
      "application/vnd.jupyter.widget-view+json": {
       "model_id": "",
       "version_major": 2,
       "version_minor": 0
      },
      "text/plain": [
       "HBox(children=(FloatProgress(value=0.0, max=5.0), HTML(value='')))"
      ]
     },
     "metadata": {},
     "output_type": "display_data"
    },
    {
     "data": {
      "application/vnd.jupyter.widget-view+json": {
       "model_id": "",
       "version_major": 2,
       "version_minor": 0
      },
      "text/plain": [
       "HBox(children=(FloatProgress(value=0.0, max=1.0), HTML(value='')))"
      ]
     },
     "metadata": {},
     "output_type": "display_data"
    },
    {
     "name": "stderr",
     "output_type": "stream",
     "text": [
      "C:\\Users\\user\\anaconda3\\lib\\site-packages\\sklearn\\neural_network\\_multilayer_perceptron.py:571: ConvergenceWarning: Stochastic Optimizer: Maximum iterations (200) reached and the optimization hasn't converged yet.\n",
      "  % self.max_iter, ConvergenceWarning)\n"
     ]
    },
    {
     "data": {
      "application/vnd.jupyter.widget-view+json": {
       "model_id": "",
       "version_major": 2,
       "version_minor": 0
      },
      "text/plain": [
       "HBox(children=(FloatProgress(value=0.0, max=1.0), HTML(value='')))"
      ]
     },
     "metadata": {},
     "output_type": "display_data"
    },
    {
     "name": "stderr",
     "output_type": "stream",
     "text": [
      "C:\\Users\\user\\anaconda3\\lib\\site-packages\\sklearn\\neural_network\\_multilayer_perceptron.py:571: ConvergenceWarning: Stochastic Optimizer: Maximum iterations (200) reached and the optimization hasn't converged yet.\n",
      "  % self.max_iter, ConvergenceWarning)\n"
     ]
    },
    {
     "data": {
      "application/vnd.jupyter.widget-view+json": {
       "model_id": "",
       "version_major": 2,
       "version_minor": 0
      },
      "text/plain": [
       "HBox(children=(FloatProgress(value=0.0, max=1.0), HTML(value='')))"
      ]
     },
     "metadata": {},
     "output_type": "display_data"
    },
    {
     "name": "stderr",
     "output_type": "stream",
     "text": [
      "C:\\Users\\user\\anaconda3\\lib\\site-packages\\sklearn\\neural_network\\_multilayer_perceptron.py:571: ConvergenceWarning: Stochastic Optimizer: Maximum iterations (200) reached and the optimization hasn't converged yet.\n",
      "  % self.max_iter, ConvergenceWarning)\n"
     ]
    },
    {
     "data": {
      "application/vnd.jupyter.widget-view+json": {
       "model_id": "",
       "version_major": 2,
       "version_minor": 0
      },
      "text/plain": [
       "HBox(children=(FloatProgress(value=0.0, max=1.0), HTML(value='')))"
      ]
     },
     "metadata": {},
     "output_type": "display_data"
    },
    {
     "name": "stderr",
     "output_type": "stream",
     "text": [
      "C:\\Users\\user\\anaconda3\\lib\\site-packages\\sklearn\\neural_network\\_multilayer_perceptron.py:571: ConvergenceWarning: Stochastic Optimizer: Maximum iterations (200) reached and the optimization hasn't converged yet.\n",
      "  % self.max_iter, ConvergenceWarning)\n"
     ]
    },
    {
     "data": {
      "application/vnd.jupyter.widget-view+json": {
       "model_id": "",
       "version_major": 2,
       "version_minor": 0
      },
      "text/plain": [
       "HBox(children=(FloatProgress(value=0.0, max=1.0), HTML(value='')))"
      ]
     },
     "metadata": {},
     "output_type": "display_data"
    },
    {
     "name": "stdout",
     "output_type": "stream",
     "text": [
      "((50, 100, 50), 'tanh', 'sgd', 0.05, 'constant')\n",
      "{'hidden_layer_sizes': (50, 100, 50), 'activation': 'tanh', 'solver': 'sgd', 'alpha': 0.05, 'learning_rate': 'constant'}\n"
     ]
    },
    {
     "name": "stderr",
     "output_type": "stream",
     "text": [
      "C:\\Users\\user\\anaconda3\\lib\\site-packages\\sklearn\\neural_network\\_multilayer_perceptron.py:571: ConvergenceWarning: Stochastic Optimizer: Maximum iterations (200) reached and the optimization hasn't converged yet.\n",
      "  % self.max_iter, ConvergenceWarning)\n"
     ]
    },
    {
     "data": {
      "application/vnd.jupyter.widget-view+json": {
       "model_id": "",
       "version_major": 2,
       "version_minor": 0
      },
      "text/plain": [
       "HBox(children=(FloatProgress(value=0.0, max=5.0), HTML(value='')))"
      ]
     },
     "metadata": {},
     "output_type": "display_data"
    },
    {
     "data": {
      "application/vnd.jupyter.widget-view+json": {
       "model_id": "",
       "version_major": 2,
       "version_minor": 0
      },
      "text/plain": [
       "HBox(children=(FloatProgress(value=0.0, max=1.0), HTML(value='')))"
      ]
     },
     "metadata": {},
     "output_type": "display_data"
    },
    {
     "name": "stderr",
     "output_type": "stream",
     "text": [
      "C:\\Users\\user\\anaconda3\\lib\\site-packages\\sklearn\\neural_network\\_multilayer_perceptron.py:571: ConvergenceWarning: Stochastic Optimizer: Maximum iterations (200) reached and the optimization hasn't converged yet.\n",
      "  % self.max_iter, ConvergenceWarning)\n"
     ]
    },
    {
     "data": {
      "application/vnd.jupyter.widget-view+json": {
       "model_id": "",
       "version_major": 2,
       "version_minor": 0
      },
      "text/plain": [
       "HBox(children=(FloatProgress(value=0.0, max=1.0), HTML(value='')))"
      ]
     },
     "metadata": {},
     "output_type": "display_data"
    },
    {
     "name": "stderr",
     "output_type": "stream",
     "text": [
      "C:\\Users\\user\\anaconda3\\lib\\site-packages\\sklearn\\neural_network\\_multilayer_perceptron.py:571: ConvergenceWarning: Stochastic Optimizer: Maximum iterations (200) reached and the optimization hasn't converged yet.\n",
      "  % self.max_iter, ConvergenceWarning)\n"
     ]
    },
    {
     "data": {
      "application/vnd.jupyter.widget-view+json": {
       "model_id": "",
       "version_major": 2,
       "version_minor": 0
      },
      "text/plain": [
       "HBox(children=(FloatProgress(value=0.0, max=1.0), HTML(value='')))"
      ]
     },
     "metadata": {},
     "output_type": "display_data"
    },
    {
     "name": "stderr",
     "output_type": "stream",
     "text": [
      "C:\\Users\\user\\anaconda3\\lib\\site-packages\\sklearn\\neural_network\\_multilayer_perceptron.py:571: ConvergenceWarning: Stochastic Optimizer: Maximum iterations (200) reached and the optimization hasn't converged yet.\n",
      "  % self.max_iter, ConvergenceWarning)\n"
     ]
    },
    {
     "data": {
      "application/vnd.jupyter.widget-view+json": {
       "model_id": "",
       "version_major": 2,
       "version_minor": 0
      },
      "text/plain": [
       "HBox(children=(FloatProgress(value=0.0, max=1.0), HTML(value='')))"
      ]
     },
     "metadata": {},
     "output_type": "display_data"
    },
    {
     "name": "stderr",
     "output_type": "stream",
     "text": [
      "C:\\Users\\user\\anaconda3\\lib\\site-packages\\sklearn\\neural_network\\_multilayer_perceptron.py:571: ConvergenceWarning: Stochastic Optimizer: Maximum iterations (200) reached and the optimization hasn't converged yet.\n",
      "  % self.max_iter, ConvergenceWarning)\n"
     ]
    },
    {
     "data": {
      "application/vnd.jupyter.widget-view+json": {
       "model_id": "",
       "version_major": 2,
       "version_minor": 0
      },
      "text/plain": [
       "HBox(children=(FloatProgress(value=0.0, max=1.0), HTML(value='')))"
      ]
     },
     "metadata": {},
     "output_type": "display_data"
    },
    {
     "name": "stdout",
     "output_type": "stream",
     "text": [
      "((50, 100, 50), 'tanh', 'sgd', 0.05, 'adaptive')\n",
      "{'hidden_layer_sizes': (50, 100, 50), 'activation': 'tanh', 'solver': 'sgd', 'alpha': 0.05, 'learning_rate': 'adaptive'}\n"
     ]
    },
    {
     "name": "stderr",
     "output_type": "stream",
     "text": [
      "C:\\Users\\user\\anaconda3\\lib\\site-packages\\sklearn\\neural_network\\_multilayer_perceptron.py:571: ConvergenceWarning: Stochastic Optimizer: Maximum iterations (200) reached and the optimization hasn't converged yet.\n",
      "  % self.max_iter, ConvergenceWarning)\n"
     ]
    },
    {
     "data": {
      "application/vnd.jupyter.widget-view+json": {
       "model_id": "",
       "version_major": 2,
       "version_minor": 0
      },
      "text/plain": [
       "HBox(children=(FloatProgress(value=0.0, max=5.0), HTML(value='')))"
      ]
     },
     "metadata": {},
     "output_type": "display_data"
    },
    {
     "data": {
      "application/vnd.jupyter.widget-view+json": {
       "model_id": "",
       "version_major": 2,
       "version_minor": 0
      },
      "text/plain": [
       "HBox(children=(FloatProgress(value=0.0, max=1.0), HTML(value='')))"
      ]
     },
     "metadata": {},
     "output_type": "display_data"
    },
    {
     "name": "stderr",
     "output_type": "stream",
     "text": [
      "C:\\Users\\user\\anaconda3\\lib\\site-packages\\sklearn\\neural_network\\_multilayer_perceptron.py:571: ConvergenceWarning: Stochastic Optimizer: Maximum iterations (200) reached and the optimization hasn't converged yet.\n",
      "  % self.max_iter, ConvergenceWarning)\n"
     ]
    },
    {
     "data": {
      "application/vnd.jupyter.widget-view+json": {
       "model_id": "",
       "version_major": 2,
       "version_minor": 0
      },
      "text/plain": [
       "HBox(children=(FloatProgress(value=0.0, max=1.0), HTML(value='')))"
      ]
     },
     "metadata": {},
     "output_type": "display_data"
    },
    {
     "name": "stderr",
     "output_type": "stream",
     "text": [
      "C:\\Users\\user\\anaconda3\\lib\\site-packages\\sklearn\\neural_network\\_multilayer_perceptron.py:571: ConvergenceWarning: Stochastic Optimizer: Maximum iterations (200) reached and the optimization hasn't converged yet.\n",
      "  % self.max_iter, ConvergenceWarning)\n"
     ]
    },
    {
     "data": {
      "application/vnd.jupyter.widget-view+json": {
       "model_id": "",
       "version_major": 2,
       "version_minor": 0
      },
      "text/plain": [
       "HBox(children=(FloatProgress(value=0.0, max=1.0), HTML(value='')))"
      ]
     },
     "metadata": {},
     "output_type": "display_data"
    },
    {
     "name": "stderr",
     "output_type": "stream",
     "text": [
      "C:\\Users\\user\\anaconda3\\lib\\site-packages\\sklearn\\neural_network\\_multilayer_perceptron.py:571: ConvergenceWarning: Stochastic Optimizer: Maximum iterations (200) reached and the optimization hasn't converged yet.\n",
      "  % self.max_iter, ConvergenceWarning)\n"
     ]
    },
    {
     "data": {
      "application/vnd.jupyter.widget-view+json": {
       "model_id": "",
       "version_major": 2,
       "version_minor": 0
      },
      "text/plain": [
       "HBox(children=(FloatProgress(value=0.0, max=1.0), HTML(value='')))"
      ]
     },
     "metadata": {},
     "output_type": "display_data"
    },
    {
     "name": "stderr",
     "output_type": "stream",
     "text": [
      "C:\\Users\\user\\anaconda3\\lib\\site-packages\\sklearn\\neural_network\\_multilayer_perceptron.py:571: ConvergenceWarning: Stochastic Optimizer: Maximum iterations (200) reached and the optimization hasn't converged yet.\n",
      "  % self.max_iter, ConvergenceWarning)\n"
     ]
    },
    {
     "data": {
      "application/vnd.jupyter.widget-view+json": {
       "model_id": "",
       "version_major": 2,
       "version_minor": 0
      },
      "text/plain": [
       "HBox(children=(FloatProgress(value=0.0, max=1.0), HTML(value='')))"
      ]
     },
     "metadata": {},
     "output_type": "display_data"
    },
    {
     "name": "stdout",
     "output_type": "stream",
     "text": [
      "((50, 100, 50), 'tanh', 'adam', 0.0001, 'constant')\n",
      "{'hidden_layer_sizes': (50, 100, 50), 'activation': 'tanh', 'solver': 'adam', 'alpha': 0.0001, 'learning_rate': 'constant'}\n"
     ]
    },
    {
     "name": "stderr",
     "output_type": "stream",
     "text": [
      "C:\\Users\\user\\anaconda3\\lib\\site-packages\\sklearn\\neural_network\\_multilayer_perceptron.py:571: ConvergenceWarning: Stochastic Optimizer: Maximum iterations (200) reached and the optimization hasn't converged yet.\n",
      "  % self.max_iter, ConvergenceWarning)\n"
     ]
    },
    {
     "data": {
      "application/vnd.jupyter.widget-view+json": {
       "model_id": "",
       "version_major": 2,
       "version_minor": 0
      },
      "text/plain": [
       "HBox(children=(FloatProgress(value=0.0, max=5.0), HTML(value='')))"
      ]
     },
     "metadata": {},
     "output_type": "display_data"
    },
    {
     "data": {
      "application/vnd.jupyter.widget-view+json": {
       "model_id": "",
       "version_major": 2,
       "version_minor": 0
      },
      "text/plain": [
       "HBox(children=(FloatProgress(value=0.0, max=1.0), HTML(value='')))"
      ]
     },
     "metadata": {},
     "output_type": "display_data"
    },
    {
     "data": {
      "application/vnd.jupyter.widget-view+json": {
       "model_id": "",
       "version_major": 2,
       "version_minor": 0
      },
      "text/plain": [
       "HBox(children=(FloatProgress(value=0.0, max=1.0), HTML(value='')))"
      ]
     },
     "metadata": {},
     "output_type": "display_data"
    },
    {
     "data": {
      "application/vnd.jupyter.widget-view+json": {
       "model_id": "",
       "version_major": 2,
       "version_minor": 0
      },
      "text/plain": [
       "HBox(children=(FloatProgress(value=0.0, max=1.0), HTML(value='')))"
      ]
     },
     "metadata": {},
     "output_type": "display_data"
    },
    {
     "data": {
      "application/vnd.jupyter.widget-view+json": {
       "model_id": "",
       "version_major": 2,
       "version_minor": 0
      },
      "text/plain": [
       "HBox(children=(FloatProgress(value=0.0, max=1.0), HTML(value='')))"
      ]
     },
     "metadata": {},
     "output_type": "display_data"
    },
    {
     "data": {
      "application/vnd.jupyter.widget-view+json": {
       "model_id": "",
       "version_major": 2,
       "version_minor": 0
      },
      "text/plain": [
       "HBox(children=(FloatProgress(value=0.0, max=1.0), HTML(value='')))"
      ]
     },
     "metadata": {},
     "output_type": "display_data"
    },
    {
     "name": "stdout",
     "output_type": "stream",
     "text": [
      "((50, 100, 50), 'tanh', 'adam', 0.0001, 'adaptive')\n",
      "{'hidden_layer_sizes': (50, 100, 50), 'activation': 'tanh', 'solver': 'adam', 'alpha': 0.0001, 'learning_rate': 'adaptive'}\n"
     ]
    },
    {
     "data": {
      "application/vnd.jupyter.widget-view+json": {
       "model_id": "",
       "version_major": 2,
       "version_minor": 0
      },
      "text/plain": [
       "HBox(children=(FloatProgress(value=0.0, max=5.0), HTML(value='')))"
      ]
     },
     "metadata": {},
     "output_type": "display_data"
    },
    {
     "data": {
      "application/vnd.jupyter.widget-view+json": {
       "model_id": "",
       "version_major": 2,
       "version_minor": 0
      },
      "text/plain": [
       "HBox(children=(FloatProgress(value=0.0, max=1.0), HTML(value='')))"
      ]
     },
     "metadata": {},
     "output_type": "display_data"
    },
    {
     "data": {
      "application/vnd.jupyter.widget-view+json": {
       "model_id": "",
       "version_major": 2,
       "version_minor": 0
      },
      "text/plain": [
       "HBox(children=(FloatProgress(value=0.0, max=1.0), HTML(value='')))"
      ]
     },
     "metadata": {},
     "output_type": "display_data"
    },
    {
     "data": {
      "application/vnd.jupyter.widget-view+json": {
       "model_id": "",
       "version_major": 2,
       "version_minor": 0
      },
      "text/plain": [
       "HBox(children=(FloatProgress(value=0.0, max=1.0), HTML(value='')))"
      ]
     },
     "metadata": {},
     "output_type": "display_data"
    },
    {
     "data": {
      "application/vnd.jupyter.widget-view+json": {
       "model_id": "",
       "version_major": 2,
       "version_minor": 0
      },
      "text/plain": [
       "HBox(children=(FloatProgress(value=0.0, max=1.0), HTML(value='')))"
      ]
     },
     "metadata": {},
     "output_type": "display_data"
    },
    {
     "data": {
      "application/vnd.jupyter.widget-view+json": {
       "model_id": "",
       "version_major": 2,
       "version_minor": 0
      },
      "text/plain": [
       "HBox(children=(FloatProgress(value=0.0, max=1.0), HTML(value='')))"
      ]
     },
     "metadata": {},
     "output_type": "display_data"
    },
    {
     "name": "stdout",
     "output_type": "stream",
     "text": [
      "((50, 100, 50), 'tanh', 'adam', 0.05, 'constant')\n",
      "{'hidden_layer_sizes': (50, 100, 50), 'activation': 'tanh', 'solver': 'adam', 'alpha': 0.05, 'learning_rate': 'constant'}\n"
     ]
    },
    {
     "data": {
      "application/vnd.jupyter.widget-view+json": {
       "model_id": "",
       "version_major": 2,
       "version_minor": 0
      },
      "text/plain": [
       "HBox(children=(FloatProgress(value=0.0, max=5.0), HTML(value='')))"
      ]
     },
     "metadata": {},
     "output_type": "display_data"
    },
    {
     "data": {
      "application/vnd.jupyter.widget-view+json": {
       "model_id": "",
       "version_major": 2,
       "version_minor": 0
      },
      "text/plain": [
       "HBox(children=(FloatProgress(value=0.0, max=1.0), HTML(value='')))"
      ]
     },
     "metadata": {},
     "output_type": "display_data"
    },
    {
     "data": {
      "application/vnd.jupyter.widget-view+json": {
       "model_id": "",
       "version_major": 2,
       "version_minor": 0
      },
      "text/plain": [
       "HBox(children=(FloatProgress(value=0.0, max=1.0), HTML(value='')))"
      ]
     },
     "metadata": {},
     "output_type": "display_data"
    },
    {
     "data": {
      "application/vnd.jupyter.widget-view+json": {
       "model_id": "",
       "version_major": 2,
       "version_minor": 0
      },
      "text/plain": [
       "HBox(children=(FloatProgress(value=0.0, max=1.0), HTML(value='')))"
      ]
     },
     "metadata": {},
     "output_type": "display_data"
    },
    {
     "data": {
      "application/vnd.jupyter.widget-view+json": {
       "model_id": "",
       "version_major": 2,
       "version_minor": 0
      },
      "text/plain": [
       "HBox(children=(FloatProgress(value=0.0, max=1.0), HTML(value='')))"
      ]
     },
     "metadata": {},
     "output_type": "display_data"
    },
    {
     "data": {
      "application/vnd.jupyter.widget-view+json": {
       "model_id": "",
       "version_major": 2,
       "version_minor": 0
      },
      "text/plain": [
       "HBox(children=(FloatProgress(value=0.0, max=1.0), HTML(value='')))"
      ]
     },
     "metadata": {},
     "output_type": "display_data"
    },
    {
     "name": "stdout",
     "output_type": "stream",
     "text": [
      "((50, 100, 50), 'tanh', 'adam', 0.05, 'adaptive')\n",
      "{'hidden_layer_sizes': (50, 100, 50), 'activation': 'tanh', 'solver': 'adam', 'alpha': 0.05, 'learning_rate': 'adaptive'}\n"
     ]
    },
    {
     "data": {
      "application/vnd.jupyter.widget-view+json": {
       "model_id": "",
       "version_major": 2,
       "version_minor": 0
      },
      "text/plain": [
       "HBox(children=(FloatProgress(value=0.0, max=5.0), HTML(value='')))"
      ]
     },
     "metadata": {},
     "output_type": "display_data"
    },
    {
     "data": {
      "application/vnd.jupyter.widget-view+json": {
       "model_id": "",
       "version_major": 2,
       "version_minor": 0
      },
      "text/plain": [
       "HBox(children=(FloatProgress(value=0.0, max=1.0), HTML(value='')))"
      ]
     },
     "metadata": {},
     "output_type": "display_data"
    },
    {
     "data": {
      "application/vnd.jupyter.widget-view+json": {
       "model_id": "",
       "version_major": 2,
       "version_minor": 0
      },
      "text/plain": [
       "HBox(children=(FloatProgress(value=0.0, max=1.0), HTML(value='')))"
      ]
     },
     "metadata": {},
     "output_type": "display_data"
    },
    {
     "data": {
      "application/vnd.jupyter.widget-view+json": {
       "model_id": "",
       "version_major": 2,
       "version_minor": 0
      },
      "text/plain": [
       "HBox(children=(FloatProgress(value=0.0, max=1.0), HTML(value='')))"
      ]
     },
     "metadata": {},
     "output_type": "display_data"
    },
    {
     "data": {
      "application/vnd.jupyter.widget-view+json": {
       "model_id": "",
       "version_major": 2,
       "version_minor": 0
      },
      "text/plain": [
       "HBox(children=(FloatProgress(value=0.0, max=1.0), HTML(value='')))"
      ]
     },
     "metadata": {},
     "output_type": "display_data"
    },
    {
     "data": {
      "application/vnd.jupyter.widget-view+json": {
       "model_id": "",
       "version_major": 2,
       "version_minor": 0
      },
      "text/plain": [
       "HBox(children=(FloatProgress(value=0.0, max=1.0), HTML(value='')))"
      ]
     },
     "metadata": {},
     "output_type": "display_data"
    },
    {
     "name": "stdout",
     "output_type": "stream",
     "text": [
      "((50, 100, 50), 'relu', 'sgd', 0.0001, 'constant')\n",
      "{'hidden_layer_sizes': (50, 100, 50), 'activation': 'relu', 'solver': 'sgd', 'alpha': 0.0001, 'learning_rate': 'constant'}\n"
     ]
    },
    {
     "data": {
      "application/vnd.jupyter.widget-view+json": {
       "model_id": "",
       "version_major": 2,
       "version_minor": 0
      },
      "text/plain": [
       "HBox(children=(FloatProgress(value=0.0, max=5.0), HTML(value='')))"
      ]
     },
     "metadata": {},
     "output_type": "display_data"
    },
    {
     "data": {
      "application/vnd.jupyter.widget-view+json": {
       "model_id": "",
       "version_major": 2,
       "version_minor": 0
      },
      "text/plain": [
       "HBox(children=(FloatProgress(value=0.0, max=1.0), HTML(value='')))"
      ]
     },
     "metadata": {},
     "output_type": "display_data"
    },
    {
     "data": {
      "application/vnd.jupyter.widget-view+json": {
       "model_id": "",
       "version_major": 2,
       "version_minor": 0
      },
      "text/plain": [
       "HBox(children=(FloatProgress(value=0.0, max=1.0), HTML(value='')))"
      ]
     },
     "metadata": {},
     "output_type": "display_data"
    },
    {
     "data": {
      "application/vnd.jupyter.widget-view+json": {
       "model_id": "",
       "version_major": 2,
       "version_minor": 0
      },
      "text/plain": [
       "HBox(children=(FloatProgress(value=0.0, max=1.0), HTML(value='')))"
      ]
     },
     "metadata": {},
     "output_type": "display_data"
    },
    {
     "data": {
      "application/vnd.jupyter.widget-view+json": {
       "model_id": "",
       "version_major": 2,
       "version_minor": 0
      },
      "text/plain": [
       "HBox(children=(FloatProgress(value=0.0, max=1.0), HTML(value='')))"
      ]
     },
     "metadata": {},
     "output_type": "display_data"
    },
    {
     "data": {
      "application/vnd.jupyter.widget-view+json": {
       "model_id": "",
       "version_major": 2,
       "version_minor": 0
      },
      "text/plain": [
       "HBox(children=(FloatProgress(value=0.0, max=1.0), HTML(value='')))"
      ]
     },
     "metadata": {},
     "output_type": "display_data"
    },
    {
     "name": "stdout",
     "output_type": "stream",
     "text": [
      "((50, 100, 50), 'relu', 'sgd', 0.0001, 'adaptive')\n",
      "{'hidden_layer_sizes': (50, 100, 50), 'activation': 'relu', 'solver': 'sgd', 'alpha': 0.0001, 'learning_rate': 'adaptive'}\n"
     ]
    },
    {
     "data": {
      "application/vnd.jupyter.widget-view+json": {
       "model_id": "",
       "version_major": 2,
       "version_minor": 0
      },
      "text/plain": [
       "HBox(children=(FloatProgress(value=0.0, max=5.0), HTML(value='')))"
      ]
     },
     "metadata": {},
     "output_type": "display_data"
    },
    {
     "data": {
      "application/vnd.jupyter.widget-view+json": {
       "model_id": "",
       "version_major": 2,
       "version_minor": 0
      },
      "text/plain": [
       "HBox(children=(FloatProgress(value=0.0, max=1.0), HTML(value='')))"
      ]
     },
     "metadata": {},
     "output_type": "display_data"
    },
    {
     "data": {
      "application/vnd.jupyter.widget-view+json": {
       "model_id": "",
       "version_major": 2,
       "version_minor": 0
      },
      "text/plain": [
       "HBox(children=(FloatProgress(value=0.0, max=1.0), HTML(value='')))"
      ]
     },
     "metadata": {},
     "output_type": "display_data"
    },
    {
     "data": {
      "application/vnd.jupyter.widget-view+json": {
       "model_id": "",
       "version_major": 2,
       "version_minor": 0
      },
      "text/plain": [
       "HBox(children=(FloatProgress(value=0.0, max=1.0), HTML(value='')))"
      ]
     },
     "metadata": {},
     "output_type": "display_data"
    },
    {
     "name": "stderr",
     "output_type": "stream",
     "text": [
      "C:\\Users\\user\\anaconda3\\lib\\site-packages\\sklearn\\neural_network\\_multilayer_perceptron.py:571: ConvergenceWarning: Stochastic Optimizer: Maximum iterations (200) reached and the optimization hasn't converged yet.\n",
      "  % self.max_iter, ConvergenceWarning)\n"
     ]
    },
    {
     "data": {
      "application/vnd.jupyter.widget-view+json": {
       "model_id": "",
       "version_major": 2,
       "version_minor": 0
      },
      "text/plain": [
       "HBox(children=(FloatProgress(value=0.0, max=1.0), HTML(value='')))"
      ]
     },
     "metadata": {},
     "output_type": "display_data"
    },
    {
     "data": {
      "application/vnd.jupyter.widget-view+json": {
       "model_id": "",
       "version_major": 2,
       "version_minor": 0
      },
      "text/plain": [
       "HBox(children=(FloatProgress(value=0.0, max=1.0), HTML(value='')))"
      ]
     },
     "metadata": {},
     "output_type": "display_data"
    },
    {
     "name": "stdout",
     "output_type": "stream",
     "text": [
      "((50, 100, 50), 'relu', 'sgd', 0.05, 'constant')\n",
      "{'hidden_layer_sizes': (50, 100, 50), 'activation': 'relu', 'solver': 'sgd', 'alpha': 0.05, 'learning_rate': 'constant'}\n"
     ]
    },
    {
     "data": {
      "application/vnd.jupyter.widget-view+json": {
       "model_id": "",
       "version_major": 2,
       "version_minor": 0
      },
      "text/plain": [
       "HBox(children=(FloatProgress(value=0.0, max=5.0), HTML(value='')))"
      ]
     },
     "metadata": {},
     "output_type": "display_data"
    },
    {
     "data": {
      "application/vnd.jupyter.widget-view+json": {
       "model_id": "",
       "version_major": 2,
       "version_minor": 0
      },
      "text/plain": [
       "HBox(children=(FloatProgress(value=0.0, max=1.0), HTML(value='')))"
      ]
     },
     "metadata": {},
     "output_type": "display_data"
    },
    {
     "data": {
      "application/vnd.jupyter.widget-view+json": {
       "model_id": "",
       "version_major": 2,
       "version_minor": 0
      },
      "text/plain": [
       "HBox(children=(FloatProgress(value=0.0, max=1.0), HTML(value='')))"
      ]
     },
     "metadata": {},
     "output_type": "display_data"
    },
    {
     "data": {
      "application/vnd.jupyter.widget-view+json": {
       "model_id": "",
       "version_major": 2,
       "version_minor": 0
      },
      "text/plain": [
       "HBox(children=(FloatProgress(value=0.0, max=1.0), HTML(value='')))"
      ]
     },
     "metadata": {},
     "output_type": "display_data"
    },
    {
     "data": {
      "application/vnd.jupyter.widget-view+json": {
       "model_id": "",
       "version_major": 2,
       "version_minor": 0
      },
      "text/plain": [
       "HBox(children=(FloatProgress(value=0.0, max=1.0), HTML(value='')))"
      ]
     },
     "metadata": {},
     "output_type": "display_data"
    },
    {
     "data": {
      "application/vnd.jupyter.widget-view+json": {
       "model_id": "",
       "version_major": 2,
       "version_minor": 0
      },
      "text/plain": [
       "HBox(children=(FloatProgress(value=0.0, max=1.0), HTML(value='')))"
      ]
     },
     "metadata": {},
     "output_type": "display_data"
    },
    {
     "name": "stdout",
     "output_type": "stream",
     "text": [
      "((50, 100, 50), 'relu', 'sgd', 0.05, 'adaptive')\n",
      "{'hidden_layer_sizes': (50, 100, 50), 'activation': 'relu', 'solver': 'sgd', 'alpha': 0.05, 'learning_rate': 'adaptive'}\n"
     ]
    },
    {
     "data": {
      "application/vnd.jupyter.widget-view+json": {
       "model_id": "",
       "version_major": 2,
       "version_minor": 0
      },
      "text/plain": [
       "HBox(children=(FloatProgress(value=0.0, max=5.0), HTML(value='')))"
      ]
     },
     "metadata": {},
     "output_type": "display_data"
    },
    {
     "data": {
      "application/vnd.jupyter.widget-view+json": {
       "model_id": "",
       "version_major": 2,
       "version_minor": 0
      },
      "text/plain": [
       "HBox(children=(FloatProgress(value=0.0, max=1.0), HTML(value='')))"
      ]
     },
     "metadata": {},
     "output_type": "display_data"
    },
    {
     "data": {
      "application/vnd.jupyter.widget-view+json": {
       "model_id": "",
       "version_major": 2,
       "version_minor": 0
      },
      "text/plain": [
       "HBox(children=(FloatProgress(value=0.0, max=1.0), HTML(value='')))"
      ]
     },
     "metadata": {},
     "output_type": "display_data"
    },
    {
     "data": {
      "application/vnd.jupyter.widget-view+json": {
       "model_id": "",
       "version_major": 2,
       "version_minor": 0
      },
      "text/plain": [
       "HBox(children=(FloatProgress(value=0.0, max=1.0), HTML(value='')))"
      ]
     },
     "metadata": {},
     "output_type": "display_data"
    },
    {
     "data": {
      "application/vnd.jupyter.widget-view+json": {
       "model_id": "",
       "version_major": 2,
       "version_minor": 0
      },
      "text/plain": [
       "HBox(children=(FloatProgress(value=0.0, max=1.0), HTML(value='')))"
      ]
     },
     "metadata": {},
     "output_type": "display_data"
    },
    {
     "data": {
      "application/vnd.jupyter.widget-view+json": {
       "model_id": "",
       "version_major": 2,
       "version_minor": 0
      },
      "text/plain": [
       "HBox(children=(FloatProgress(value=0.0, max=1.0), HTML(value='')))"
      ]
     },
     "metadata": {},
     "output_type": "display_data"
    },
    {
     "name": "stdout",
     "output_type": "stream",
     "text": [
      "((50, 100, 50), 'relu', 'adam', 0.0001, 'constant')\n",
      "{'hidden_layer_sizes': (50, 100, 50), 'activation': 'relu', 'solver': 'adam', 'alpha': 0.0001, 'learning_rate': 'constant'}\n"
     ]
    },
    {
     "data": {
      "application/vnd.jupyter.widget-view+json": {
       "model_id": "",
       "version_major": 2,
       "version_minor": 0
      },
      "text/plain": [
       "HBox(children=(FloatProgress(value=0.0, max=5.0), HTML(value='')))"
      ]
     },
     "metadata": {},
     "output_type": "display_data"
    },
    {
     "data": {
      "application/vnd.jupyter.widget-view+json": {
       "model_id": "",
       "version_major": 2,
       "version_minor": 0
      },
      "text/plain": [
       "HBox(children=(FloatProgress(value=0.0, max=1.0), HTML(value='')))"
      ]
     },
     "metadata": {},
     "output_type": "display_data"
    },
    {
     "data": {
      "application/vnd.jupyter.widget-view+json": {
       "model_id": "",
       "version_major": 2,
       "version_minor": 0
      },
      "text/plain": [
       "HBox(children=(FloatProgress(value=0.0, max=1.0), HTML(value='')))"
      ]
     },
     "metadata": {},
     "output_type": "display_data"
    },
    {
     "data": {
      "application/vnd.jupyter.widget-view+json": {
       "model_id": "",
       "version_major": 2,
       "version_minor": 0
      },
      "text/plain": [
       "HBox(children=(FloatProgress(value=0.0, max=1.0), HTML(value='')))"
      ]
     },
     "metadata": {},
     "output_type": "display_data"
    },
    {
     "data": {
      "application/vnd.jupyter.widget-view+json": {
       "model_id": "",
       "version_major": 2,
       "version_minor": 0
      },
      "text/plain": [
       "HBox(children=(FloatProgress(value=0.0, max=1.0), HTML(value='')))"
      ]
     },
     "metadata": {},
     "output_type": "display_data"
    },
    {
     "data": {
      "application/vnd.jupyter.widget-view+json": {
       "model_id": "",
       "version_major": 2,
       "version_minor": 0
      },
      "text/plain": [
       "HBox(children=(FloatProgress(value=0.0, max=1.0), HTML(value='')))"
      ]
     },
     "metadata": {},
     "output_type": "display_data"
    },
    {
     "name": "stdout",
     "output_type": "stream",
     "text": [
      "((50, 100, 50), 'relu', 'adam', 0.0001, 'adaptive')\n",
      "{'hidden_layer_sizes': (50, 100, 50), 'activation': 'relu', 'solver': 'adam', 'alpha': 0.0001, 'learning_rate': 'adaptive'}\n"
     ]
    },
    {
     "data": {
      "application/vnd.jupyter.widget-view+json": {
       "model_id": "",
       "version_major": 2,
       "version_minor": 0
      },
      "text/plain": [
       "HBox(children=(FloatProgress(value=0.0, max=5.0), HTML(value='')))"
      ]
     },
     "metadata": {},
     "output_type": "display_data"
    },
    {
     "data": {
      "application/vnd.jupyter.widget-view+json": {
       "model_id": "",
       "version_major": 2,
       "version_minor": 0
      },
      "text/plain": [
       "HBox(children=(FloatProgress(value=0.0, max=1.0), HTML(value='')))"
      ]
     },
     "metadata": {},
     "output_type": "display_data"
    },
    {
     "data": {
      "application/vnd.jupyter.widget-view+json": {
       "model_id": "",
       "version_major": 2,
       "version_minor": 0
      },
      "text/plain": [
       "HBox(children=(FloatProgress(value=0.0, max=1.0), HTML(value='')))"
      ]
     },
     "metadata": {},
     "output_type": "display_data"
    },
    {
     "data": {
      "application/vnd.jupyter.widget-view+json": {
       "model_id": "",
       "version_major": 2,
       "version_minor": 0
      },
      "text/plain": [
       "HBox(children=(FloatProgress(value=0.0, max=1.0), HTML(value='')))"
      ]
     },
     "metadata": {},
     "output_type": "display_data"
    },
    {
     "data": {
      "application/vnd.jupyter.widget-view+json": {
       "model_id": "",
       "version_major": 2,
       "version_minor": 0
      },
      "text/plain": [
       "HBox(children=(FloatProgress(value=0.0, max=1.0), HTML(value='')))"
      ]
     },
     "metadata": {},
     "output_type": "display_data"
    },
    {
     "data": {
      "application/vnd.jupyter.widget-view+json": {
       "model_id": "",
       "version_major": 2,
       "version_minor": 0
      },
      "text/plain": [
       "HBox(children=(FloatProgress(value=0.0, max=1.0), HTML(value='')))"
      ]
     },
     "metadata": {},
     "output_type": "display_data"
    },
    {
     "name": "stdout",
     "output_type": "stream",
     "text": [
      "((50, 100, 50), 'relu', 'adam', 0.05, 'constant')\n",
      "{'hidden_layer_sizes': (50, 100, 50), 'activation': 'relu', 'solver': 'adam', 'alpha': 0.05, 'learning_rate': 'constant'}\n"
     ]
    },
    {
     "data": {
      "application/vnd.jupyter.widget-view+json": {
       "model_id": "627d7e2179ee4f5e9c3e6b4ab6874209",
       "version_major": 2,
       "version_minor": 0
      },
      "text/plain": [
       "HBox(children=(FloatProgress(value=0.0, max=5.0), HTML(value='')))"
      ]
     },
     "metadata": {},
     "output_type": "display_data"
    },
    {
     "data": {
      "application/vnd.jupyter.widget-view+json": {
       "model_id": "",
       "version_major": 2,
       "version_minor": 0
      },
      "text/plain": [
       "HBox(children=(FloatProgress(value=0.0, max=1.0), HTML(value='')))"
      ]
     },
     "metadata": {},
     "output_type": "display_data"
    },
    {
     "name": "stderr",
     "output_type": "stream",
     "text": [
      "C:\\Users\\user\\anaconda3\\lib\\site-packages\\sklearn\\neural_network\\_multilayer_perceptron.py:571: ConvergenceWarning: Stochastic Optimizer: Maximum iterations (200) reached and the optimization hasn't converged yet.\n",
      "  % self.max_iter, ConvergenceWarning)\n"
     ]
    },
    {
     "data": {
      "application/vnd.jupyter.widget-view+json": {
       "model_id": "1f816a035dc04cc2b02843b5c93e6972",
       "version_major": 2,
       "version_minor": 0
      },
      "text/plain": [
       "HBox(children=(FloatProgress(value=0.0, max=1.0), HTML(value='')))"
      ]
     },
     "metadata": {},
     "output_type": "display_data"
    }
   ],
   "source": [
    "import scipy\n",
    "from itertools import product\n",
    "def benchmark_classifiers_twofeaturesets(composers1, composers2, range1, range2, classifier, vectorizer, n=1):\n",
    "    #print('duration n-gram range:', range1, 'chord n-gram range:', range2)\n",
    "    X1, y = build_Xy(composers1, size=n)\n",
    "    X2, y = build_Xy(composers2, size=n)\n",
    "    cv_result = crossvalidate_twofeaturesets(X1, X2, y, [classifier], vectorizer, range1, range2)\n",
    "    results = list(cv_result.values())[0]\n",
    "    fones_macro = results[7]\n",
    "    return np.mean(fones_macro)\n",
    "    \n",
    "param_space = [\n",
    "    {\n",
    "        'hidden_layer_sizes': [(50,50,50), (50,100,50), (100,)],\n",
    "        'activation': ['tanh', 'relu'],\n",
    "        'solver': ['sgd', 'adam'],\n",
    "        'alpha': [0.0001, 0.05],\n",
    "        'learning_rate': ['constant','adaptive'],\n",
    "    },\n",
    "    {'C': scipy.stats.expon(scale=100).rvs(4), 'gamma': scipy.stats.expon(scale=.1).rvs(4),\n",
    "          'kernel': ['rbf'], 'class_weight':['balanced', None]},\n",
    "    {'penalty': ['l1','l2'], 'C': 10.0 ** np.arange(-3, 4)},\n",
    "    {'penalty': ['l1','l2'], 'C': 10.0 ** np.arange(-3, 4)},\n",
    "    {'n_neighbors': [1, 2, 3, 4, 6, 8, 11, 20, 40], 'weights': ['distance', 'uniform'], 'p': [1, 2, 3]},\n",
    "    {'n_estimators': [100, 300, 500, 800, 1200], 'max_depth': [5, 8, 15, 25, 30], 'min_samples_split': [2, 5, 10, 15, 100], 'min_samples_leaf': [1, 2, 5, 10],},\n",
    "    {\n",
    "        \"n_estimators\":[5,50,250,500],\n",
    "        \"max_depth\":[1,3,5,7,9],\n",
    "        \"learning_rate\":[0.01,0.1,1,10,100]\n",
    "    } # https://www.datasciencelearner.com/gradient-boosting-hyperparameters-tuning/\n",
    "][0]\n",
    "\n",
    "model_cv = CLASSIFIERS[0]\n",
    "scores = []\n",
    "np.random.seed(42)\n",
    "\n",
    "print(param_space.values())\n",
    "configs = list(product(*param_space.values()))\n",
    "for config in tqdm(configs, unit='config'): \n",
    "    print(config)\n",
    "    print(dict(zip(param_space.keys(), config)))\n",
    "    model_cv = neural_network.MLPClassifier(**dict(zip(param_space.keys(), config)))\n",
    "    score = benchmark_classifiers_twofeaturesets(COMPOSERS1, COMPOSERs, (1,2), (1,2), model_cv, VECTORIZER)\n",
    "    scores.append(score)\n",
    "\n",
    "configs_scores = list(zip(configs, scores))\n",
    "best_config, best_score = max(configs_scores, key=lambda x:x[1])\n",
    "print('Best parameters found:\\n', dict(zip(param_space.keys(), best_config)))\n",
    "\n",
    "#scores = cross_val_score(model_cv, X, y)\n",
    "#print(f'{name:^24} | score = {sum(scores)/len(scores):.3f}\\n')\n",
    "\n",
    "#print(' '.join(f'{score:.3f}' for score in scores))\n",
    "\n",
    "print(f'''\\n\\nWe get a best average classification accuracy of {best_score:.3f}.\n",
    "Compare this with the score for tf-idf on chord frequency later.''')"
   ]
  },
  {
   "cell_type": "code",
   "execution_count": 216,
   "metadata": {},
   "outputs": [
    {
     "name": "stdout",
     "output_type": "stream",
     "text": [
      "composer indices [0, 1]\n",
      "duration n-gram range: (1, 1) chord n-gram range: (1, 2)\n",
      "LinearSVC\n",
      "[[42  8]\n",
      " [ 8 42]]\n",
      "F-measures\n",
      "0.84 (0.0516) & 0.8226 (0.0441)\n",
      "LogisticRegression\n",
      "[[30 20]\n",
      " [20 30]]\n",
      "F-measures\n",
      "0.6 (0.1491) & 0.562 (0.1863)\n",
      "KNeighborsClassifier\n",
      "[[34 16]\n",
      " [16 34]]\n",
      "F-measures\n",
      "0.68 (0.1033) & 0.6564 (0.125)\n",
      "MLPClassifier\n",
      "[[42  8]\n",
      " [ 7 43]]\n",
      "F-measures\n",
      "0.85 (0.085) & 0.8334 (0.0874)\n",
      "RandomForestClassifier\n",
      "[[35 15]\n",
      " [20 30]]\n",
      "F-measures\n",
      "0.65 (0.165) & 0.624 (0.1831)\n",
      "GradientBoostingClassifier\n",
      "[[37 13]\n",
      " [14 36]]\n",
      "F-measures\n",
      "0.73 (0.1418) & 0.7108 (0.1491)\n",
      "-----\n",
      "composer indices [0, 2]\n",
      "duration n-gram range: (1, 1) chord n-gram range: (1, 2)\n",
      "LinearSVC\n",
      "[[42  8]\n",
      " [13 37]]\n",
      "F-measures\n",
      "0.79 (0.0994) & 0.7745 (0.0931)\n",
      "LogisticRegression\n",
      "[[37 13]\n",
      " [22 28]]\n",
      "F-measures\n",
      "0.65 (0.1354) & 0.589 (0.165)\n",
      "KNeighborsClassifier\n",
      "[[38 12]\n",
      " [13 37]]\n",
      "F-measures\n",
      "0.75 (0.178) & 0.7341 (0.1829)\n",
      "MLPClassifier\n",
      "[[39 11]\n",
      " [ 9 41]]\n",
      "F-measures\n",
      "0.8 (0.1054) & 0.7825 (0.1041)\n",
      "RandomForestClassifier\n",
      "[[38 12]\n",
      " [13 37]]\n",
      "F-measures\n",
      "0.75 (0.165) & 0.7264 (0.1771)\n",
      "GradientBoostingClassifier\n",
      "[[40 10]\n",
      " [13 37]]\n",
      "F-measures\n",
      "0.77 (0.1059) & 0.7503 (0.1089)\n",
      "-----\n",
      "composer indices [0, 3]\n",
      "duration n-gram range: (1, 1) chord n-gram range: (1, 2)\n",
      "LinearSVC\n",
      "[[49  1]\n",
      " [ 2 48]]\n",
      "F-measures\n",
      "0.97 (0.0675) & 0.9699 (0.0676)\n",
      "LogisticRegression\n",
      "[[40 10]\n",
      " [ 8 42]]\n",
      "F-measures\n",
      "0.82 (0.1033) & 0.8106 (0.1086)\n",
      "KNeighborsClassifier\n",
      "[[47  3]\n",
      " [ 6 44]]\n",
      "F-measures\n",
      "0.91 (0.1595) & 0.9085 (0.1616)\n",
      "MLPClassifier\n",
      "[[46  4]\n",
      " [ 3 47]]\n",
      "F-measures\n",
      "0.93 (0.1337) & 0.9291 (0.1347)\n",
      "RandomForestClassifier\n",
      "[[43  7]\n",
      " [11 39]]\n",
      "F-measures\n",
      "0.82 (0.1874) & 0.8183 (0.1878)\n",
      "GradientBoostingClassifier\n",
      "[[46  4]\n",
      " [ 7 43]]\n",
      "F-measures\n",
      "0.89 (0.0876) & 0.8889 (0.0885)\n",
      "-----\n",
      "composer indices [1, 2]\n",
      "duration n-gram range: (1, 1) chord n-gram range: (1, 2)\n",
      "LinearSVC\n",
      "[[44  6]\n",
      " [15 35]]\n",
      "F-measures\n",
      "0.79 (0.1287) & 0.7765 (0.1315)\n",
      "LogisticRegression\n",
      "[[42  8]\n",
      " [23 27]]\n",
      "F-measures\n",
      "0.69 (0.1197) & 0.651 (0.1367)\n",
      "KNeighborsClassifier\n",
      "[[38 12]\n",
      " [19 31]]\n",
      "F-measures\n",
      "0.69 (0.137) & 0.6665 (0.1701)\n",
      "MLPClassifier\n",
      "[[38 12]\n",
      " [14 36]]\n",
      "F-measures\n",
      "0.74 (0.1075) & 0.7238 (0.1182)\n",
      "RandomForestClassifier\n",
      "[[36 14]\n",
      " [16 34]]\n",
      "F-measures\n",
      "0.7 (0.1333) & 0.6745 (0.1336)\n",
      "GradientBoostingClassifier\n",
      "[[34 16]\n",
      " [16 34]]\n",
      "F-measures\n",
      "0.68 (0.1549) & 0.669 (0.1593)\n",
      "-----\n",
      "composer indices [1, 3]\n",
      "duration n-gram range: (1, 1) chord n-gram range: (1, 2)\n",
      "LinearSVC\n",
      "[[47  3]\n",
      " [ 2 48]]\n",
      "F-measures\n",
      "0.95 (0.0527) & 0.9421 (0.062)\n",
      "LogisticRegression\n",
      "[[42  8]\n",
      " [ 6 44]]\n",
      "F-measures\n",
      "0.86 (0.0699) & 0.8462 (0.0774)\n",
      "KNeighborsClassifier\n",
      "[[50  0]\n",
      " [13 37]]\n",
      "F-measures\n",
      "0.87 (0.1567) & 0.8668 (0.1593)\n",
      "MLPClassifier\n",
      "[[44  6]\n",
      " [ 5 45]]\n",
      "F-measures\n",
      "0.89 (0.1197) & 0.882 (0.1248)\n",
      "RandomForestClassifier\n",
      "[[42  8]\n",
      " [ 9 41]]\n",
      "F-measures\n",
      "0.83 (0.1059) & 0.8202 (0.1087)\n",
      "GradientBoostingClassifier\n",
      "[[48  2]\n",
      " [ 8 42]]\n",
      "F-measures\n",
      "0.9 (0.0816) & 0.8894 (0.0937)\n",
      "-----\n",
      "composer indices [2, 3]\n",
      "duration n-gram range: (1, 1) chord n-gram range: (1, 2)\n",
      "LinearSVC\n",
      "[[46  4]\n",
      " [ 2 48]]\n",
      "F-measures\n",
      "0.94 (0.0516) & 0.9303 (0.0609)\n",
      "LogisticRegression\n",
      "[[38 12]\n",
      " [15 35]]\n",
      "F-measures\n",
      "0.73 (0.116) & 0.6952 (0.1622)\n",
      "KNeighborsClassifier\n",
      "[[48  2]\n",
      " [18 32]]\n",
      "F-measures\n",
      "0.8 (0.0667) & 0.7523 (0.1429)\n",
      "MLPClassifier\n",
      "[[40 10]\n",
      " [ 9 41]]\n",
      "F-measures\n",
      "0.81 (0.1792) & 0.7831 (0.2074)\n",
      "RandomForestClassifier\n",
      "[[40 10]\n",
      " [14 36]]\n",
      "F-measures\n",
      "0.76 (0.1265) & 0.7257 (0.1687)\n",
      "GradientBoostingClassifier\n",
      "[[44  6]\n",
      " [15 35]]\n",
      "F-measures\n",
      "0.79 (0.1101) & 0.7731 (0.1288)\n",
      "-----\n"
     ]
    }
   ],
   "source": [
    "for indices in combinations(range(len(composers)),2):\n",
    "    print('composer indices', [i for i in indices]) \n",
    "    benchmark_classifiers_twofeaturesets([COMPOSERS1[i] for i in indices],[COMPOSERs[i] for i in indices],(1,1),(1,2),CLASSIFIERS,VECTORIZER)"
   ]
  },
  {
   "cell_type": "code",
   "execution_count": 217,
   "metadata": {
    "scrolled": true
   },
   "outputs": [
    {
     "data": {
      "application/vnd.jupyter.widget-view+json": {
       "model_id": "b2681de1b0bf40dfa09a07d1c5e4d13c",
       "version_major": 2,
       "version_minor": 0
      },
      "text/plain": [
       "HBox(children=(FloatProgress(value=0.0), HTML(value='')))"
      ]
     },
     "metadata": {},
     "output_type": "display_data"
    },
    {
     "name": "stdout",
     "output_type": "stream",
     "text": [
      "duration n-gram range: (1, 1) chord n-gram range: (1, 2)\n",
      "LinearSVC\n",
      "[[40  5  5  0]\n",
      " [ 4 39  5  2]\n",
      " [ 9 11 27  3]\n",
      " [ 2  0  1 47]]\n",
      "F-measures\n",
      "0.765 (0.0851) & 0.735 (0.082)\n",
      "-----\n",
      "duration n-gram range: (1, 1) chord n-gram range: (1, 2)\n",
      "LinearSVC\n",
      "[[38  7  5  0]\n",
      " [ 6 35  7  2]\n",
      " [ 9 13 25  3]\n",
      " [ 1  0  1 48]]\n",
      "F-measures\n",
      "0.73 (0.0587) & 0.6993 (0.0911)\n",
      "-----\n",
      "duration n-gram range: (1, 1) chord n-gram range: (1, 2)\n",
      "LinearSVC\n",
      "[[40  5  5  0]\n",
      " [ 6 35  7  2]\n",
      " [ 9 12 27  2]\n",
      " [ 2  0  1 47]]\n",
      "F-measures\n",
      "0.745 (0.0864) & 0.7118 (0.1097)\n",
      "-----\n",
      "duration n-gram range: (1, 1) chord n-gram range: (1, 2)\n",
      "LinearSVC\n",
      "[[40  6  4  0]\n",
      " [ 5 36  7  2]\n",
      " [ 7 12 29  2]\n",
      " [ 1  0  1 48]]\n",
      "F-measures\n",
      "0.765 (0.058) & 0.7463 (0.0574)\n",
      "-----\n",
      "duration n-gram range: (1, 1) chord n-gram range: (1, 2)\n",
      "LinearSVC\n",
      "[[39  6  5  0]\n",
      " [ 7 36  5  2]\n",
      " [10 12 25  3]\n",
      " [ 1  0  2 47]]\n",
      "F-measures\n",
      "0.735 (0.1029) & 0.7175 (0.112)\n",
      "-----\n",
      "duration n-gram range: (1, 1) chord n-gram range: (1, 2)\n",
      "LinearSVC\n",
      "[[35  9  6  0]\n",
      " [ 6 36  6  2]\n",
      " [10 12 26  2]\n",
      " [ 3  0  1 46]]\n",
      "F-measures\n",
      "0.715 (0.1203) & 0.6892 (0.1263)\n",
      "-----\n",
      "duration n-gram range: (1, 1) chord n-gram range: (1, 2)\n",
      "LinearSVC\n",
      "[[40  5  4  1]\n",
      " [ 4 36  8  2]\n",
      " [10 10 26  4]\n",
      " [ 2  0  1 47]]\n",
      "F-measures\n",
      "0.745 (0.0926) & 0.7265 (0.0923)\n",
      "-----\n",
      "duration n-gram range: (1, 1) chord n-gram range: (1, 2)\n",
      "LinearSVC\n",
      "[[37  7  5  1]\n",
      " [ 6 34  8  2]\n",
      " [ 8 12 28  2]\n",
      " [ 2  0  1 47]]\n",
      "F-measures\n",
      "0.73 (0.1059) & 0.6984 (0.1276)\n",
      "-----\n",
      "duration n-gram range: (1, 1) chord n-gram range: (1, 2)\n",
      "LinearSVC\n",
      "[[39  5  6  0]\n",
      " [ 6 37  6  1]\n",
      " [ 9 13 25  3]\n",
      " [ 2  0  1 47]]\n",
      "F-measures\n",
      "0.74 (0.0699) & 0.7137 (0.0789)\n",
      "-----\n",
      "duration n-gram range: (1, 1) chord n-gram range: (1, 2)\n",
      "LinearSVC\n",
      "[[37  7  5  1]\n",
      " [ 7 35  7  1]\n",
      " [10 12 25  3]\n",
      " [ 1  0  1 48]]\n",
      "F-measures\n",
      "0.725 (0.0858) & 0.6863 (0.1164)\n",
      "-----\n",
      "duration n-gram range: (1, 1) chord n-gram range: (1, 2)\n",
      "LinearSVC\n",
      "[[39  6  5  0]\n",
      " [ 7 34  7  2]\n",
      " [ 8 13 26  3]\n",
      " [ 1  0  1 48]]\n",
      "F-measures\n",
      "0.735 (0.0914) & 0.7079 (0.1005)\n",
      "-----\n",
      "duration n-gram range: (1, 1) chord n-gram range: (1, 2)\n",
      "LinearSVC\n",
      "[[37  6  7  0]\n",
      " [ 7 34  7  2]\n",
      " [12 12 24  2]\n",
      " [ 2  0  1 47]]\n",
      "F-measures\n",
      "0.71 (0.0937) & 0.6946 (0.0884)\n",
      "-----\n",
      "duration n-gram range: (1, 1) chord n-gram range: (1, 2)\n",
      "LinearSVC\n",
      "[[40  5  5  0]\n",
      " [ 5 39  4  2]\n",
      " [10 12 26  2]\n",
      " [ 2  0  1 47]]\n",
      "F-measures\n",
      "0.76 (0.0876) & 0.6986 (0.116)\n",
      "-----\n",
      "duration n-gram range: (1, 1) chord n-gram range: (1, 2)\n",
      "LinearSVC\n",
      "[[40  5  5  0]\n",
      " [ 4 38  6  2]\n",
      " [ 8 12 28  2]\n",
      " [ 1  0  1 48]]\n",
      "F-measures\n",
      "0.77 (0.1183) & 0.7367 (0.1237)\n",
      "-----\n",
      "duration n-gram range: (1, 1) chord n-gram range: (1, 2)\n",
      "LinearSVC\n",
      "[[39  5  5  1]\n",
      " [ 8 33  7  2]\n",
      " [10 12 26  2]\n",
      " [ 2  0  1 47]]\n",
      "F-measures\n",
      "0.725 (0.1034) & 0.7053 (0.1066)\n",
      "-----\n",
      "duration n-gram range: (1, 1) chord n-gram range: (1, 2)\n",
      "LinearSVC\n",
      "[[39  6  5  0]\n",
      " [ 5 36  7  2]\n",
      " [ 8 12 28  2]\n",
      " [ 2  0  1 47]]\n",
      "F-measures\n",
      "0.75 (0.0882) & 0.7355 (0.1023)\n",
      "-----\n",
      "duration n-gram range: (1, 1) chord n-gram range: (1, 2)\n",
      "LinearSVC\n",
      "[[39  6  5  0]\n",
      " [ 6 35  7  2]\n",
      " [ 9 13 26  2]\n",
      " [ 2  0  1 47]]\n",
      "F-measures\n",
      "0.735 (0.0709) & 0.7215 (0.0632)\n",
      "-----\n",
      "duration n-gram range: (1, 1) chord n-gram range: (1, 2)\n",
      "LinearSVC\n",
      "[[40  6  4  0]\n",
      " [ 6 35  8  1]\n",
      " [10 13 25  2]\n",
      " [ 1  0  1 48]]\n",
      "F-measures\n",
      "0.74 (0.1049) & 0.7253 (0.1173)\n",
      "-----\n",
      "duration n-gram range: (1, 1) chord n-gram range: (1, 2)\n"
     ]
    },
    {
     "ename": "KeyboardInterrupt",
     "evalue": "",
     "output_type": "error",
     "traceback": [
      "\u001b[1;31m---------------------------------------------------------------------------\u001b[0m",
      "\u001b[1;31mKeyboardInterrupt\u001b[0m                         Traceback (most recent call last)",
      "\u001b[1;32m<ipython-input-217-57496a944e39>\u001b[0m in \u001b[0;36m<module>\u001b[1;34m\u001b[0m\n\u001b[0;32m      7\u001b[0m \u001b[0mappendix\u001b[0m \u001b[1;33m=\u001b[0m \u001b[1;33m[\u001b[0m\u001b[1;33m]\u001b[0m\u001b[1;33m\u001b[0m\u001b[1;33m\u001b[0m\u001b[0m\n\u001b[0;32m      8\u001b[0m \u001b[1;32mfor\u001b[0m \u001b[0mi\u001b[0m \u001b[1;32min\u001b[0m \u001b[0mtrange\u001b[0m\u001b[1;33m(\u001b[0m\u001b[1;36m100\u001b[0m\u001b[1;33m)\u001b[0m\u001b[1;33m:\u001b[0m\u001b[1;33m\u001b[0m\u001b[1;33m\u001b[0m\u001b[0m\n\u001b[1;32m----> 9\u001b[1;33m     \u001b[0mappendix\u001b[0m \u001b[1;33m+=\u001b[0m \u001b[0mbenchmark_classifiers_twofeaturesets\u001b[0m\u001b[1;33m(\u001b[0m\u001b[0mCOMPOSERS1\u001b[0m\u001b[1;33m,\u001b[0m \u001b[0mCOMPOSERs\u001b[0m\u001b[1;33m,\u001b[0m \u001b[1;33m(\u001b[0m\u001b[1;36m1\u001b[0m\u001b[1;33m,\u001b[0m\u001b[1;36m1\u001b[0m\u001b[1;33m)\u001b[0m\u001b[1;33m,\u001b[0m \u001b[1;33m(\u001b[0m\u001b[1;36m1\u001b[0m\u001b[1;33m,\u001b[0m\u001b[1;36m2\u001b[0m\u001b[1;33m)\u001b[0m\u001b[1;33m,\u001b[0m \u001b[0mCLASSIFIERS\u001b[0m\u001b[1;33m,\u001b[0m \u001b[0mVECTORIZER\u001b[0m\u001b[1;33m)\u001b[0m\u001b[1;33m\u001b[0m\u001b[1;33m\u001b[0m\u001b[0m\n\u001b[0m\u001b[0;32m     10\u001b[0m \u001b[0mCounter\u001b[0m\u001b[1;33m(\u001b[0m\u001b[0mappendix\u001b[0m\u001b[1;33m)\u001b[0m\u001b[1;33m.\u001b[0m\u001b[0mmost_common\u001b[0m\u001b[1;33m(\u001b[0m\u001b[1;33m)\u001b[0m\u001b[1;33m\u001b[0m\u001b[1;33m\u001b[0m\u001b[0m\n",
      "\u001b[1;32m<ipython-input-37-3ed630835d6f>\u001b[0m in \u001b[0;36mbenchmark_classifiers_twofeaturesets\u001b[1;34m(composers1, composers2, range1, range2, classifiers, vectorizer, n, retrieve_title)\u001b[0m\n\u001b[0;32m      4\u001b[0m     \u001b[0mX1\u001b[0m\u001b[1;33m,\u001b[0m \u001b[0my\u001b[0m \u001b[1;33m=\u001b[0m \u001b[0mbuild_Xy\u001b[0m\u001b[1;33m(\u001b[0m\u001b[0mcomposers1\u001b[0m\u001b[1;33m,\u001b[0m \u001b[0msize\u001b[0m\u001b[1;33m=\u001b[0m\u001b[0mn\u001b[0m\u001b[1;33m)\u001b[0m\u001b[1;33m\u001b[0m\u001b[1;33m\u001b[0m\u001b[0m\n\u001b[0;32m      5\u001b[0m     \u001b[0mX2\u001b[0m\u001b[1;33m,\u001b[0m \u001b[0my\u001b[0m \u001b[1;33m=\u001b[0m \u001b[0mbuild_Xy\u001b[0m\u001b[1;33m(\u001b[0m\u001b[0mcomposers2\u001b[0m\u001b[1;33m,\u001b[0m \u001b[0msize\u001b[0m\u001b[1;33m=\u001b[0m\u001b[0mn\u001b[0m\u001b[1;33m)\u001b[0m\u001b[1;33m\u001b[0m\u001b[1;33m\u001b[0m\u001b[0m\n\u001b[1;32m----> 6\u001b[1;33m     \u001b[0mcv_result\u001b[0m \u001b[1;33m=\u001b[0m \u001b[0mcrossvalidate_twofeaturesets\u001b[0m\u001b[1;33m(\u001b[0m\u001b[0mX1\u001b[0m\u001b[1;33m,\u001b[0m \u001b[0mX2\u001b[0m\u001b[1;33m,\u001b[0m \u001b[0my\u001b[0m\u001b[1;33m,\u001b[0m \u001b[0mclassifiers\u001b[0m\u001b[1;33m,\u001b[0m \u001b[0mvectorizer\u001b[0m\u001b[1;33m,\u001b[0m \u001b[0mrange1\u001b[0m\u001b[1;33m,\u001b[0m \u001b[0mrange2\u001b[0m\u001b[1;33m)\u001b[0m\u001b[1;33m\u001b[0m\u001b[1;33m\u001b[0m\u001b[0m\n\u001b[0m\u001b[0;32m      7\u001b[0m     \u001b[1;32mfor\u001b[0m \u001b[0mclf\u001b[0m\u001b[1;33m,\u001b[0m \u001b[0mresults\u001b[0m \u001b[1;32min\u001b[0m \u001b[0mcv_result\u001b[0m\u001b[1;33m.\u001b[0m\u001b[0mitems\u001b[0m\u001b[1;33m(\u001b[0m\u001b[1;33m)\u001b[0m\u001b[1;33m:\u001b[0m\u001b[1;33m\u001b[0m\u001b[1;33m\u001b[0m\u001b[0m\n\u001b[0;32m      8\u001b[0m         \u001b[0mprint\u001b[0m\u001b[1;33m(\u001b[0m\u001b[0mclf\u001b[0m\u001b[1;33m)\u001b[0m\u001b[1;33m\u001b[0m\u001b[1;33m\u001b[0m\u001b[0m\n",
      "\u001b[1;32m<ipython-input-36-847616d15a66>\u001b[0m in \u001b[0;36mcrossvalidate_twofeaturesets\u001b[1;34m(X_tuple1, X_tuple2, y, classifiers, vectorizer, range1, range2, K)\u001b[0m\n\u001b[0;32m     20\u001b[0m         \u001b[0mX_test_new_tfidf\u001b[0m \u001b[1;33m=\u001b[0m \u001b[0msp\u001b[0m\u001b[1;33m.\u001b[0m\u001b[0mvstack\u001b[0m\u001b[1;33m(\u001b[0m\u001b[1;33m[\u001b[0m\u001b[0mvct1\u001b[0m\u001b[1;33m.\u001b[0m\u001b[0mtransform\u001b[0m\u001b[1;33m(\u001b[0m\u001b[0mnp\u001b[0m\u001b[1;33m.\u001b[0m\u001b[0marray\u001b[0m\u001b[1;33m(\u001b[0m\u001b[1;33m[\u001b[0m\u001b[0mpiece\u001b[0m\u001b[1;33m]\u001b[0m\u001b[1;33m)\u001b[0m\u001b[1;33m)\u001b[0m \u001b[1;32mfor\u001b[0m \u001b[0mpiece\u001b[0m \u001b[1;32min\u001b[0m \u001b[0mX_test_new\u001b[0m\u001b[1;33m]\u001b[0m\u001b[1;33m)\u001b[0m\u001b[1;33m\u001b[0m\u001b[1;33m\u001b[0m\u001b[0m\n\u001b[0;32m     21\u001b[0m         \u001b[0mX_train_tfidf\u001b[0m \u001b[1;33m=\u001b[0m \u001b[0mvct2\u001b[0m\u001b[1;33m.\u001b[0m\u001b[0mfit_transform\u001b[0m\u001b[1;33m(\u001b[0m\u001b[0mX_train\u001b[0m\u001b[1;33m)\u001b[0m\u001b[1;33m\u001b[0m\u001b[1;33m\u001b[0m\u001b[0m\n\u001b[1;32m---> 22\u001b[1;33m         \u001b[0mX_test_tfidf\u001b[0m \u001b[1;33m=\u001b[0m \u001b[0msp\u001b[0m\u001b[1;33m.\u001b[0m\u001b[0mvstack\u001b[0m\u001b[1;33m(\u001b[0m\u001b[1;33m[\u001b[0m\u001b[0mvct2\u001b[0m\u001b[1;33m.\u001b[0m\u001b[0mtransform\u001b[0m\u001b[1;33m(\u001b[0m\u001b[0mnp\u001b[0m\u001b[1;33m.\u001b[0m\u001b[0marray\u001b[0m\u001b[1;33m(\u001b[0m\u001b[1;33m[\u001b[0m\u001b[0mpiece\u001b[0m\u001b[1;33m]\u001b[0m\u001b[1;33m)\u001b[0m\u001b[1;33m)\u001b[0m \u001b[1;32mfor\u001b[0m \u001b[0mpiece\u001b[0m \u001b[1;32min\u001b[0m \u001b[0mX_test\u001b[0m\u001b[1;33m]\u001b[0m\u001b[1;33m)\u001b[0m\u001b[1;33m\u001b[0m\u001b[1;33m\u001b[0m\u001b[0m\n\u001b[0m\u001b[0;32m     23\u001b[0m \u001b[1;33m\u001b[0m\u001b[0m\n\u001b[0;32m     24\u001b[0m         \u001b[0mX_train_tfidf\u001b[0m \u001b[1;33m=\u001b[0m \u001b[0msp\u001b[0m\u001b[1;33m.\u001b[0m\u001b[0mhstack\u001b[0m\u001b[1;33m(\u001b[0m\u001b[1;33m(\u001b[0m\u001b[0mX_train_tfidf\u001b[0m\u001b[1;33m,\u001b[0m \u001b[0mX_train_new_tfidf\u001b[0m\u001b[1;33m)\u001b[0m\u001b[1;33m)\u001b[0m \u001b[1;31m# Merge the two feature sets\u001b[0m\u001b[1;33m\u001b[0m\u001b[1;33m\u001b[0m\u001b[0m\n",
      "\u001b[1;32m<ipython-input-36-847616d15a66>\u001b[0m in \u001b[0;36m<listcomp>\u001b[1;34m(.0)\u001b[0m\n\u001b[0;32m     20\u001b[0m         \u001b[0mX_test_new_tfidf\u001b[0m \u001b[1;33m=\u001b[0m \u001b[0msp\u001b[0m\u001b[1;33m.\u001b[0m\u001b[0mvstack\u001b[0m\u001b[1;33m(\u001b[0m\u001b[1;33m[\u001b[0m\u001b[0mvct1\u001b[0m\u001b[1;33m.\u001b[0m\u001b[0mtransform\u001b[0m\u001b[1;33m(\u001b[0m\u001b[0mnp\u001b[0m\u001b[1;33m.\u001b[0m\u001b[0marray\u001b[0m\u001b[1;33m(\u001b[0m\u001b[1;33m[\u001b[0m\u001b[0mpiece\u001b[0m\u001b[1;33m]\u001b[0m\u001b[1;33m)\u001b[0m\u001b[1;33m)\u001b[0m \u001b[1;32mfor\u001b[0m \u001b[0mpiece\u001b[0m \u001b[1;32min\u001b[0m \u001b[0mX_test_new\u001b[0m\u001b[1;33m]\u001b[0m\u001b[1;33m)\u001b[0m\u001b[1;33m\u001b[0m\u001b[1;33m\u001b[0m\u001b[0m\n\u001b[0;32m     21\u001b[0m         \u001b[0mX_train_tfidf\u001b[0m \u001b[1;33m=\u001b[0m \u001b[0mvct2\u001b[0m\u001b[1;33m.\u001b[0m\u001b[0mfit_transform\u001b[0m\u001b[1;33m(\u001b[0m\u001b[0mX_train\u001b[0m\u001b[1;33m)\u001b[0m\u001b[1;33m\u001b[0m\u001b[1;33m\u001b[0m\u001b[0m\n\u001b[1;32m---> 22\u001b[1;33m         \u001b[0mX_test_tfidf\u001b[0m \u001b[1;33m=\u001b[0m \u001b[0msp\u001b[0m\u001b[1;33m.\u001b[0m\u001b[0mvstack\u001b[0m\u001b[1;33m(\u001b[0m\u001b[1;33m[\u001b[0m\u001b[0mvct2\u001b[0m\u001b[1;33m.\u001b[0m\u001b[0mtransform\u001b[0m\u001b[1;33m(\u001b[0m\u001b[0mnp\u001b[0m\u001b[1;33m.\u001b[0m\u001b[0marray\u001b[0m\u001b[1;33m(\u001b[0m\u001b[1;33m[\u001b[0m\u001b[0mpiece\u001b[0m\u001b[1;33m]\u001b[0m\u001b[1;33m)\u001b[0m\u001b[1;33m)\u001b[0m \u001b[1;32mfor\u001b[0m \u001b[0mpiece\u001b[0m \u001b[1;32min\u001b[0m \u001b[0mX_test\u001b[0m\u001b[1;33m]\u001b[0m\u001b[1;33m)\u001b[0m\u001b[1;33m\u001b[0m\u001b[1;33m\u001b[0m\u001b[0m\n\u001b[0m\u001b[0;32m     23\u001b[0m \u001b[1;33m\u001b[0m\u001b[0m\n\u001b[0;32m     24\u001b[0m         \u001b[0mX_train_tfidf\u001b[0m \u001b[1;33m=\u001b[0m \u001b[0msp\u001b[0m\u001b[1;33m.\u001b[0m\u001b[0mhstack\u001b[0m\u001b[1;33m(\u001b[0m\u001b[1;33m(\u001b[0m\u001b[0mX_train_tfidf\u001b[0m\u001b[1;33m,\u001b[0m \u001b[0mX_train_new_tfidf\u001b[0m\u001b[1;33m)\u001b[0m\u001b[1;33m)\u001b[0m \u001b[1;31m# Merge the two feature sets\u001b[0m\u001b[1;33m\u001b[0m\u001b[1;33m\u001b[0m\u001b[0m\n",
      "\u001b[1;32m~\\anaconda3\\lib\\site-packages\\sklearn\\feature_extraction\\text.py\u001b[0m in \u001b[0;36mtransform\u001b[1;34m(self, raw_documents, copy)\u001b[0m\n\u001b[0;32m   1897\u001b[0m             \u001b[0mwarnings\u001b[0m\u001b[1;33m.\u001b[0m\u001b[0mwarn\u001b[0m\u001b[1;33m(\u001b[0m\u001b[0mmsg\u001b[0m\u001b[1;33m,\u001b[0m \u001b[0mFutureWarning\u001b[0m\u001b[1;33m)\u001b[0m\u001b[1;33m\u001b[0m\u001b[1;33m\u001b[0m\u001b[0m\n\u001b[0;32m   1898\u001b[0m         \u001b[0mX\u001b[0m \u001b[1;33m=\u001b[0m \u001b[0msuper\u001b[0m\u001b[1;33m(\u001b[0m\u001b[1;33m)\u001b[0m\u001b[1;33m.\u001b[0m\u001b[0mtransform\u001b[0m\u001b[1;33m(\u001b[0m\u001b[0mraw_documents\u001b[0m\u001b[1;33m)\u001b[0m\u001b[1;33m\u001b[0m\u001b[1;33m\u001b[0m\u001b[0m\n\u001b[1;32m-> 1899\u001b[1;33m         \u001b[1;32mreturn\u001b[0m \u001b[0mself\u001b[0m\u001b[1;33m.\u001b[0m\u001b[0m_tfidf\u001b[0m\u001b[1;33m.\u001b[0m\u001b[0mtransform\u001b[0m\u001b[1;33m(\u001b[0m\u001b[0mX\u001b[0m\u001b[1;33m,\u001b[0m \u001b[0mcopy\u001b[0m\u001b[1;33m=\u001b[0m\u001b[1;32mFalse\u001b[0m\u001b[1;33m)\u001b[0m\u001b[1;33m\u001b[0m\u001b[1;33m\u001b[0m\u001b[0m\n\u001b[0m\u001b[0;32m   1900\u001b[0m \u001b[1;33m\u001b[0m\u001b[0m\n\u001b[0;32m   1901\u001b[0m     \u001b[1;32mdef\u001b[0m \u001b[0m_more_tags\u001b[0m\u001b[1;33m(\u001b[0m\u001b[0mself\u001b[0m\u001b[1;33m)\u001b[0m\u001b[1;33m:\u001b[0m\u001b[1;33m\u001b[0m\u001b[1;33m\u001b[0m\u001b[0m\n",
      "\u001b[1;32m~\\anaconda3\\lib\\site-packages\\sklearn\\feature_extraction\\text.py\u001b[0m in \u001b[0;36mtransform\u001b[1;34m(self, X, copy)\u001b[0m\n\u001b[0;32m   1503\u001b[0m             \u001b[1;31m# name:\u001b[0m\u001b[1;33m\u001b[0m\u001b[1;33m\u001b[0m\u001b[1;33m\u001b[0m\u001b[0m\n\u001b[0;32m   1504\u001b[0m             check_is_fitted(self, attributes=[\"idf_\"],\n\u001b[1;32m-> 1505\u001b[1;33m                             msg='idf vector is not fitted')\n\u001b[0m\u001b[0;32m   1506\u001b[0m \u001b[1;33m\u001b[0m\u001b[0m\n\u001b[0;32m   1507\u001b[0m             \u001b[0mexpected_n_features\u001b[0m \u001b[1;33m=\u001b[0m \u001b[0mself\u001b[0m\u001b[1;33m.\u001b[0m\u001b[0m_idf_diag\u001b[0m\u001b[1;33m.\u001b[0m\u001b[0mshape\u001b[0m\u001b[1;33m[\u001b[0m\u001b[1;36m0\u001b[0m\u001b[1;33m]\u001b[0m\u001b[1;33m\u001b[0m\u001b[1;33m\u001b[0m\u001b[0m\n",
      "\u001b[1;32m~\\anaconda3\\lib\\site-packages\\sklearn\\utils\\validation.py\u001b[0m in \u001b[0;36mcheck_is_fitted\u001b[1;34m(estimator, attributes, msg, all_or_any)\u001b[0m\n\u001b[0;32m    959\u001b[0m         \u001b[1;32mif\u001b[0m \u001b[1;32mnot\u001b[0m \u001b[0misinstance\u001b[0m\u001b[1;33m(\u001b[0m\u001b[0mattributes\u001b[0m\u001b[1;33m,\u001b[0m \u001b[1;33m(\u001b[0m\u001b[0mlist\u001b[0m\u001b[1;33m,\u001b[0m \u001b[0mtuple\u001b[0m\u001b[1;33m)\u001b[0m\u001b[1;33m)\u001b[0m\u001b[1;33m:\u001b[0m\u001b[1;33m\u001b[0m\u001b[1;33m\u001b[0m\u001b[0m\n\u001b[0;32m    960\u001b[0m             \u001b[0mattributes\u001b[0m \u001b[1;33m=\u001b[0m \u001b[1;33m[\u001b[0m\u001b[0mattributes\u001b[0m\u001b[1;33m]\u001b[0m\u001b[1;33m\u001b[0m\u001b[1;33m\u001b[0m\u001b[0m\n\u001b[1;32m--> 961\u001b[1;33m         \u001b[0mattrs\u001b[0m \u001b[1;33m=\u001b[0m \u001b[0mall_or_any\u001b[0m\u001b[1;33m(\u001b[0m\u001b[1;33m[\u001b[0m\u001b[0mhasattr\u001b[0m\u001b[1;33m(\u001b[0m\u001b[0mestimator\u001b[0m\u001b[1;33m,\u001b[0m \u001b[0mattr\u001b[0m\u001b[1;33m)\u001b[0m \u001b[1;32mfor\u001b[0m \u001b[0mattr\u001b[0m \u001b[1;32min\u001b[0m \u001b[0mattributes\u001b[0m\u001b[1;33m]\u001b[0m\u001b[1;33m)\u001b[0m\u001b[1;33m\u001b[0m\u001b[1;33m\u001b[0m\u001b[0m\n\u001b[0m\u001b[0;32m    962\u001b[0m     \u001b[1;32melse\u001b[0m\u001b[1;33m:\u001b[0m\u001b[1;33m\u001b[0m\u001b[1;33m\u001b[0m\u001b[0m\n\u001b[0;32m    963\u001b[0m         attrs = [v for v in vars(estimator)\n",
      "\u001b[1;32m~\\anaconda3\\lib\\site-packages\\sklearn\\utils\\validation.py\u001b[0m in \u001b[0;36m<listcomp>\u001b[1;34m(.0)\u001b[0m\n\u001b[0;32m    959\u001b[0m         \u001b[1;32mif\u001b[0m \u001b[1;32mnot\u001b[0m \u001b[0misinstance\u001b[0m\u001b[1;33m(\u001b[0m\u001b[0mattributes\u001b[0m\u001b[1;33m,\u001b[0m \u001b[1;33m(\u001b[0m\u001b[0mlist\u001b[0m\u001b[1;33m,\u001b[0m \u001b[0mtuple\u001b[0m\u001b[1;33m)\u001b[0m\u001b[1;33m)\u001b[0m\u001b[1;33m:\u001b[0m\u001b[1;33m\u001b[0m\u001b[1;33m\u001b[0m\u001b[0m\n\u001b[0;32m    960\u001b[0m             \u001b[0mattributes\u001b[0m \u001b[1;33m=\u001b[0m \u001b[1;33m[\u001b[0m\u001b[0mattributes\u001b[0m\u001b[1;33m]\u001b[0m\u001b[1;33m\u001b[0m\u001b[1;33m\u001b[0m\u001b[0m\n\u001b[1;32m--> 961\u001b[1;33m         \u001b[0mattrs\u001b[0m \u001b[1;33m=\u001b[0m \u001b[0mall_or_any\u001b[0m\u001b[1;33m(\u001b[0m\u001b[1;33m[\u001b[0m\u001b[0mhasattr\u001b[0m\u001b[1;33m(\u001b[0m\u001b[0mestimator\u001b[0m\u001b[1;33m,\u001b[0m \u001b[0mattr\u001b[0m\u001b[1;33m)\u001b[0m \u001b[1;32mfor\u001b[0m \u001b[0mattr\u001b[0m \u001b[1;32min\u001b[0m \u001b[0mattributes\u001b[0m\u001b[1;33m]\u001b[0m\u001b[1;33m)\u001b[0m\u001b[1;33m\u001b[0m\u001b[1;33m\u001b[0m\u001b[0m\n\u001b[0m\u001b[0;32m    962\u001b[0m     \u001b[1;32melse\u001b[0m\u001b[1;33m:\u001b[0m\u001b[1;33m\u001b[0m\u001b[1;33m\u001b[0m\u001b[0m\n\u001b[0;32m    963\u001b[0m         attrs = [v for v in vars(estimator)\n",
      "\u001b[1;32m~\\anaconda3\\lib\\site-packages\\sklearn\\feature_extraction\\text.py\u001b[0m in \u001b[0;36midf_\u001b[1;34m(self)\u001b[0m\n\u001b[0;32m   1522\u001b[0m         \u001b[1;31m# if _idf_diag is not set, this will raise an attribute error,\u001b[0m\u001b[1;33m\u001b[0m\u001b[1;33m\u001b[0m\u001b[1;33m\u001b[0m\u001b[0m\n\u001b[0;32m   1523\u001b[0m         \u001b[1;31m# which means hasattr(self, \"idf_\") is False\u001b[0m\u001b[1;33m\u001b[0m\u001b[1;33m\u001b[0m\u001b[1;33m\u001b[0m\u001b[0m\n\u001b[1;32m-> 1524\u001b[1;33m         \u001b[1;32mreturn\u001b[0m \u001b[0mnp\u001b[0m\u001b[1;33m.\u001b[0m\u001b[0mravel\u001b[0m\u001b[1;33m(\u001b[0m\u001b[0mself\u001b[0m\u001b[1;33m.\u001b[0m\u001b[0m_idf_diag\u001b[0m\u001b[1;33m.\u001b[0m\u001b[0msum\u001b[0m\u001b[1;33m(\u001b[0m\u001b[0maxis\u001b[0m\u001b[1;33m=\u001b[0m\u001b[1;36m0\u001b[0m\u001b[1;33m)\u001b[0m\u001b[1;33m)\u001b[0m\u001b[1;33m\u001b[0m\u001b[1;33m\u001b[0m\u001b[0m\n\u001b[0m\u001b[0;32m   1525\u001b[0m \u001b[1;33m\u001b[0m\u001b[0m\n\u001b[0;32m   1526\u001b[0m     \u001b[1;33m@\u001b[0m\u001b[0midf_\u001b[0m\u001b[1;33m.\u001b[0m\u001b[0msetter\u001b[0m\u001b[1;33m\u001b[0m\u001b[1;33m\u001b[0m\u001b[0m\n",
      "\u001b[1;32m~\\anaconda3\\lib\\site-packages\\scipy\\sparse\\compressed.py\u001b[0m in \u001b[0;36msum\u001b[1;34m(self, axis, dtype, out)\u001b[0m\n\u001b[0;32m    609\u001b[0m         \u001b[1;31m# is in {None, -1, 0, 1}\u001b[0m\u001b[1;33m\u001b[0m\u001b[1;33m\u001b[0m\u001b[1;33m\u001b[0m\u001b[0m\n\u001b[0;32m    610\u001b[0m         \u001b[1;32melse\u001b[0m\u001b[1;33m:\u001b[0m\u001b[1;33m\u001b[0m\u001b[1;33m\u001b[0m\u001b[0m\n\u001b[1;32m--> 611\u001b[1;33m             \u001b[1;32mreturn\u001b[0m \u001b[0mspmatrix\u001b[0m\u001b[1;33m.\u001b[0m\u001b[0msum\u001b[0m\u001b[1;33m(\u001b[0m\u001b[0mself\u001b[0m\u001b[1;33m,\u001b[0m \u001b[0maxis\u001b[0m\u001b[1;33m=\u001b[0m\u001b[0maxis\u001b[0m\u001b[1;33m,\u001b[0m \u001b[0mdtype\u001b[0m\u001b[1;33m=\u001b[0m\u001b[0mdtype\u001b[0m\u001b[1;33m,\u001b[0m \u001b[0mout\u001b[0m\u001b[1;33m=\u001b[0m\u001b[0mout\u001b[0m\u001b[1;33m)\u001b[0m\u001b[1;33m\u001b[0m\u001b[1;33m\u001b[0m\u001b[0m\n\u001b[0m\u001b[0;32m    612\u001b[0m \u001b[1;33m\u001b[0m\u001b[0m\n\u001b[0;32m    613\u001b[0m     \u001b[0msum\u001b[0m\u001b[1;33m.\u001b[0m\u001b[0m__doc__\u001b[0m \u001b[1;33m=\u001b[0m \u001b[0mspmatrix\u001b[0m\u001b[1;33m.\u001b[0m\u001b[0msum\u001b[0m\u001b[1;33m.\u001b[0m\u001b[0m__doc__\u001b[0m\u001b[1;33m\u001b[0m\u001b[1;33m\u001b[0m\u001b[0m\n",
      "\u001b[1;32m~\\anaconda3\\lib\\site-packages\\scipy\\sparse\\base.py\u001b[0m in \u001b[0;36msum\u001b[1;34m(self, axis, dtype, out)\u001b[0m\n\u001b[0;32m   1023\u001b[0m             \u001b[1;32mraise\u001b[0m \u001b[0mValueError\u001b[0m\u001b[1;33m(\u001b[0m\u001b[1;34m\"dimensions do not match\"\u001b[0m\u001b[1;33m)\u001b[0m\u001b[1;33m\u001b[0m\u001b[1;33m\u001b[0m\u001b[0m\n\u001b[0;32m   1024\u001b[0m \u001b[1;33m\u001b[0m\u001b[0m\n\u001b[1;32m-> 1025\u001b[1;33m         \u001b[1;32mreturn\u001b[0m \u001b[0mret\u001b[0m\u001b[1;33m.\u001b[0m\u001b[0msum\u001b[0m\u001b[1;33m(\u001b[0m\u001b[0maxis\u001b[0m\u001b[1;33m=\u001b[0m\u001b[1;33m(\u001b[0m\u001b[1;33m)\u001b[0m\u001b[1;33m,\u001b[0m \u001b[0mdtype\u001b[0m\u001b[1;33m=\u001b[0m\u001b[0mdtype\u001b[0m\u001b[1;33m,\u001b[0m \u001b[0mout\u001b[0m\u001b[1;33m=\u001b[0m\u001b[0mout\u001b[0m\u001b[1;33m)\u001b[0m\u001b[1;33m\u001b[0m\u001b[1;33m\u001b[0m\u001b[0m\n\u001b[0m\u001b[0;32m   1026\u001b[0m \u001b[1;33m\u001b[0m\u001b[0m\n\u001b[0;32m   1027\u001b[0m     \u001b[1;32mdef\u001b[0m \u001b[0mmean\u001b[0m\u001b[1;33m(\u001b[0m\u001b[0mself\u001b[0m\u001b[1;33m,\u001b[0m \u001b[0maxis\u001b[0m\u001b[1;33m=\u001b[0m\u001b[1;32mNone\u001b[0m\u001b[1;33m,\u001b[0m \u001b[0mdtype\u001b[0m\u001b[1;33m=\u001b[0m\u001b[1;32mNone\u001b[0m\u001b[1;33m,\u001b[0m \u001b[0mout\u001b[0m\u001b[1;33m=\u001b[0m\u001b[1;32mNone\u001b[0m\u001b[1;33m)\u001b[0m\u001b[1;33m:\u001b[0m\u001b[1;33m\u001b[0m\u001b[1;33m\u001b[0m\u001b[0m\n",
      "\u001b[1;32m~\\anaconda3\\lib\\site-packages\\numpy\\matrixlib\\defmatrix.py\u001b[0m in \u001b[0;36msum\u001b[1;34m(self, axis, dtype, out)\u001b[0m\n\u001b[0;32m    319\u001b[0m \u001b[1;33m\u001b[0m\u001b[0m\n\u001b[0;32m    320\u001b[0m         \"\"\"\n\u001b[1;32m--> 321\u001b[1;33m         \u001b[1;32mreturn\u001b[0m \u001b[0mN\u001b[0m\u001b[1;33m.\u001b[0m\u001b[0mndarray\u001b[0m\u001b[1;33m.\u001b[0m\u001b[0msum\u001b[0m\u001b[1;33m(\u001b[0m\u001b[0mself\u001b[0m\u001b[1;33m,\u001b[0m \u001b[0maxis\u001b[0m\u001b[1;33m,\u001b[0m \u001b[0mdtype\u001b[0m\u001b[1;33m,\u001b[0m \u001b[0mout\u001b[0m\u001b[1;33m,\u001b[0m \u001b[0mkeepdims\u001b[0m\u001b[1;33m=\u001b[0m\u001b[1;32mTrue\u001b[0m\u001b[1;33m)\u001b[0m\u001b[1;33m.\u001b[0m\u001b[0m_collapse\u001b[0m\u001b[1;33m(\u001b[0m\u001b[0maxis\u001b[0m\u001b[1;33m)\u001b[0m\u001b[1;33m\u001b[0m\u001b[1;33m\u001b[0m\u001b[0m\n\u001b[0m\u001b[0;32m    322\u001b[0m \u001b[1;33m\u001b[0m\u001b[0m\n\u001b[0;32m    323\u001b[0m \u001b[1;33m\u001b[0m\u001b[0m\n",
      "\u001b[1;32m~\\anaconda3\\lib\\site-packages\\numpy\\core\\_methods.py\u001b[0m in \u001b[0;36m_sum\u001b[1;34m(a, axis, dtype, out, keepdims, initial, where)\u001b[0m\n\u001b[0;32m     36\u001b[0m def _sum(a, axis=None, dtype=None, out=None, keepdims=False,\n\u001b[0;32m     37\u001b[0m          initial=_NoValue, where=True):\n\u001b[1;32m---> 38\u001b[1;33m     \u001b[1;32mreturn\u001b[0m \u001b[0mumr_sum\u001b[0m\u001b[1;33m(\u001b[0m\u001b[0ma\u001b[0m\u001b[1;33m,\u001b[0m \u001b[0maxis\u001b[0m\u001b[1;33m,\u001b[0m \u001b[0mdtype\u001b[0m\u001b[1;33m,\u001b[0m \u001b[0mout\u001b[0m\u001b[1;33m,\u001b[0m \u001b[0mkeepdims\u001b[0m\u001b[1;33m,\u001b[0m \u001b[0minitial\u001b[0m\u001b[1;33m,\u001b[0m \u001b[0mwhere\u001b[0m\u001b[1;33m)\u001b[0m\u001b[1;33m\u001b[0m\u001b[1;33m\u001b[0m\u001b[0m\n\u001b[0m\u001b[0;32m     39\u001b[0m \u001b[1;33m\u001b[0m\u001b[0m\n\u001b[0;32m     40\u001b[0m def _prod(a, axis=None, dtype=None, out=None, keepdims=False,\n",
      "\u001b[1;32m~\\anaconda3\\lib\\site-packages\\numpy\\matrixlib\\defmatrix.py\u001b[0m in \u001b[0;36m__array_finalize__\u001b[1;34m(self, obj)\u001b[0m\n\u001b[0;32m    167\u001b[0m         \u001b[1;32mreturn\u001b[0m \u001b[0mret\u001b[0m\u001b[1;33m\u001b[0m\u001b[1;33m\u001b[0m\u001b[0m\n\u001b[0;32m    168\u001b[0m \u001b[1;33m\u001b[0m\u001b[0m\n\u001b[1;32m--> 169\u001b[1;33m     \u001b[1;32mdef\u001b[0m \u001b[0m__array_finalize__\u001b[0m\u001b[1;33m(\u001b[0m\u001b[0mself\u001b[0m\u001b[1;33m,\u001b[0m \u001b[0mobj\u001b[0m\u001b[1;33m)\u001b[0m\u001b[1;33m:\u001b[0m\u001b[1;33m\u001b[0m\u001b[1;33m\u001b[0m\u001b[0m\n\u001b[0m\u001b[0;32m    170\u001b[0m         \u001b[0mself\u001b[0m\u001b[1;33m.\u001b[0m\u001b[0m_getitem\u001b[0m \u001b[1;33m=\u001b[0m \u001b[1;32mFalse\u001b[0m\u001b[1;33m\u001b[0m\u001b[1;33m\u001b[0m\u001b[0m\n\u001b[0;32m    171\u001b[0m         \u001b[1;32mif\u001b[0m \u001b[1;33m(\u001b[0m\u001b[0misinstance\u001b[0m\u001b[1;33m(\u001b[0m\u001b[0mobj\u001b[0m\u001b[1;33m,\u001b[0m \u001b[0mmatrix\u001b[0m\u001b[1;33m)\u001b[0m \u001b[1;32mand\u001b[0m \u001b[0mobj\u001b[0m\u001b[1;33m.\u001b[0m\u001b[0m_getitem\u001b[0m\u001b[1;33m)\u001b[0m\u001b[1;33m:\u001b[0m \u001b[1;32mreturn\u001b[0m\u001b[1;33m\u001b[0m\u001b[1;33m\u001b[0m\u001b[0m\n",
      "\u001b[1;31mKeyboardInterrupt\u001b[0m: "
     ]
    }
   ],
   "source": [
    "# Identify the often-misclassified files, using both feature sets\n",
    "# do the experiment 100 times with the best classifier, SVM\n",
    "# then find pieces that are misclassified more than 50% of the time\n",
    "COMPOSERS1 = [BA_T, MO_T, BE_T, DE_T]\n",
    "#COMPOSERS2 = [BACH, BEETHOVEN, DEBUSSY, SCARLATTI, VICTORIA]\n",
    "CLASSIFIERS = [svm.LinearSVC(penalty='l2', C=5, loss='hinge')] # \n",
    "appendix = []\n",
    "for i in trange(100):\n",
    "    appendix += benchmark_classifiers_twofeaturesets(COMPOSERS1, COMPOSERs, (1,1), (1,2), CLASSIFIERS, VECTORIZER)\n",
    "Counter(appendix).most_common()"
   ]
  },
  {
   "cell_type": "code",
   "execution_count": null,
   "metadata": {},
   "outputs": [],
   "source": [
    "X, y = build_Xy(COMPOSERs, size=1)\n",
    "print(X)\n",
    "y"
   ]
  }
 ],
 "metadata": {
  "kernelspec": {
   "display_name": "Python 3",
   "language": "python",
   "name": "python3"
  },
  "language_info": {
   "codemirror_mode": {
    "name": "ipython",
    "version": 3
   },
   "file_extension": ".py",
   "mimetype": "text/x-python",
   "name": "python",
   "nbconvert_exporter": "python",
   "pygments_lexer": "ipython3",
   "version": "3.7.6"
  }
 },
 "nbformat": 4,
 "nbformat_minor": 1
}
